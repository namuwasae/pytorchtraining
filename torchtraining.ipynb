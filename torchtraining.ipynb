{
  "nbformat": 4,
  "nbformat_minor": 0,
  "metadata": {
    "colab": {
      "provenance": [],
      "authorship_tag": "ABX9TyMlx5uTiRfj8qgTaiawhucp",
      "include_colab_link": true
    },
    "kernelspec": {
      "name": "python3",
      "display_name": "Python 3"
    },
    "language_info": {
      "name": "python"
    }
  },
  "cells": [
    {
      "cell_type": "markdown",
      "metadata": {
        "id": "view-in-github",
        "colab_type": "text"
      },
      "source": [
        "<a href=\"https://colab.research.google.com/github/namuwasae/pytorchtraining/blob/main/torchtraining.ipynb\" target=\"_parent\"><img src=\"https://colab.research.google.com/assets/colab-badge.svg\" alt=\"Open In Colab\"/></a>"
      ]
    },
    {
      "cell_type": "code",
      "execution_count": 1,
      "metadata": {
        "id": "_AyUCqKv-kn2"
      },
      "outputs": [],
      "source": [
        "import torch"
      ]
    },
    {
      "cell_type": "code",
      "source": [
        "a = torch.tensor([1,2,3])"
      ],
      "metadata": {
        "id": "IMKi7bxt-yHG"
      },
      "execution_count": null,
      "outputs": []
    },
    {
      "cell_type": "code",
      "source": [
        "print(type(a))\n",
        "print(a.dtype)\n",
        "print(a.shape)"
      ],
      "metadata": {
        "id": "BspDbtOO_Vo0",
        "colab": {
          "base_uri": "https://localhost:8080/"
        },
        "outputId": "41af05db-212c-498d-e425-2319bf0c492b"
      },
      "execution_count": null,
      "outputs": [
        {
          "output_type": "stream",
          "name": "stdout",
          "text": [
            "<class 'torch.Tensor'>\n",
            "torch.int64\n",
            "torch.Size([3])\n"
          ]
        }
      ]
    },
    {
      "cell_type": "code",
      "source": [
        "b = torch.tensor([1,2,3.1,4])"
      ],
      "metadata": {
        "id": "yePLKeddBIj2"
      },
      "execution_count": null,
      "outputs": []
    },
    {
      "cell_type": "code",
      "source": [
        "print(type(b))\n",
        "print(b.dtype)\n",
        "print(b.shape)"
      ],
      "metadata": {
        "id": "MhuNBfbpBT3A",
        "colab": {
          "base_uri": "https://localhost:8080/"
        },
        "outputId": "b677134b-c8d4-4246-c32b-dd147991ac64"
      },
      "execution_count": null,
      "outputs": [
        {
          "output_type": "stream",
          "name": "stdout",
          "text": [
            "<class 'torch.Tensor'>\n",
            "torch.float32\n",
            "torch.Size([4])\n"
          ]
        }
      ]
    },
    {
      "cell_type": "code",
      "source": [
        "A = torch.tensor([[1,2,3],[4,5,6]])"
      ],
      "metadata": {
        "id": "yihUHtWRuBNY"
      },
      "execution_count": null,
      "outputs": []
    },
    {
      "cell_type": "code",
      "source": [
        "print(A.shape)"
      ],
      "metadata": {
        "colab": {
          "base_uri": "https://localhost:8080/"
        },
        "id": "c8y56nd9uT1j",
        "outputId": "0b8e0cd0-bf74-4a30-fd04-3099a4e9f5fa"
      },
      "execution_count": null,
      "outputs": [
        {
          "output_type": "stream",
          "name": "stdout",
          "text": [
            "torch.Size([2, 3])\n"
          ]
        }
      ]
    },
    {
      "cell_type": "code",
      "source": [
        "print(A.ndim)"
      ],
      "metadata": {
        "colab": {
          "base_uri": "https://localhost:8080/"
        },
        "id": "A8R7Uth8vCTh",
        "outputId": "c1ba7395-2db2-4240-a87c-3c4a8329f77d"
      },
      "execution_count": null,
      "outputs": [
        {
          "output_type": "stream",
          "name": "stdout",
          "text": [
            "2\n"
          ]
        }
      ]
    },
    {
      "cell_type": "code",
      "source": [
        "print(A.numel)"
      ],
      "metadata": {
        "colab": {
          "base_uri": "https://localhost:8080/"
        },
        "id": "KW0RNwCRvIyk",
        "outputId": "d2177a07-9ce9-46e6-f77c-4769c7ce7088"
      },
      "execution_count": null,
      "outputs": [
        {
          "output_type": "stream",
          "name": "stdout",
          "text": [
            "<built-in method numel of Tensor object at 0x78906ec7f950>\n"
          ]
        }
      ]
    },
    {
      "cell_type": "code",
      "source": [
        "print(torch.zeros(5))\n",
        "print(torch.zeros_like(A))\n",
        "print(torch.ones(5))\n",
        "print(torch.zeros(3,3))\n",
        "print(torch.arange(3,10,2))\n",
        "print(torch.arange(3,10,0.1))\n",
        "print(torch.linspace(3,10,10))"
      ],
      "metadata": {
        "colab": {
          "base_uri": "https://localhost:8080/"
        },
        "id": "mYMvKRhMvLma",
        "outputId": "7b233e12-f352-4b64-f3f0-b8eaa1a4b7eb"
      },
      "execution_count": null,
      "outputs": [
        {
          "output_type": "stream",
          "name": "stdout",
          "text": [
            "tensor([0., 0., 0., 0., 0.])\n",
            "tensor([[0, 0, 0],\n",
            "        [0, 0, 0]])\n",
            "tensor([1., 1., 1., 1., 1.])\n",
            "tensor([[0., 0., 0.],\n",
            "        [0., 0., 0.],\n",
            "        [0., 0., 0.]])\n",
            "tensor([3, 5, 7, 9])\n",
            "tensor([3.0000, 3.1000, 3.2000, 3.3000, 3.4000, 3.5000, 3.6000, 3.7000, 3.8000,\n",
            "        3.9000, 4.0000, 4.1000, 4.2000, 4.3000, 4.4000, 4.5000, 4.6000, 4.7000,\n",
            "        4.8000, 4.9000, 5.0000, 5.1000, 5.2000, 5.3000, 5.4000, 5.5000, 5.6000,\n",
            "        5.7000, 5.8000, 5.9000, 6.0000, 6.1000, 6.2000, 6.3000, 6.4000, 6.5000,\n",
            "        6.6000, 6.7000, 6.8000, 6.9000, 7.0000, 7.1000, 7.2000, 7.3000, 7.4000,\n",
            "        7.5000, 7.6000, 7.7000, 7.8000, 7.9000, 8.0000, 8.1000, 8.2000, 8.3000,\n",
            "        8.4000, 8.5000, 8.6000, 8.7000, 8.8000, 8.9000, 9.0000, 9.1000, 9.2000,\n",
            "        9.3000, 9.4000, 9.5000, 9.6000, 9.7000, 9.8000, 9.9000])\n",
            "tensor([ 3.0000,  3.7778,  4.5556,  5.3333,  6.1111,  6.8889,  7.6667,  8.4444,\n",
            "         9.2222, 10.0000])\n"
          ]
        }
      ]
    },
    {
      "cell_type": "code",
      "source": [
        "A = torch.tensor([[1,2,3],[4,5,6]])\n",
        "B = torch.tensor([[3,3,3],[5,5,5]])"
      ],
      "metadata": {
        "id": "7vnDbI8IvokO"
      },
      "execution_count": null,
      "outputs": []
    },
    {
      "cell_type": "code",
      "source": [
        "A+B"
      ],
      "metadata": {
        "colab": {
          "base_uri": "https://localhost:8080/"
        },
        "id": "SeMsJlQ7y3sF",
        "outputId": "52b49c2b-7610-4a84-d5a8-73426ce1fcf3"
      },
      "execution_count": null,
      "outputs": [
        {
          "output_type": "execute_result",
          "data": {
            "text/plain": [
              "tensor([[ 4,  5,  6],\n",
              "        [ 9, 10, 11]])"
            ]
          },
          "metadata": {},
          "execution_count": 23
        }
      ]
    },
    {
      "cell_type": "code",
      "source": [
        "A-B"
      ],
      "metadata": {
        "colab": {
          "base_uri": "https://localhost:8080/"
        },
        "id": "FzWPAkY4y4c8",
        "outputId": "041bd245-8c57-4f55-834a-920d1467e6df"
      },
      "execution_count": null,
      "outputs": [
        {
          "output_type": "execute_result",
          "data": {
            "text/plain": [
              "tensor([[-2, -1,  0],\n",
              "        [-1,  0,  1]])"
            ]
          },
          "metadata": {},
          "execution_count": 24
        }
      ]
    },
    {
      "cell_type": "code",
      "source": [
        "C = A*B"
      ],
      "metadata": {
        "id": "yzxrxf4Fy5Dk"
      },
      "execution_count": null,
      "outputs": []
    },
    {
      "cell_type": "code",
      "source": [
        "print(C)"
      ],
      "metadata": {
        "colab": {
          "base_uri": "https://localhost:8080/"
        },
        "id": "SQMcd9WmzBV8",
        "outputId": "b62f30cd-aa4d-4c45-d8d0-499d93712503"
      },
      "execution_count": null,
      "outputs": [
        {
          "output_type": "stream",
          "name": "stdout",
          "text": [
            "tensor([[ 3,  6,  9],\n",
            "        [20, 25, 30]])\n"
          ]
        }
      ]
    },
    {
      "cell_type": "code",
      "source": [
        "D = torch.tensor([[1,2,3],[4,5,6]])\n",
        "D_transpose = torch.transpose(D,0,1)\n",
        "E = D@D_transpose\n",
        "print(E)"
      ],
      "metadata": {
        "colab": {
          "base_uri": "https://localhost:8080/"
        },
        "id": "TFow4lMlzCFs",
        "outputId": "3514339a-2433-49f6-e3eb-041ef6321333"
      },
      "execution_count": null,
      "outputs": [
        {
          "output_type": "stream",
          "name": "stdout",
          "text": [
            "tensor([[14, 32],\n",
            "        [32, 77]])\n"
          ]
        }
      ]
    },
    {
      "cell_type": "markdown",
      "source": [
        "## 인덱싱, 슬라이싱"
      ],
      "metadata": {
        "id": "QJUDaRgu0e3q"
      }
    },
    {
      "cell_type": "code",
      "source": [
        "a = torch.tensor([1,2,3,4,5,6,7,8,9])\n",
        "print(a[3:7])"
      ],
      "metadata": {
        "colab": {
          "base_uri": "https://localhost:8080/"
        },
        "id": "splwyAbgzWOE",
        "outputId": "d94cd10b-1170-48b3-fdfe-7bdad29f7f4f"
      },
      "execution_count": null,
      "outputs": [
        {
          "output_type": "stream",
          "name": "stdout",
          "text": [
            "tensor([4, 5, 6, 7])\n"
          ]
        }
      ]
    },
    {
      "cell_type": "code",
      "source": [
        "# 행렬 인덱싱, 슬라이싱\n",
        "# 행렬의 경우\n",
        "a = torch.tensor([[1,2,3],[4,5,6],[7,8,9]])\n",
        "print(a[1])\n",
        "print(a[1:])"
      ],
      "metadata": {
        "colab": {
          "base_uri": "https://localhost:8080/"
        },
        "id": "RcXGelJZ0iiO",
        "outputId": "eceaff46-92b2-4452-d64d-a4f8de4ca416"
      },
      "execution_count": null,
      "outputs": [
        {
          "output_type": "stream",
          "name": "stdout",
          "text": [
            "tensor([4, 5, 6])\n",
            "tensor([[4, 5, 6],\n",
            "        [7, 8, 9]])\n"
          ]
        }
      ]
    },
    {
      "cell_type": "code",
      "source": [
        "print(a[0][2]) # 0행 2열 원소"
      ],
      "metadata": {
        "colab": {
          "base_uri": "https://localhost:8080/"
        },
        "id": "sYIe8gwH15Ty",
        "outputId": "f9e83ea1-7c96-41c4-aac4-b02364335d73"
      },
      "execution_count": null,
      "outputs": [
        {
          "output_type": "stream",
          "name": "stdout",
          "text": [
            "tensor(3)\n"
          ]
        }
      ]
    },
    {
      "cell_type": "code",
      "source": [
        "print(a[0,2])"
      ],
      "metadata": {
        "colab": {
          "base_uri": "https://localhost:8080/"
        },
        "id": "KDfhwiPb2Dx_",
        "outputId": "0feaed0f-e619-4f5c-d544-f7403351bc15"
      },
      "execution_count": null,
      "outputs": [
        {
          "output_type": "stream",
          "name": "stdout",
          "text": [
            "tensor(3)\n"
          ]
        }
      ]
    },
    {
      "cell_type": "code",
      "source": [
        "# 리스트의 경우\n",
        "B = [[1,2,3,4],[5,6,7,8]]\n",
        "# 이 경우 B는 행렬로 인정이 안됨. 그냥 리스트임. 그래서 B[0][2]이런건 되는데 B[0,2]는 안됨. 텐서가 아니라 그냥 리스트라서.\n",
        "B[0][2]\n",
        "#B[0,2] <-리스트라서 틀린 문법\n"
      ],
      "metadata": {
        "colab": {
          "base_uri": "https://localhost:8080/"
        },
        "id": "S7F34DCP2TnU",
        "outputId": "25f6e31a-3e4f-4e49-be73-02bf853f77b9"
      },
      "execution_count": null,
      "outputs": [
        {
          "output_type": "execute_result",
          "data": {
            "text/plain": [
              "3"
            ]
          },
          "metadata": {},
          "execution_count": 39
        }
      ]
    },
    {
      "cell_type": "code",
      "source": [
        "C = torch.tensor([[1,2,3,4],[5,6,7,8],[9,10,11,12]])\n",
        "print(C[1,0:3:2])         # tensor C에 대해서"
      ],
      "metadata": {
        "colab": {
          "base_uri": "https://localhost:8080/"
        },
        "id": "Nvrh5Lfo3jsP",
        "outputId": "d90c7134-ce52-4a22-c576-e10a4021dba7"
      },
      "execution_count": null,
      "outputs": [
        {
          "output_type": "stream",
          "name": "stdout",
          "text": [
            "tensor([5, 7])\n"
          ]
        }
      ]
    },
    {
      "cell_type": "markdown",
      "source": [
        "뭐가 다를까요?"
      ],
      "metadata": {
        "id": "44KPwjyN5GPY"
      }
    },
    {
      "cell_type": "code",
      "source": [
        "print(C[:,2])     # 이건 모든 행에 대하여 2번째열인 열벡터\n",
        "print(C[:][2])   # 이건 모든 행에 대하여 2번째 열에 속한 원소값"
      ],
      "metadata": {
        "colab": {
          "base_uri": "https://localhost:8080/"
        },
        "id": "wPXHXCxr4QzA",
        "outputId": "6a3ed099-2b3f-47aa-ec85-5e05adc28980"
      },
      "execution_count": null,
      "outputs": [
        {
          "output_type": "stream",
          "name": "stdout",
          "text": [
            "tensor([ 3,  7, 11])\n",
            "tensor([ 9, 10, 11, 12])\n"
          ]
        }
      ]
    },
    {
      "cell_type": "code",
      "source": [
        "A = torch.tensor([ [[1,2,3,4],[5,6,7,8],[9,10,11,12]],[[0,2,4,6],[1,3,5,7],[2,5,8,11]] ]) # 3차원 텐서"
      ],
      "metadata": {
        "id": "x3rFXqaf5ILR"
      },
      "execution_count": null,
      "outputs": []
    },
    {
      "cell_type": "code",
      "source": [
        "print(A.shape) # 대괄호가 늘어날 때마다 왼쪽에 shape 값이 추가됨. 차원이 늘어나니까. 뒤부터 읽으면, 4열! 3행! 짜리가 2개!"
      ],
      "metadata": {
        "colab": {
          "base_uri": "https://localhost:8080/"
        },
        "id": "yRx-WSD86zZe",
        "outputId": "c8ff1612-db2a-436f-ecf8-c17c20b4d9de"
      },
      "execution_count": null,
      "outputs": [
        {
          "output_type": "stream",
          "name": "stdout",
          "text": [
            "torch.Size([2, 3, 4])\n"
          ]
        }
      ]
    },
    {
      "cell_type": "code",
      "source": [
        "a = torch.tensor([1,2,3,4])"
      ],
      "metadata": {
        "id": "jUF3WVE27odV"
      },
      "execution_count": null,
      "outputs": []
    },
    {
      "cell_type": "code",
      "source": [
        "print(a.shape)\n",
        "a = torch.tensor([[1,2,3,4]])\n",
        "print(a.shape)\n",
        "a = torch.tensor([[[1,2,3,4]]])\n",
        "print(a.shape)"
      ],
      "metadata": {
        "colab": {
          "base_uri": "https://localhost:8080/"
        },
        "id": "DPoKqYU-74zu",
        "outputId": "61cd6c67-f666-4cca-df36-65884791ac3c"
      },
      "execution_count": null,
      "outputs": [
        {
          "output_type": "stream",
          "name": "stdout",
          "text": [
            "torch.Size([4])\n",
            "torch.Size([1, 4])\n",
            "torch.Size([1, 1, 4])\n"
          ]
        }
      ]
    },
    {
      "cell_type": "markdown",
      "source": [
        "고급 인덱싱(Advanced Indexing) : 0번째 차원의 인덱스, 1번째 차원의 인덱스, 2번째 차원의 인덱스!"
      ],
      "metadata": {
        "id": "PJhSl83kABLH"
      }
    },
    {
      "cell_type": "code",
      "source": [
        "print(A)\n",
        "E = A[[0,1,1,1],[1,2,1,1],[0,1,0,1]] # 결과값은 텐서로 저장됨\n",
        "print(E)"
      ],
      "metadata": {
        "colab": {
          "base_uri": "https://localhost:8080/"
        },
        "id": "JF6657DN8JZL",
        "outputId": "82e47ed9-1cc4-45b8-c908-b6e1940f12da"
      },
      "execution_count": null,
      "outputs": [
        {
          "output_type": "stream",
          "name": "stdout",
          "text": [
            "tensor([[[ 1,  2,  3,  4],\n",
            "         [ 5,  6,  7,  8],\n",
            "         [ 9, 10, 11, 12]],\n",
            "\n",
            "        [[ 0,  2,  4,  6],\n",
            "         [ 1,  3,  5,  7],\n",
            "         [ 2,  5,  8, 11]]])\n",
            "tensor([5, 5, 1, 3])\n"
          ]
        }
      ]
    },
    {
      "cell_type": "code",
      "source": [
        "F = A[[0,1,1,1],[1,2,1,1]]\n",
        "print(F)"
      ],
      "metadata": {
        "colab": {
          "base_uri": "https://localhost:8080/"
        },
        "id": "-Fnm9yuM-swe",
        "outputId": "616939ad-73cc-438c-92e7-ec433590dff2"
      },
      "execution_count": null,
      "outputs": [
        {
          "output_type": "stream",
          "name": "stdout",
          "text": [
            "tensor([[ 5,  6,  7,  8],\n",
            "        [ 2,  5,  8, 11],\n",
            "        [ 1,  3,  5,  7],\n",
            "        [ 1,  3,  5,  7]])\n"
          ]
        }
      ]
    },
    {
      "cell_type": "code",
      "source": [
        "a = [1,2,3,4,5,6]"
      ],
      "metadata": {
        "id": "0pbx06a5BKo0"
      },
      "execution_count": null,
      "outputs": []
    },
    {
      "cell_type": "code",
      "source": [
        "print(a == 3)"
      ],
      "metadata": {
        "colab": {
          "base_uri": "https://localhost:8080/"
        },
        "id": "8XDkRqS1CM_w",
        "outputId": "59024a5d-1f79-467f-fcf3-a662ecfba3b7"
      },
      "execution_count": null,
      "outputs": [
        {
          "output_type": "stream",
          "name": "stdout",
          "text": [
            "False\n"
          ]
        }
      ]
    },
    {
      "cell_type": "code",
      "source": [
        "A = torch.tensor([1,2,3,4,5,6,7,8])"
      ],
      "metadata": {
        "id": "uAlUSwZcCPJ6"
      },
      "execution_count": null,
      "outputs": []
    },
    {
      "cell_type": "code",
      "source": [
        "print(A==3)"
      ],
      "metadata": {
        "colab": {
          "base_uri": "https://localhost:8080/"
        },
        "id": "piGcVUq9Cc2-",
        "outputId": "814bfc36-9152-4e23-de16-c0ea0c1b813b"
      },
      "execution_count": null,
      "outputs": [
        {
          "output_type": "stream",
          "name": "stdout",
          "text": [
            "tensor([False, False,  True, False, False, False, False, False])\n"
          ]
        }
      ]
    },
    {
      "cell_type": "code",
      "source": [
        "print(A>3)"
      ],
      "metadata": {
        "colab": {
          "base_uri": "https://localhost:8080/"
        },
        "id": "WzwlENJcCdiG",
        "outputId": "7e6a3a17-9506-4e2a-eb0e-b883e0c69b41"
      },
      "execution_count": null,
      "outputs": [
        {
          "output_type": "stream",
          "name": "stdout",
          "text": [
            "tensor([False, False, False,  True,  True,  True,  True,  True])\n"
          ]
        }
      ]
    },
    {
      "cell_type": "code",
      "source": [
        "print(A[A>3])"
      ],
      "metadata": {
        "colab": {
          "base_uri": "https://localhost:8080/"
        },
        "id": "7n_eWV3GCgum",
        "outputId": "cc0b2c72-213b-461d-8d81-723408fecd7d"
      },
      "execution_count": null,
      "outputs": [
        {
          "output_type": "stream",
          "name": "stdout",
          "text": [
            "tensor([4, 5, 6, 7, 8])\n"
          ]
        }
      ]
    },
    {
      "cell_type": "code",
      "source": [
        "A[A>3] = 100 # masking하기 좋다!\n",
        "print(A)"
      ],
      "metadata": {
        "colab": {
          "base_uri": "https://localhost:8080/"
        },
        "id": "5-nNEqkvCiRy",
        "outputId": "df4ab7ec-66a0-4eca-c457-725467b6b523"
      },
      "execution_count": null,
      "outputs": [
        {
          "output_type": "stream",
          "name": "stdout",
          "text": [
            "tensor([  1,   2,   3, 100, 100, 100, 100, 100])\n"
          ]
        }
      ]
    },
    {
      "cell_type": "code",
      "source": [
        "# 바로 위 기능이 이 반복문과 동일\n",
        "# for i in range(A.shape[0]):\n",
        "#   for j in range(A.shape[1]):\n",
        "#     if A[i,j]>3:\n",
        "#       a[i,j] = 100"
      ],
      "metadata": {
        "id": "KwKha_FICut5"
      },
      "execution_count": null,
      "outputs": []
    },
    {
      "cell_type": "code",
      "source": [
        "A = torch.tensor([ [1,2],[3,4],[5,6],[7,8] ])\n",
        "B = torch.tensor([True, False, False, True])\n",
        "print(A[B, 1:2])"
      ],
      "metadata": {
        "colab": {
          "base_uri": "https://localhost:8080/"
        },
        "id": "u4IVi9INDmwz",
        "outputId": "4f418489-da30-4635-baff-edb10127c70a"
      },
      "execution_count": null,
      "outputs": [
        {
          "output_type": "stream",
          "name": "stdout",
          "text": [
            "tensor([[2],\n",
            "        [8]])\n"
          ]
        }
      ]
    },
    {
      "cell_type": "markdown",
      "source": [
        "tensor로 인덱싱"
      ],
      "metadata": {
        "id": "tFfqA8eZnpkK"
      }
    },
    {
      "cell_type": "code",
      "source": [
        "a = torch.tensor([[1,2,3],[4,5,6]])\n",
        "print(a[torch.tensor(1)]) # tensor로 인덱싱"
      ],
      "metadata": {
        "id": "8qE_AoOuFAA7",
        "colab": {
          "base_uri": "https://localhost:8080/"
        },
        "outputId": "d810f495-e8a8-4cf0-8d41-dd61b5027361"
      },
      "execution_count": null,
      "outputs": [
        {
          "output_type": "stream",
          "name": "stdout",
          "text": [
            "tensor([4, 5, 6])\n"
          ]
        }
      ]
    },
    {
      "cell_type": "code",
      "source": [
        "print(a[1]) # 리스트로 인덱싱"
      ],
      "metadata": {
        "colab": {
          "base_uri": "https://localhost:8080/"
        },
        "id": "369pUEsZv0_b",
        "outputId": "10c3c21d-b0a2-4b30-bef8-cebcca618959"
      },
      "execution_count": null,
      "outputs": [
        {
          "output_type": "stream",
          "name": "stdout",
          "text": [
            "tensor([4, 5, 6])\n"
          ]
        }
      ]
    },
    {
      "cell_type": "code",
      "source": [
        "A = a[torch.tensor([[0,0],[1,1]])]\n",
        "print(A\n",
        "      )"
      ],
      "metadata": {
        "colab": {
          "base_uri": "https://localhost:8080/"
        },
        "id": "e1o1naSOwKdw",
        "outputId": "716f5b42-8aa3-42ab-e664-db9abca99632"
      },
      "execution_count": null,
      "outputs": [
        {
          "output_type": "stream",
          "name": "stdout",
          "text": [
            "tensor([[[1, 2, 3],\n",
            "         [1, 2, 3]],\n",
            "\n",
            "        [[4, 5, 6],\n",
            "         [4, 5, 6]]])\n"
          ]
        }
      ]
    },
    {
      "cell_type": "code",
      "source": [
        "print(A.shape)"
      ],
      "metadata": {
        "colab": {
          "base_uri": "https://localhost:8080/"
        },
        "id": "Ky31rBpZwuGT",
        "outputId": "58d41828-387c-4770-f35f-dda1ad601e66"
      },
      "execution_count": null,
      "outputs": [
        {
          "output_type": "stream",
          "name": "stdout",
          "text": [
            "torch.Size([2, 2, 3])\n"
          ]
        }
      ]
    },
    {
      "cell_type": "markdown",
      "source": [
        "이렇게 Advanced Indexing은 segmentation 결과 그림보여줄 때 주로 이용.\n",
        "미리 b = torch.tensor([[255,0,0],[0,255,0],[0,0,255],[255,255,0],[255,0,255]])\n",
        "이렇게 색을 세팅해두고 바로바로 꺼내쓰기 좋다."
      ],
      "metadata": {
        "id": "ma4chNLRxN7O"
      }
    },
    {
      "cell_type": "code",
      "source": [
        "import matplotlib.pyplot as plt"
      ],
      "metadata": {
        "id": "0ZBlbwb1zOgn"
      },
      "execution_count": null,
      "outputs": []
    },
    {
      "cell_type": "code",
      "source": [
        "b = torch.tensor([[255,0,0],[0,255,0],[0,0,255],[255,255,0],[255,0,255]])"
      ],
      "metadata": {
        "id": "5Hg_iWe_xHR2"
      },
      "execution_count": null,
      "outputs": []
    },
    {
      "cell_type": "code",
      "source": [
        "plt.imshow(b[torch.tensor([[0,1],[1,2]])])"
      ],
      "metadata": {
        "colab": {
          "base_uri": "https://localhost:8080/",
          "height": 453
        },
        "id": "7ELLd2BDy7y4",
        "outputId": "d05bc904-d57c-42ac-deb4-a9c3ccf0d60c"
      },
      "execution_count": null,
      "outputs": [
        {
          "output_type": "execute_result",
          "data": {
            "text/plain": [
              "<matplotlib.image.AxesImage at 0x7c05718c2050>"
            ]
          },
          "metadata": {},
          "execution_count": 20
        },
        {
          "output_type": "display_data",
          "data": {
            "text/plain": [
              "<Figure size 640x480 with 1 Axes>"
            ],
            "image/png": "[encoded data removed]"
          },
          "metadata": {}
        }
      ]
    },
    {
      "cell_type": "markdown",
      "source": [
        "문제"
      ],
      "metadata": {
        "id": "47Z7rvEb0g-h"
      }
    },
    {
      "cell_type": "code",
      "source": [
        "a = torch.tensor([[1,2,3],[4,5,6]])\n",
        "print(a)\n",
        "print(\"\\n\")\n",
        "\n",
        "A = a[ torch.tensor([[0,1],[1,1]]) ]\n",
        "print(A)"
      ],
      "metadata": {
        "colab": {
          "base_uri": "https://localhost:8080/"
        },
        "id": "4ugjOLOlzTsR",
        "outputId": "a13caf1f-62c6-4c3a-c81f-78cbcadba1eb"
      },
      "execution_count": null,
      "outputs": [
        {
          "output_type": "stream",
          "name": "stdout",
          "text": [
            "tensor([[1, 2, 3],\n",
            "        [4, 5, 6]])\n",
            "\n",
            "\n",
            "tensor([[[1, 2, 3],\n",
            "         [4, 5, 6]],\n",
            "\n",
            "        [[4, 5, 6],\n",
            "         [4, 5, 6]]])\n"
          ]
        }
      ]
    },
    {
      "cell_type": "code",
      "source": [
        "answer = [[a[0],a[1]],[a[1],a[1]]]\n",
        "print(answer)\n",
        "# 일단 이건 아닌듯하고"
      ],
      "metadata": {
        "colab": {
          "base_uri": "https://localhost:8080/"
        },
        "id": "YKGtbDI90vLB",
        "outputId": "61431e82-b42b-46d6-e13d-9cb46c775b29"
      },
      "execution_count": null,
      "outputs": [
        {
          "output_type": "stream",
          "name": "stdout",
          "text": [
            "[[tensor([1, 2, 3]), tensor([4, 5, 6])], [tensor([4, 5, 6]), tensor([4, 5, 6])]]\n"
          ]
        }
      ]
    },
    {
      "cell_type": "code",
      "source": [
        "# 정답\n",
        "# first of all, 3차원을 인덱싱한다는 사실을 생각하고 시작.\n",
        "# a가 지금 2차원 텐서이므로 앞부분은 행을 따온다\n",
        "# 뒷부분은 열을 따온다\n",
        "B = a[ [[[0,0,0],[1,1,1]],[[1,1,1],[1,1,1]]],[ [[0,1,2],[0,1,2]],[[0,1,2],[0,1,2]]] ]\n",
        "print(B)"
      ],
      "metadata": {
        "colab": {
          "base_uri": "https://localhost:8080/"
        },
        "id": "SIgSjAS33IIk",
        "outputId": "8fb66600-467d-4376-b2e4-45d4decdcab1"
      },
      "execution_count": null,
      "outputs": [
        {
          "output_type": "stream",
          "name": "stdout",
          "text": [
            "tensor([[[1, 2, 3],\n",
            "         [4, 5, 6]],\n",
            "\n",
            "        [[4, 5, 6],\n",
            "         [4, 5, 6]]])\n"
          ]
        }
      ]
    },
    {
      "cell_type": "markdown",
      "source": [
        "PyTorch의 여러 함수들"
      ],
      "metadata": {
        "id": "KecOPb_2MihW"
      }
    },
    {
      "cell_type": "code",
      "source": [
        "A = torch.randn(3,3)\n",
        "print(A)"
      ],
      "metadata": {
        "colab": {
          "base_uri": "https://localhost:8080/"
        },
        "id": "sgQJA-PH3xQv",
        "outputId": "228833e2-776d-41f3-e439-074ba2ea3576"
      },
      "execution_count": null,
      "outputs": [
        {
          "output_type": "stream",
          "name": "stdout",
          "text": [
            "tensor([[ 0.0341,  0.6685, -1.0059],\n",
            "        [-0.3133,  0.9565,  0.2637],\n",
            "        [-1.7823,  0.7439,  0.3267]])\n"
          ]
        }
      ]
    },
    {
      "cell_type": "code",
      "source": [
        "print(torch.abs(A))"
      ],
      "metadata": {
        "colab": {
          "base_uri": "https://localhost:8080/"
        },
        "id": "yHMnUFCvM-7c",
        "outputId": "f4510726-13c3-42b1-89a5-dea969349304"
      },
      "execution_count": null,
      "outputs": [
        {
          "output_type": "stream",
          "name": "stdout",
          "text": [
            "tensor([[0.0341, 0.6685, 1.0059],\n",
            "        [0.3133, 0.9565, 0.2637],\n",
            "        [1.7823, 0.7439, 0.3267]])\n"
          ]
        }
      ]
    },
    {
      "cell_type": "code",
      "source": [
        "print(torch.sqrt(A))"
      ],
      "metadata": {
        "colab": {
          "base_uri": "https://localhost:8080/"
        },
        "id": "MvhIJPihNQc2",
        "outputId": "5127e83d-a5d1-47c6-832a-7aa2181638bf"
      },
      "execution_count": null,
      "outputs": [
        {
          "output_type": "stream",
          "name": "stdout",
          "text": [
            "tensor([[0.1847, 0.8176,    nan],\n",
            "        [   nan, 0.9780, 0.5135],\n",
            "        [   nan, 0.8625, 0.5716]])\n"
          ]
        }
      ]
    },
    {
      "cell_type": "code",
      "source": [
        "print(torch.exp(A))"
      ],
      "metadata": {
        "colab": {
          "base_uri": "https://localhost:8080/"
        },
        "id": "LNk8syMsNT8j",
        "outputId": "402f768c-3703-4866-a532-7595088b6109"
      },
      "execution_count": null,
      "outputs": [
        {
          "output_type": "stream",
          "name": "stdout",
          "text": [
            "tensor([[1.0347, 1.9513, 0.3657],\n",
            "        [0.7310, 2.6025, 1.3017],\n",
            "        [0.1683, 2.1041, 1.3864]])\n"
          ]
        }
      ]
    },
    {
      "cell_type": "code",
      "source": [
        "print(torch.log10(torch.tensor(10)))"
      ],
      "metadata": {
        "colab": {
          "base_uri": "https://localhost:8080/"
        },
        "id": "PENu28aONYR5",
        "outputId": "6c5d0508-3911-4dfc-b280-79c45075c325"
      },
      "execution_count": null,
      "outputs": [
        {
          "output_type": "stream",
          "name": "stdout",
          "text": [
            "tensor(1.)\n"
          ]
        }
      ]
    },
    {
      "cell_type": "code",
      "source": [
        "print(torch.round(A))"
      ],
      "metadata": {
        "colab": {
          "base_uri": "https://localhost:8080/"
        },
        "id": "p80-wJx7Nywb",
        "outputId": "97b278ff-8f32-41a2-eb29-25ab1bef3f09"
      },
      "execution_count": null,
      "outputs": [
        {
          "output_type": "stream",
          "name": "stdout",
          "text": [
            "tensor([[ 0.,  1., -1.],\n",
            "        [-0.,  1.,  0.],\n",
            "        [-2.,  1.,  0.]])\n"
          ]
        }
      ]
    },
    {
      "cell_type": "code",
      "source": [
        "print(torch.round(A,decimals=2))"
      ],
      "metadata": {
        "colab": {
          "base_uri": "https://localhost:8080/"
        },
        "id": "sdqhJeCVOBd9",
        "outputId": "e0f1d571-3ccf-476e-99d7-bf7bd4085edd"
      },
      "execution_count": null,
      "outputs": [
        {
          "output_type": "stream",
          "name": "stdout",
          "text": [
            "tensor([[ 0.0300,  0.6700, -1.0100],\n",
            "        [-0.3100,  0.9600,  0.2600],\n",
            "        [-1.7800,  0.7400,  0.3300]])\n"
          ]
        }
      ]
    },
    {
      "cell_type": "code",
      "source": [
        "print(torch.floor(A))\n",
        "print(torch.ceil(A))"
      ],
      "metadata": {
        "colab": {
          "base_uri": "https://localhost:8080/"
        },
        "id": "e69yRaGJONF_",
        "outputId": "37a5eb2e-f7b1-427d-db1e-bbd1923f9888"
      },
      "execution_count": null,
      "outputs": [
        {
          "output_type": "stream",
          "name": "stdout",
          "text": [
            "tensor([[ 0.,  0., -2.],\n",
            "        [-1.,  0.,  0.],\n",
            "        [-2.,  0.,  0.]])\n",
            "tensor([[ 1.,  1., -1.],\n",
            "        [-0.,  1.,  1.],\n",
            "        [-1.,  1.,  1.]])\n"
          ]
        }
      ]
    },
    {
      "cell_type": "code",
      "source": [
        "print(torch.sin(torch.tensor(torch.pi/6)))"
      ],
      "metadata": {
        "colab": {
          "base_uri": "https://localhost:8080/"
        },
        "id": "6GscDXDdOixc",
        "outputId": "b4c5636f-ab47-4ca4-858a-f18864686cd6"
      },
      "execution_count": null,
      "outputs": [
        {
          "output_type": "stream",
          "name": "stdout",
          "text": [
            "tensor(0.5000)\n"
          ]
        }
      ]
    },
    {
      "cell_type": "code",
      "source": [
        "print(torch.isnan(torch.tensor([1,2,torch.nan,4])))"
      ],
      "metadata": {
        "colab": {
          "base_uri": "https://localhost:8080/"
        },
        "id": "exAiAJ8yOsyt",
        "outputId": "eb857f41-3aaf-4393-a4f0-40fc3a8c9fd4"
      },
      "execution_count": null,
      "outputs": [
        {
          "output_type": "stream",
          "name": "stdout",
          "text": [
            "tensor([False, False,  True, False])\n"
          ]
        }
      ]
    },
    {
      "cell_type": "code",
      "source": [
        "A = torch.randn(3,4)\n",
        "print(A)"
      ],
      "metadata": {
        "id": "Z-WFHXWqPG7s",
        "colab": {
          "base_uri": "https://localhost:8080/"
        },
        "outputId": "3821487f-17d5-4597-e209-b27aadb9addc"
      },
      "execution_count": null,
      "outputs": [
        {
          "output_type": "stream",
          "name": "stdout",
          "text": [
            "tensor([[ 0.2706, -0.1662, -0.0889, -1.1134],\n",
            "        [-1.6739,  0.5404, -0.0299,  0.7276],\n",
            "        [-0.0316, -0.0677,  0.2508, -0.5801]])\n"
          ]
        }
      ]
    },
    {
      "cell_type": "code",
      "source": [
        "print(A.sort(dim=0,descending = True))"
      ],
      "metadata": {
        "colab": {
          "base_uri": "https://localhost:8080/"
        },
        "id": "M6B-sla1kuiz",
        "outputId": "074c3af4-9bd3-4b54-c052-c31f934ee82e"
      },
      "execution_count": null,
      "outputs": [
        {
          "output_type": "stream",
          "name": "stdout",
          "text": [
            "torch.return_types.sort(\n",
            "values=tensor([[ 2.2321,  1.0636,  0.5440,  0.7993],\n",
            "        [-1.5968,  0.4066,  0.4958,  0.5757],\n",
            "        [-1.6892, -1.1744, -0.1461, -1.2456]]),\n",
            "indices=tensor([[1, 1, 2, 2],\n",
            "        [0, 0, 1, 1],\n",
            "        [2, 2, 0, 0]]))\n"
          ]
        }
      ]
    },
    {
      "cell_type": "code",
      "source": [
        "print(torch.mean(A,dim=1))"
      ],
      "metadata": {
        "colab": {
          "base_uri": "https://localhost:8080/"
        },
        "id": "_I9S1xKAnMxP",
        "outputId": "8052f565-98bd-4bfd-d4c1-9d91a59c836b"
      },
      "execution_count": null,
      "outputs": [
        {
          "output_type": "stream",
          "name": "stdout",
          "text": [
            "tensor([-0.2745, -0.1090, -0.1071])\n"
          ]
        }
      ]
    },
    {
      "cell_type": "code",
      "source": [
        "print(A.mean(dim = 1,keepdims=True))\n",
        "print(A.mean(dim=1,keepdims=False))"
      ],
      "metadata": {
        "colab": {
          "base_uri": "https://localhost:8080/"
        },
        "id": "KG5ZF7ldwDJu",
        "outputId": "dd04d9b4-6695-426b-b3a5-49c961ccc2b1"
      },
      "execution_count": null,
      "outputs": [
        {
          "output_type": "stream",
          "name": "stdout",
          "text": [
            "tensor([[-0.2745],\n",
            "        [-0.1090],\n",
            "        [-0.1071]])\n",
            "tensor([-0.2745, -0.1090, -0.1071])\n"
          ]
        }
      ]
    },
    {
      "cell_type": "code",
      "source": [
        "A = torch.randint(1,5,size=(12,))\n",
        "print(A)\n",
        "print(A.shape)"
      ],
      "metadata": {
        "colab": {
          "base_uri": "https://localhost:8080/"
        },
        "id": "8b3jLVMCwQ1R",
        "outputId": "0aa50228-e234-414d-88a8-6c382202e814"
      },
      "execution_count": null,
      "outputs": [
        {
          "output_type": "stream",
          "name": "stdout",
          "text": [
            "tensor([4, 2, 4, 1, 4, 2, 1, 4, 4, 4, 2, 4])\n",
            "torch.Size([12])\n"
          ]
        }
      ]
    },
    {
      "cell_type": "code",
      "source": [
        "B = A.reshape(2,2,3)\n",
        "print(B)\n",
        "print(\"dimension of B = \",B.ndim)"
      ],
      "metadata": {
        "colab": {
          "base_uri": "https://localhost:8080/"
        },
        "id": "edSp3J5AxcaE",
        "outputId": "eba9ca4e-cbd7-4644-925d-bbd996373b00"
      },
      "execution_count": null,
      "outputs": [
        {
          "output_type": "stream",
          "name": "stdout",
          "text": [
            "tensor([[[4, 2, 4],\n",
            "         [1, 4, 2]],\n",
            "\n",
            "        [[1, 4, 4],\n",
            "         [4, 2, 4]]])\n",
            "dimension of B =  3\n"
          ]
        }
      ]
    },
    {
      "cell_type": "code",
      "source": [
        "A = torch.arange(20,)\n",
        "print(A)"
      ],
      "metadata": {
        "colab": {
          "base_uri": "https://localhost:8080/"
        },
        "id": "p9tqd8mrx3j_",
        "outputId": "3e08b836-9a53-4e1b-d1ef-0ef3cd162faf"
      },
      "execution_count": null,
      "outputs": [
        {
          "output_type": "stream",
          "name": "stdout",
          "text": [
            "tensor([ 0,  1,  2,  3,  4,  5,  6,  7,  8,  9, 10, 11, 12, 13, 14, 15, 16, 17,\n",
            "        18, 19])\n"
          ]
        }
      ]
    },
    {
      "cell_type": "code",
      "source": [
        "print(A.reshape(4,-1))\n",
        "print(A.reshape(4,-1).shape)"
      ],
      "metadata": {
        "colab": {
          "base_uri": "https://localhost:8080/"
        },
        "id": "T06n0OSaygft",
        "outputId": "a7873634-fd14-4845-f497-d20babb341d0"
      },
      "execution_count": null,
      "outputs": [
        {
          "output_type": "stream",
          "name": "stdout",
          "text": [
            "tensor([[ 0,  1,  2,  3,  4],\n",
            "        [ 5,  6,  7,  8,  9],\n",
            "        [10, 11, 12, 13, 14],\n",
            "        [15, 16, 17, 18, 19]])\n",
            "torch.Size([4, 5])\n"
          ]
        }
      ]
    },
    {
      "cell_type": "code",
      "source": [
        "# 내적\n",
        "a = torch.tensor([1,3,5])\n",
        "b = torch.tensor([2,4,6])\n",
        "print(a,b)\n",
        "print(torch.sum(a*b))"
      ],
      "metadata": {
        "id": "L_QQKn57yliK",
        "colab": {
          "base_uri": "https://localhost:8080/"
        },
        "outputId": "2d5207eb-9430-47c0-a5fd-7ee6cec2844a"
      },
      "execution_count": null,
      "outputs": [
        {
          "output_type": "stream",
          "name": "stdout",
          "text": [
            "tensor([1, 3, 5]) tensor([2, 4, 6])\n",
            "tensor(44)\n"
          ]
        }
      ]
    },
    {
      "cell_type": "code",
      "source": [
        "a = a.reshape(3,1)\n",
        "b = b.reshape(3,-1)\n",
        "print(a)\n",
        "print(b)"
      ],
      "metadata": {
        "colab": {
          "base_uri": "https://localhost:8080/"
        },
        "id": "XGxlH5ikNt-3",
        "outputId": "24fd38c5-ec9d-4267-ad1e-0ed70e9ddbc4"
      },
      "execution_count": null,
      "outputs": [
        {
          "output_type": "stream",
          "name": "stdout",
          "text": [
            "tensor([[1],\n",
            "        [3],\n",
            "        [5]])\n",
            "tensor([[2],\n",
            "        [4],\n",
            "        [6]])\n"
          ]
        }
      ]
    },
    {
      "cell_type": "code",
      "source": [
        "print(a.transpose(1,0)@b)"
      ],
      "metadata": {
        "colab": {
          "base_uri": "https://localhost:8080/"
        },
        "id": "2ZKL3SJVN50q",
        "outputId": "d1fe92ea-b5fa-48e6-e000-21a069195175"
      },
      "execution_count": null,
      "outputs": [
        {
          "output_type": "stream",
          "name": "stdout",
          "text": [
            "tensor([[44]])\n"
          ]
        }
      ]
    },
    {
      "cell_type": "code",
      "source": [
        "print(a.permute(1,0)@b)"
      ],
      "metadata": {
        "colab": {
          "base_uri": "https://localhost:8080/"
        },
        "id": "xwASKYelN1kH",
        "outputId": "5b532ec0-7328-42b9-f509-09b616ec0f29"
      },
      "execution_count": null,
      "outputs": [
        {
          "output_type": "stream",
          "name": "stdout",
          "text": [
            "tensor([[44]])\n"
          ]
        }
      ]
    },
    {
      "cell_type": "code",
      "source": [
        "A=torch.randn(4,3,6)\n",
        "print(A)"
      ],
      "metadata": {
        "colab": {
          "base_uri": "https://localhost:8080/"
        },
        "id": "I14aYQiqOOVb",
        "outputId": "79f7af1e-250d-4ac6-c5bf-71f800632ac8"
      },
      "execution_count": null,
      "outputs": [
        {
          "output_type": "stream",
          "name": "stdout",
          "text": [
            "tensor([[[ 0.0708,  0.3056, -0.1205,  0.3054,  0.9698,  0.9732],\n",
            "         [ 1.7337,  1.6072,  2.2812,  0.5964,  0.6212,  1.7769],\n",
            "         [ 1.0012,  0.0487, -1.6910,  0.7255,  0.5842, -1.0755]],\n",
            "\n",
            "        [[-1.5275, -1.7566, -0.7622,  1.1737,  0.1480, -1.6089],\n",
            "         [-0.4553, -0.6584,  0.7216,  0.0786, -1.2760, -0.2528],\n",
            "         [-0.6524,  0.7401,  1.8862,  0.2783, -1.6134,  1.4396]],\n",
            "\n",
            "        [[-0.4780,  2.3635, -0.2612, -1.3269,  0.2272,  0.4847],\n",
            "         [ 0.0330, -0.8057,  1.9565,  0.6482, -0.8238, -0.2145],\n",
            "         [-1.4039,  0.4386, -1.9232,  1.0450, -1.6390, -1.6691]],\n",
            "\n",
            "        [[-1.4530,  0.7089,  1.1456,  3.0079,  0.5525,  0.5333],\n",
            "         [ 0.2084, -0.7472, -0.5140,  1.6604, -0.0910, -0.9107],\n",
            "         [-0.3246,  0.8474,  0.9557,  0.1577,  0.1681,  0.3686]]])\n"
          ]
        }
      ]
    },
    {
      "cell_type": "code",
      "source": [
        "print(A.permute(2,1,0)) # 6,3,4 -> 3행 4열짜리 6차원"
      ],
      "metadata": {
        "colab": {
          "base_uri": "https://localhost:8080/"
        },
        "id": "Kk-t-Df8RYL8",
        "outputId": "131b40aa-50de-44ea-96b0-18e59b80c7c6"
      },
      "execution_count": null,
      "outputs": [
        {
          "output_type": "stream",
          "name": "stdout",
          "text": [
            "tensor([[[ 0.0708, -1.5275, -0.4780, -1.4530],\n",
            "         [ 1.7337, -0.4553,  0.0330,  0.2084],\n",
            "         [ 1.0012, -0.6524, -1.4039, -0.3246]],\n",
            "\n",
            "        [[ 0.3056, -1.7566,  2.3635,  0.7089],\n",
            "         [ 1.6072, -0.6584, -0.8057, -0.7472],\n",
            "         [ 0.0487,  0.7401,  0.4386,  0.8474]],\n",
            "\n",
            "        [[-0.1205, -0.7622, -0.2612,  1.1456],\n",
            "         [ 2.2812,  0.7216,  1.9565, -0.5140],\n",
            "         [-1.6910,  1.8862, -1.9232,  0.9557]],\n",
            "\n",
            "        [[ 0.3054,  1.1737, -1.3269,  3.0079],\n",
            "         [ 0.5964,  0.0786,  0.6482,  1.6604],\n",
            "         [ 0.7255,  0.2783,  1.0450,  0.1577]],\n",
            "\n",
            "        [[ 0.9698,  0.1480,  0.2272,  0.5525],\n",
            "         [ 0.6212, -1.2760, -0.8238, -0.0910],\n",
            "         [ 0.5842, -1.6134, -1.6390,  0.1681]],\n",
            "\n",
            "        [[ 0.9732, -1.6089,  0.4847,  0.5333],\n",
            "         [ 1.7769, -0.2528, -0.2145, -0.9107],\n",
            "         [-1.0755,  1.4396, -1.6691,  0.3686]]])\n"
          ]
        }
      ]
    },
    {
      "cell_type": "code",
      "source": [
        "x=torch.randn(2,3,4,5,6)\n",
        "print(x[1,2,...])"
      ],
      "metadata": {
        "colab": {
          "base_uri": "https://localhost:8080/"
        },
        "id": "egk_uszlRh46",
        "outputId": "efaddc53-2d54-46a3-a21c-34be36677536"
      },
      "execution_count": null,
      "outputs": [
        {
          "output_type": "stream",
          "name": "stdout",
          "text": [
            "tensor([[[-0.4749,  1.8242, -0.0356, -0.1049,  1.3443, -1.9123],\n",
            "         [ 1.6128, -0.0444,  0.5711,  1.7919,  1.0720,  0.3009],\n",
            "         [-0.9473,  1.5389,  0.6322,  1.2868, -0.6876,  0.7165],\n",
            "         [-0.1455, -0.2845, -1.3778, -1.0133,  1.0608, -0.0485],\n",
            "         [-0.4328,  0.7953,  0.9770, -0.1392, -0.4860,  0.8962]],\n",
            "\n",
            "        [[ 0.1693, -0.9664,  0.3566, -0.4461, -1.0688, -2.1389],\n",
            "         [ 0.3523, -0.2337,  0.5580, -0.1019,  0.6356,  0.0463],\n",
            "         [-0.0952, -1.0150, -0.3729,  0.8814, -1.2037,  0.3477],\n",
            "         [ 1.4374, -0.5200,  0.6520, -1.7410, -2.1958,  0.5257],\n",
            "         [-1.4122, -1.0976, -1.5224, -0.3216,  0.0496, -0.7435]],\n",
            "\n",
            "        [[-1.5923, -0.1134,  0.9385, -1.6915, -1.6315, -0.7069],\n",
            "         [-0.4868, -0.3595,  0.1471, -1.0085, -0.3778, -0.8636],\n",
            "         [-0.6874,  0.7495, -0.9373, -0.9947, -0.5341,  0.1128],\n",
            "         [-0.2412, -1.1401, -1.1277,  0.0197, -0.8396, -2.6980],\n",
            "         [-1.5732, -2.4179, -1.2999,  1.6949, -0.5703, -0.0222]],\n",
            "\n",
            "        [[ 0.7031, -2.8339,  0.1568, -0.6667,  1.1435, -0.9180],\n",
            "         [ 0.3654, -0.8628, -1.5001,  0.1750, -0.2990, -0.4173],\n",
            "         [-0.2125, -0.3745, -0.2872, -1.1632,  0.2459, -1.0101],\n",
            "         [ 0.0466, -1.6314, -0.0420, -0.4498,  0.8641, -0.2374],\n",
            "         [ 0.4029,  0.4098, -0.4969, -0.0648, -1.5133, -1.1539]]])\n"
          ]
        }
      ]
    },
    {
      "cell_type": "code",
      "source": [
        "# 자주 쓰이는 함수들\n",
        "A = torch.ones(3,4)\n",
        "B = torch.zeros(3,4)\n",
        "C = torch.vstack([A,B]) # vertical stack\n",
        "D = torch.hstack([A,B]) # horizontal stack\n",
        "E = torch.cat([A,B],dim=0)\n",
        "F = torch.cat([A,B],dim=1)\n",
        "print(C)\n",
        "print(B)\n",
        "print(E)\n",
        "print(F)"
      ],
      "metadata": {
        "colab": {
          "base_uri": "https://localhost:8080/"
        },
        "id": "hCSexyF_SlCe",
        "outputId": "6f1af17e-682f-4e43-ab4e-484e6c3aae52"
      },
      "execution_count": null,
      "outputs": [
        {
          "output_type": "stream",
          "name": "stdout",
          "text": [
            "tensor([[1., 1., 1., 1.],\n",
            "        [1., 1., 1., 1.],\n",
            "        [1., 1., 1., 1.],\n",
            "        [0., 0., 0., 0.],\n",
            "        [0., 0., 0., 0.],\n",
            "        [0., 0., 0., 0.]])\n",
            "tensor([[0., 0., 0., 0.],\n",
            "        [0., 0., 0., 0.],\n",
            "        [0., 0., 0., 0.]])\n",
            "tensor([[1., 1., 1., 1.],\n",
            "        [1., 1., 1., 1.],\n",
            "        [1., 1., 1., 1.],\n",
            "        [0., 0., 0., 0.],\n",
            "        [0., 0., 0., 0.],\n",
            "        [0., 0., 0., 0.]])\n",
            "tensor([[1., 1., 1., 1., 0., 0., 0., 0.],\n",
            "        [1., 1., 1., 1., 0., 0., 0., 0.],\n",
            "        [1., 1., 1., 1., 0., 0., 0., 0.]])\n"
          ]
        }
      ]
    },
    {
      "cell_type": "code",
      "source": [
        "# squeeze와 unsqueeze\n",
        "\n",
        "A = torch.randn(1,1,1,3,1,1,1,4,1,1,1)\n",
        "#print(A)\n",
        "print(A.shape)\n",
        "print(A.squeeze(dim=(0,1)).shape)"
      ],
      "metadata": {
        "colab": {
          "base_uri": "https://localhost:8080/"
        },
        "id": "0-scZ86hVksW",
        "outputId": "44b2ff37-426b-4bed-f445-9f9e4a8e2cb6"
      },
      "execution_count": null,
      "outputs": [
        {
          "output_type": "stream",
          "name": "stdout",
          "text": [
            "torch.Size([1, 1, 1, 3, 1, 1, 1, 4, 1, 1, 1])\n",
            "torch.Size([1, 3, 1, 1, 1, 4, 1, 1, 1])\n"
          ]
        }
      ]
    },
    {
      "cell_type": "code",
      "source": [
        "A = torch.randn(3,4)\n",
        "print(A.unsqueeze(dim=1).shape)"
      ],
      "metadata": {
        "colab": {
          "base_uri": "https://localhost:8080/"
        },
        "id": "Vulks4dWXHG7",
        "outputId": "ed350500-5a84-449e-8015-26591aa6e8e1"
      },
      "execution_count": null,
      "outputs": [
        {
          "output_type": "stream",
          "name": "stdout",
          "text": [
            "torch.Size([3, 1, 4])\n"
          ]
        }
      ]
    },
    {
      "cell_type": "code",
      "source": [
        "# unsqueeze 후 합체\n",
        "A = torch.ones(3,4)\n",
        "B = torch.zeros(3,4)\n",
        "A = A.unsqueeze(dim=0)\n",
        "B = B.unsqueeze(dim=0)\n",
        "C = torch.cat([A,B])\n",
        "print(C)\n",
        "print(C.shape)"
      ],
      "metadata": {
        "colab": {
          "base_uri": "https://localhost:8080/"
        },
        "id": "Lci9T8gZXoI9",
        "outputId": "8f95474a-9c11-4f42-8f33-6f467575f4f8"
      },
      "execution_count": null,
      "outputs": [
        {
          "output_type": "stream",
          "name": "stdout",
          "text": [
            "tensor([[[1., 1., 1., 1.],\n",
            "         [1., 1., 1., 1.],\n",
            "         [1., 1., 1., 1.]],\n",
            "\n",
            "        [[0., 0., 0., 0.],\n",
            "         [0., 0., 0., 0.],\n",
            "         [0., 0., 0., 0.]]])\n",
            "torch.Size([2, 3, 4])\n"
          ]
        }
      ]
    },
    {
      "cell_type": "code",
      "source": [
        "# unsqueeze 없이 배치 합체\n",
        "A = torch.ones(3,4)\n",
        "B = torch.zeros(3,4)\n",
        "C = torch.stack([A,B])\n",
        "print(C)\n",
        "print(C.shape)"
      ],
      "metadata": {
        "colab": {
          "base_uri": "https://localhost:8080/"
        },
        "id": "AgibKyUhYYGq",
        "outputId": "162e9a68-2a7a-4184-a5e6-18215e238c8c"
      },
      "execution_count": null,
      "outputs": [
        {
          "output_type": "stream",
          "name": "stdout",
          "text": [
            "tensor([[[1., 1., 1., 1.],\n",
            "         [1., 1., 1., 1.],\n",
            "         [1., 1., 1., 1.]],\n",
            "\n",
            "        [[0., 0., 0., 0.],\n",
            "         [0., 0., 0., 0.],\n",
            "         [0., 0., 0., 0.]]])\n",
            "torch.Size([2, 3, 4])\n"
          ]
        }
      ]
    },
    {
      "cell_type": "code",
      "source": [
        "# clone의 이용\n",
        "A = torch.tensor([[1,2],[3,4]])\n",
        "B = A\n",
        "C = A.clone()\n",
        "C[0,0]=100\n",
        "print(A)\n",
        "print(B)\n",
        "print(C)"
      ],
      "metadata": {
        "colab": {
          "base_uri": "https://localhost:8080/"
        },
        "id": "e1eQZZJtZnqE",
        "outputId": "b8c80a4a-0aa2-4cd1-c4f7-716669b638ae"
      },
      "execution_count": null,
      "outputs": [
        {
          "output_type": "stream",
          "name": "stdout",
          "text": [
            "tensor([[1, 2],\n",
            "        [3, 4]])\n",
            "tensor([[1, 2],\n",
            "        [3, 4]])\n",
            "tensor([[100,   2],\n",
            "        [  3,   4]])\n"
          ]
        }
      ]
    },
    {
      "cell_type": "code",
      "source": [
        "# @ 행렬곱에 대하여\n",
        "A = torch.randn(32,5,7)\n",
        "B = torch.randn(32,7,10)\n",
        "C = A@B\n",
        "print(C.shape)"
      ],
      "metadata": {
        "colab": {
          "base_uri": "https://localhost:8080/"
        },
        "id": "HxzLm1IPaUbo",
        "outputId": "1715e67b-5d64-464f-b34f-58719a2473cd"
      },
      "execution_count": null,
      "outputs": [
        {
          "output_type": "stream",
          "name": "stdout",
          "text": [
            "torch.Size([32, 5, 10])\n"
          ]
        }
      ]
    },
    {
      "cell_type": "markdown",
      "source": [
        "## numpy <-> Torch 왔다갔다 가능"
      ],
      "metadata": {
        "id": "VykF8__9cCbN"
      }
    },
    {
      "cell_type": "code",
      "source": [
        "import numpy as np\n",
        "import torch\n",
        "a=np.array([1,2,3])\n",
        "b=torch.tensor([1,2,3])\n",
        "A = torch.tensor(a) # A = torch.from_numpy(a) 라고 표현해도 됨.\n",
        "B = b.numpy() # B = np.array(b)\n",
        "print(type(A))\n",
        "print(type(B))"
      ],
      "metadata": {
        "colab": {
          "base_uri": "https://localhost:8080/"
        },
        "id": "cf4kvBlbbeKd",
        "outputId": "9e16d44a-02a1-4c9a-a47e-f5266c1b6ac9"
      },
      "execution_count": null,
      "outputs": [
        {
          "output_type": "stream",
          "name": "stdout",
          "text": [
            "<class 'torch.Tensor'>\n",
            "<class 'numpy.ndarray'>\n"
          ]
        }
      ]
    },
    {
      "cell_type": "markdown",
      "source": [
        "# autograd"
      ],
      "metadata": {
        "id": "QDTxGqc1d367"
      }
    },
    {
      "cell_type": "markdown",
      "source": [],
      "metadata": {
        "id": "5E9TGgfmd3Fw"
      }
    },
    {
      "cell_type": "code",
      "source": [
        "x = torch.tensor([1.],requires_grad=True)\n",
        "print(x)\n",
        "print(x.requires_grad)"
      ],
      "metadata": {
        "colab": {
          "base_uri": "https://localhost:8080/"
        },
        "id": "_eqPJI_Fcax5",
        "outputId": "042fd2f4-3665-4cc0-fb4e-ba31c1997d0a"
      },
      "execution_count": null,
      "outputs": [
        {
          "output_type": "stream",
          "name": "stdout",
          "text": [
            "tensor([1.], requires_grad=True)\n",
            "True\n"
          ]
        }
      ]
    },
    {
      "cell_type": "code",
      "source": [
        "x = torch.tensor([1.],requires_grad=True)\n",
        "y = x**2\n",
        "print(y)"
      ],
      "metadata": {
        "colab": {
          "base_uri": "https://localhost:8080/"
        },
        "id": "gHwxw9GueHF2",
        "outputId": "271cdd3c-660c-495c-f5d6-0424458af0de"
      },
      "execution_count": null,
      "outputs": [
        {
          "output_type": "stream",
          "name": "stdout",
          "text": [
            "tensor([1.], grad_fn=<PowBackward0>)\n"
          ]
        }
      ]
    },
    {
      "cell_type": "code",
      "source": [
        "print(x.grad)\n",
        "y.backward() # backward()는 미분을 하는 함수. requires_grad가 True인 변수에 대해서 미분.\n",
        "print((x.grad))\n",
        "\n",
        "'''import torch\n",
        "\n",
        "x = torch.tensor([1.], requires_grad=True)  # x를 선언하고 미분 가능하게 설정\n",
        "y = x**2  # y = x^2\n",
        "print(y)  # y 값 출력\n",
        "print(x.grad)  # 아직 backward()를 호출하지 않았으므로 x.grad는 None\n",
        "\n",
        "y.backward()  # y를 x에 대해 미분하여 x.grad에 저장\n",
        "print(x.grad)  # dy/dx의 값 출력\n",
        "'''\n",
        "# y.retain_grad()를 하면 y의 grad도 알 수 있음"
      ],
      "metadata": {
        "colab": {
          "base_uri": "https://localhost:8080/"
        },
        "id": "gmywuIZufB-R",
        "outputId": "0466c5b5-cf67-4245-d7c6-5aaa210a9592"
      },
      "execution_count": null,
      "outputs": [
        {
          "output_type": "stream",
          "name": "stdout",
          "text": [
            "None\n",
            "tensor([2.])\n"
          ]
        }
      ]
    },
    {
      "cell_type": "code",
      "source": [
        "x = torch.tensor([1.],requires_grad=True)\n",
        "a = x**2\n",
        "b = a+1\n",
        "c = b**2\n",
        "c.backward()\n",
        "print(x.grad)"
      ],
      "metadata": {
        "colab": {
          "base_uri": "https://localhost:8080/"
        },
        "id": "wZrpOiJjfa4o",
        "outputId": "04cc168b-4b32-42cb-ba26-dae295d019aa"
      },
      "execution_count": null,
      "outputs": [
        {
          "output_type": "stream",
          "name": "stdout",
          "text": [
            "tensor([8.])\n"
          ]
        }
      ]
    },
    {
      "cell_type": "code",
      "source": [
        "x = torch.tensor([1.],requires_grad=True)\n",
        "y = x**2\n",
        "z = y.detach() # x로 만든것을 상수로 사용하고 싶은것을 detach함.\n",
        "w = y+z        # X**2+1임\n",
        "\n",
        "w.backward()\n",
        "print(x.grad)"
      ],
      "metadata": {
        "colab": {
          "base_uri": "https://localhost:8080/"
        },
        "id": "zAq-VLFoj47B",
        "outputId": "334068f8-922d-4a2b-898e-0bc4b5872242"
      },
      "execution_count": null,
      "outputs": [
        {
          "output_type": "stream",
          "name": "stdout",
          "text": [
            "tensor([2.])\n"
          ]
        }
      ]
    },
    {
      "cell_type": "markdown",
      "source": [
        "### torch.no_grad()"
      ],
      "metadata": {
        "id": "bUsjghESm4mU"
      }
    },
    {
      "cell_type": "code",
      "source": [
        "x = torch.tensor([1.], requires_grad=True)\n",
        "with torch.no_grad():\n",
        "  y = x**2\n",
        "  print(x.requires_grad)\n",
        "  print(y)\n",
        "print(x.requires_grad)\n",
        "y=x**2\n",
        "print(y)"
      ],
      "metadata": {
        "colab": {
          "base_uri": "https://localhost:8080/"
        },
        "id": "2GdWq4fKmGYJ",
        "outputId": "c82680a1-af94-410f-b69a-ff23e18819b9"
      },
      "execution_count": null,
      "outputs": [
        {
          "output_type": "stream",
          "name": "stdout",
          "text": [
            "True\n",
            "tensor([1.])\n",
            "True\n",
            "tensor([1.], grad_fn=<PowBackward0>)\n"
          ]
        }
      ]
    },
    {
      "cell_type": "code",
      "source": [
        "x=torch.tensor([1.],requires_grad=True)\n",
        "x.requires_grad=False\n",
        "y=x**2\n",
        "print(x.requires_grad)\n",
        "print(y)"
      ],
      "metadata": {
        "colab": {
          "base_uri": "https://localhost:8080/"
        },
        "id": "vuzI11c8nZK0",
        "outputId": "e2170f69-040a-40d0-ec05-cb9f3430fdc7"
      },
      "execution_count": null,
      "outputs": [
        {
          "output_type": "stream",
          "name": "stdout",
          "text": [
            "False\n",
            "tensor([1.])\n"
          ]
        }
      ]
    },
    {
      "cell_type": "markdown",
      "source": [
        "#torchviz는 PyTorch의 자동 미분(Autograd) 계산 그래프를 시각적으로 보여주는 라이브러리\n"
      ],
      "metadata": {
        "id": "vx-plKUvo4_I"
      }
    },
    {
      "cell_type": "markdown",
      "source": [],
      "metadata": {
        "id": "RJJGux9do2-l"
      }
    },
    {
      "cell_type": "code",
      "source": [
        "!pip install torchviz\n",
        "from torchviz import make_dot\n",
        "x = torch.tensor([1.],requires_grad=True)\n",
        "make_dot(x**2)"
      ],
      "metadata": {
        "colab": {
          "base_uri": "https://localhost:8080/",
          "height": 1000
        },
        "id": "cAFAvsu8oXl3",
        "outputId": "efbf61c0-0e37-45bf-d988-4576c14f9316"
      },
      "execution_count": 13,
      "outputs": [
        {
          "output_type": "stream",
          "name": "stdout",
          "text": [
            "Collecting torchviz\n",
            "  Downloading torchviz-0.0.3-py3-none-any.whl.metadata (2.1 kB)\n",
            "Requirement already satisfied: torch in /usr/local/lib/python3.11/dist-packages (from torchviz) (2.6.0+cu124)\n",
            "Requirement already satisfied: graphviz in /usr/local/lib/python3.11/dist-packages (from torchviz) (0.20.3)\n",
            "Requirement already satisfied: filelock in /usr/local/lib/python3.11/dist-packages (from torch->torchviz) (3.17.0)\n",
            "Requirement already satisfied: typing-extensions>=4.10.0 in /usr/local/lib/python3.11/dist-packages (from torch->torchviz) (4.12.2)\n",
            "Requirement already satisfied: networkx in /usr/local/lib/python3.11/dist-packages (from torch->torchviz) (3.4.2)\n",
            "Requirement already satisfied: jinja2 in /usr/local/lib/python3.11/dist-packages (from torch->torchviz) (3.1.6)\n",
            "Requirement already satisfied: fsspec in /usr/local/lib/python3.11/dist-packages (from torch->torchviz) (2024.10.0)\n",
            "Collecting nvidia-cuda-nvrtc-cu12==12.4.127 (from torch->torchviz)\n",
            "  Downloading nvidia_cuda_nvrtc_cu12-12.4.127-py3-none-manylinux2014_x86_64.whl.metadata (1.5 kB)\n",
            "Collecting nvidia-cuda-runtime-cu12==12.4.127 (from torch->torchviz)\n",
            "  Downloading nvidia_cuda_runtime_cu12-12.4.127-py3-none-manylinux2014_x86_64.whl.metadata (1.5 kB)\n",
            "Collecting nvidia-cuda-cupti-cu12==12.4.127 (from torch->torchviz)\n",
            "  Downloading nvidia_cuda_cupti_cu12-12.4.127-py3-none-manylinux2014_x86_64.whl.metadata (1.6 kB)\n",
            "Collecting nvidia-cudnn-cu12==9.1.0.70 (from torch->torchviz)\n",
            "  Downloading nvidia_cudnn_cu12-9.1.0.70-py3-none-manylinux2014_x86_64.whl.metadata (1.6 kB)\n",
            "Collecting nvidia-cublas-cu12==12.4.5.8 (from torch->torchviz)\n",
            "  Downloading nvidia_cublas_cu12-12.4.5.8-py3-none-manylinux2014_x86_64.whl.metadata (1.5 kB)\n",
            "Collecting nvidia-cufft-cu12==11.2.1.3 (from torch->torchviz)\n",
            "  Downloading nvidia_cufft_cu12-11.2.1.3-py3-none-manylinux2014_x86_64.whl.metadata (1.5 kB)\n",
            "Collecting nvidia-curand-cu12==10.3.5.147 (from torch->torchviz)\n",
            "  Downloading nvidia_curand_cu12-10.3.5.147-py3-none-manylinux2014_x86_64.whl.metadata (1.5 kB)\n",
            "Collecting nvidia-cusolver-cu12==11.6.1.9 (from torch->torchviz)\n",
            "  Downloading nvidia_cusolver_cu12-11.6.1.9-py3-none-manylinux2014_x86_64.whl.metadata (1.6 kB)\n",
            "Collecting nvidia-cusparse-cu12==12.3.1.170 (from torch->torchviz)\n",
            "  Downloading nvidia_cusparse_cu12-12.3.1.170-py3-none-manylinux2014_x86_64.whl.metadata (1.6 kB)\n",
            "Requirement already satisfied: nvidia-cusparselt-cu12==0.6.2 in /usr/local/lib/python3.11/dist-packages (from torch->torchviz) (0.6.2)\n",
            "Requirement already satisfied: nvidia-nccl-cu12==2.21.5 in /usr/local/lib/python3.11/dist-packages (from torch->torchviz) (2.21.5)\n",
            "Requirement already satisfied: nvidia-nvtx-cu12==12.4.127 in /usr/local/lib/python3.11/dist-packages (from torch->torchviz) (12.4.127)\n",
            "Collecting nvidia-nvjitlink-cu12==12.4.127 (from torch->torchviz)\n",
            "  Downloading nvidia_nvjitlink_cu12-12.4.127-py3-none-manylinux2014_x86_64.whl.metadata (1.5 kB)\n",
            "Requirement already satisfied: triton==3.2.0 in /usr/local/lib/python3.11/dist-packages (from torch->torchviz) (3.2.0)\n",
            "Requirement already satisfied: sympy==1.13.1 in /usr/local/lib/python3.11/dist-packages (from torch->torchviz) (1.13.1)\n",
            "Requirement already satisfied: mpmath<1.4,>=1.1.0 in /usr/local/lib/python3.11/dist-packages (from sympy==1.13.1->torch->torchviz) (1.3.0)\n",
            "Requirement already satisfied: MarkupSafe>=2.0 in /usr/local/lib/python3.11/dist-packages (from jinja2->torch->torchviz) (3.0.2)\n",
            "Downloading torchviz-0.0.3-py3-none-any.whl (5.7 kB)\n",
            "Downloading nvidia_cublas_cu12-12.4.5.8-py3-none-manylinux2014_x86_64.whl (363.4 MB)\n",
            "\u001b[2K   \u001b[90m━━━━━━━━━━━━━━━━━━━━━━━━━━━━━━━━━━━━━━━━\u001b[0m \u001b[32m363.4/363.4 MB\u001b[0m \u001b[31m1.3 MB/s\u001b[0m eta \u001b[36m0:00:00\u001b[0m\n",
            "\u001b[?25hDownloading nvidia_cuda_cupti_cu12-12.4.127-py3-none-manylinux2014_x86_64.whl (13.8 MB)\n",
            "\u001b[2K   \u001b[90m━━━━━━━━━━━━━━━━━━━━━━━━━━━━━━━━━━━━━━━━\u001b[0m \u001b[32m13.8/13.8 MB\u001b[0m \u001b[31m79.0 MB/s\u001b[0m eta \u001b[36m0:00:00\u001b[0m\n",
            "\u001b[?25hDownloading nvidia_cuda_nvrtc_cu12-12.4.127-py3-none-manylinux2014_x86_64.whl (24.6 MB)\n",
            "\u001b[2K   \u001b[90m━━━━━━━━━━━━━━━━━━━━━━━━━━━━━━━━━━━━━━━━\u001b[0m \u001b[32m24.6/24.6 MB\u001b[0m \u001b[31m69.9 MB/s\u001b[0m eta \u001b[36m0:00:00\u001b[0m\n",
            "\u001b[?25hDownloading nvidia_cuda_runtime_cu12-12.4.127-py3-none-manylinux2014_x86_64.whl (883 kB)\n",
            "\u001b[2K   \u001b[90m━━━━━━━━━━━━━━━━━━━━━━━━━━━━━━━━━━━━━━━━\u001b[0m \u001b[32m883.7/883.7 kB\u001b[0m \u001b[31m40.0 MB/s\u001b[0m eta \u001b[36m0:00:00\u001b[0m\n",
            "\u001b[?25hDownloading nvidia_cudnn_cu12-9.1.0.70-py3-none-manylinux2014_x86_64.whl (664.8 MB)\n",
            "\u001b[2K   \u001b[90m━━━━━━━━━━━━━━━━━━━━━━━━━━━━━━━━━━━━━━━━\u001b[0m \u001b[32m664.8/664.8 MB\u001b[0m \u001b[31m2.8 MB/s\u001b[0m eta \u001b[36m0:00:00\u001b[0m\n",
            "\u001b[?25hDownloading nvidia_cufft_cu12-11.2.1.3-py3-none-manylinux2014_x86_64.whl (211.5 MB)\n",
            "\u001b[2K   \u001b[90m━━━━━━━━━━━━━━━━━━━━━━━━━━━━━━━━━━━━━━━━\u001b[0m \u001b[32m211.5/211.5 MB\u001b[0m \u001b[31m6.1 MB/s\u001b[0m eta \u001b[36m0:00:00\u001b[0m\n",
            "\u001b[?25hDownloading nvidia_curand_cu12-10.3.5.147-py3-none-manylinux2014_x86_64.whl (56.3 MB)\n",
            "\u001b[2K   \u001b[90m━━━━━━━━━━━━━━━━━━━━━━━━━━━━━━━━━━━━━━━━\u001b[0m \u001b[32m56.3/56.3 MB\u001b[0m \u001b[31m15.9 MB/s\u001b[0m eta \u001b[36m0:00:00\u001b[0m\n",
            "\u001b[?25hDownloading nvidia_cusolver_cu12-11.6.1.9-py3-none-manylinux2014_x86_64.whl (127.9 MB)\n",
            "\u001b[2K   \u001b[90m━━━━━━━━━━━━━━━━━━━━━━━━━━━━━━━━━━━━━━━━\u001b[0m \u001b[32m127.9/127.9 MB\u001b[0m \u001b[31m7.6 MB/s\u001b[0m eta \u001b[36m0:00:00\u001b[0m\n",
            "\u001b[?25hDownloading nvidia_cusparse_cu12-12.3.1.170-py3-none-manylinux2014_x86_64.whl (207.5 MB)\n",
            "\u001b[2K   \u001b[90m━━━━━━━━━━━━━━━━━━━━━━━━━━━━━━━━━━━━━━━━\u001b[0m \u001b[32m207.5/207.5 MB\u001b[0m \u001b[31m5.9 MB/s\u001b[0m eta \u001b[36m0:00:00\u001b[0m\n",
            "\u001b[?25hDownloading nvidia_nvjitlink_cu12-12.4.127-py3-none-manylinux2014_x86_64.whl (21.1 MB)\n",
            "\u001b[2K   \u001b[90m━━━━━━━━━━━━━━━━━━━━━━━━━━━━━━━━━━━━━━━━\u001b[0m \u001b[32m21.1/21.1 MB\u001b[0m \u001b[31m73.6 MB/s\u001b[0m eta \u001b[36m0:00:00\u001b[0m\n",
            "\u001b[?25hInstalling collected packages: nvidia-nvjitlink-cu12, nvidia-curand-cu12, nvidia-cufft-cu12, nvidia-cuda-runtime-cu12, nvidia-cuda-nvrtc-cu12, nvidia-cuda-cupti-cu12, nvidia-cublas-cu12, nvidia-cusparse-cu12, nvidia-cudnn-cu12, nvidia-cusolver-cu12, torchviz\n",
            "  Attempting uninstall: nvidia-nvjitlink-cu12\n",
            "    Found existing installation: nvidia-nvjitlink-cu12 12.5.82\n",
            "    Uninstalling nvidia-nvjitlink-cu12-12.5.82:\n",
            "      Successfully uninstalled nvidia-nvjitlink-cu12-12.5.82\n",
            "  Attempting uninstall: nvidia-curand-cu12\n",
            "    Found existing installation: nvidia-curand-cu12 10.3.6.82\n",
            "    Uninstalling nvidia-curand-cu12-10.3.6.82:\n",
            "      Successfully uninstalled nvidia-curand-cu12-10.3.6.82\n",
            "  Attempting uninstall: nvidia-cufft-cu12\n",
            "    Found existing installation: nvidia-cufft-cu12 11.2.3.61\n",
            "    Uninstalling nvidia-cufft-cu12-11.2.3.61:\n",
            "      Successfully uninstalled nvidia-cufft-cu12-11.2.3.61\n",
            "  Attempting uninstall: nvidia-cuda-runtime-cu12\n",
            "    Found existing installation: nvidia-cuda-runtime-cu12 12.5.82\n",
            "    Uninstalling nvidia-cuda-runtime-cu12-12.5.82:\n",
            "      Successfully uninstalled nvidia-cuda-runtime-cu12-12.5.82\n",
            "  Attempting uninstall: nvidia-cuda-nvrtc-cu12\n",
            "    Found existing installation: nvidia-cuda-nvrtc-cu12 12.5.82\n",
            "    Uninstalling nvidia-cuda-nvrtc-cu12-12.5.82:\n",
            "      Successfully uninstalled nvidia-cuda-nvrtc-cu12-12.5.82\n",
            "  Attempting uninstall: nvidia-cuda-cupti-cu12\n",
            "    Found existing installation: nvidia-cuda-cupti-cu12 12.5.82\n",
            "    Uninstalling nvidia-cuda-cupti-cu12-12.5.82:\n",
            "      Successfully uninstalled nvidia-cuda-cupti-cu12-12.5.82\n",
            "  Attempting uninstall: nvidia-cublas-cu12\n",
            "    Found existing installation: nvidia-cublas-cu12 12.5.3.2\n",
            "    Uninstalling nvidia-cublas-cu12-12.5.3.2:\n",
            "      Successfully uninstalled nvidia-cublas-cu12-12.5.3.2\n",
            "  Attempting uninstall: nvidia-cusparse-cu12\n",
            "    Found existing installation: nvidia-cusparse-cu12 12.5.1.3\n",
            "    Uninstalling nvidia-cusparse-cu12-12.5.1.3:\n",
            "      Successfully uninstalled nvidia-cusparse-cu12-12.5.1.3\n",
            "  Attempting uninstall: nvidia-cudnn-cu12\n",
            "    Found existing installation: nvidia-cudnn-cu12 9.3.0.75\n",
            "    Uninstalling nvidia-cudnn-cu12-9.3.0.75:\n",
            "      Successfully uninstalled nvidia-cudnn-cu12-9.3.0.75\n",
            "  Attempting uninstall: nvidia-cusolver-cu12\n",
            "    Found existing installation: nvidia-cusolver-cu12 11.6.3.83\n",
            "    Uninstalling nvidia-cusolver-cu12-11.6.3.83:\n",
            "      Successfully uninstalled nvidia-cusolver-cu12-11.6.3.83\n",
            "Successfully installed nvidia-cublas-cu12-12.4.5.8 nvidia-cuda-cupti-cu12-12.4.127 nvidia-cuda-nvrtc-cu12-12.4.127 nvidia-cuda-runtime-cu12-12.4.127 nvidia-cudnn-cu12-9.1.0.70 nvidia-cufft-cu12-11.2.1.3 nvidia-curand-cu12-10.3.5.147 nvidia-cusolver-cu12-11.6.1.9 nvidia-cusparse-cu12-12.3.1.170 nvidia-nvjitlink-cu12-12.4.127 torchviz-0.0.3\n"
          ]
        },
        {
          "output_type": "execute_result",
          "data": {
            "image/svg+xml": "<?xml version=\"1.0\" encoding=\"UTF-8\" standalone=\"no\"?>\n<!DOCTYPE svg PUBLIC \"-//W3C//DTD SVG 1.1//EN\"\n \"http://www.w3.org/Graphics/SVG/1.1/DTD/svg11.dtd\">\n<!-- Generated by graphviz version 2.43.0 (0)\n -->\n<!-- Title: %3 Pages: 1 -->\n<svg width=\"109pt\" height=\"216pt\"\n viewBox=\"0.00 0.00 109.00 216.00\" xmlns=\"http://www.w3.org/2000/svg\" xmlns:xlink=\"http://www.w3.org/1999/xlink\">\n<g id=\"graph0\" class=\"graph\" transform=\"scale(1 1) rotate(0) translate(4 212)\">\n<title>%3</title>\n<polygon fill=\"white\" stroke=\"transparent\" points=\"-4,4 -4,-212 105,-212 105,4 -4,4\"/>\n<!-- 137537990608272 -->\n<g id=\"node1\" class=\"node\">\n<title>137537990608272</title>\n<polygon fill=\"#caff70\" stroke=\"black\" points=\"77.5,-31 23.5,-31 23.5,0 77.5,0 77.5,-31\"/>\n<text text-anchor=\"middle\" x=\"50.5\" y=\"-7\" font-family=\"monospace\" font-size=\"10.00\"> (1)</text>\n</g>\n<!-- 137537996405392 -->\n<g id=\"node2\" class=\"node\">\n<title>137537996405392</title>\n<polygon fill=\"lightgrey\" stroke=\"black\" points=\"95,-86 6,-86 6,-67 95,-67 95,-86\"/>\n<text text-anchor=\"middle\" x=\"50.5\" y=\"-74\" font-family=\"monospace\" font-size=\"10.00\">PowBackward0</text>\n</g>\n<!-- 137537996405392&#45;&gt;137537990608272 -->\n<g id=\"edge3\" class=\"edge\">\n<title>137537996405392&#45;&gt;137537990608272</title>\n<path fill=\"none\" stroke=\"black\" d=\"M50.5,-66.79C50.5,-60.07 50.5,-50.4 50.5,-41.34\"/>\n<polygon fill=\"black\" stroke=\"black\" points=\"54,-41.19 50.5,-31.19 47,-41.19 54,-41.19\"/>\n</g>\n<!-- 137537996393728 -->\n<g id=\"node3\" class=\"node\">\n<title>137537996393728</title>\n<polygon fill=\"lightgrey\" stroke=\"black\" points=\"101,-141 0,-141 0,-122 101,-122 101,-141\"/>\n<text text-anchor=\"middle\" x=\"50.5\" y=\"-129\" font-family=\"monospace\" font-size=\"10.00\">AccumulateGrad</text>\n</g>\n<!-- 137537996393728&#45;&gt;137537996405392 -->\n<g id=\"edge1\" class=\"edge\">\n<title>137537996393728&#45;&gt;137537996405392</title>\n<path fill=\"none\" stroke=\"black\" d=\"M50.5,-121.75C50.5,-114.8 50.5,-104.85 50.5,-96.13\"/>\n<polygon fill=\"black\" stroke=\"black\" points=\"54,-96.09 50.5,-86.09 47,-96.09 54,-96.09\"/>\n</g>\n<!-- 137537990608176 -->\n<g id=\"node4\" class=\"node\">\n<title>137537990608176</title>\n<polygon fill=\"lightblue\" stroke=\"black\" points=\"77.5,-208 23.5,-208 23.5,-177 77.5,-177 77.5,-208\"/>\n<text text-anchor=\"middle\" x=\"50.5\" y=\"-184\" font-family=\"monospace\" font-size=\"10.00\"> (1)</text>\n</g>\n<!-- 137537990608176&#45;&gt;137537996393728 -->\n<g id=\"edge2\" class=\"edge\">\n<title>137537990608176&#45;&gt;137537996393728</title>\n<path fill=\"none\" stroke=\"black\" d=\"M50.5,-176.92C50.5,-169.22 50.5,-159.69 50.5,-151.43\"/>\n<polygon fill=\"black\" stroke=\"black\" points=\"54,-151.25 50.5,-141.25 47,-151.25 54,-151.25\"/>\n</g>\n</g>\n</svg>\n",
            "text/plain": [
              "<graphviz.graphs.Digraph at 0x7d170f673e50>"
            ]
          },
          "metadata": {},
          "execution_count": 13
        }
      ]
    },
    {
      "cell_type": "code",
      "source": [
        "y = x**2\n",
        "z = y+1\n",
        "w = z**2\n",
        "make_dot(w)"
      ],
      "metadata": {
        "colab": {
          "base_uri": "https://localhost:8080/",
          "height": 457
        },
        "id": "WjDNOM1speUl",
        "outputId": "5ff83c48-95bb-42f3-d6c3-f9f1a3b3c7dc"
      },
      "execution_count": null,
      "outputs": [
        {
          "output_type": "execute_result",
          "data": {
            "image/svg+xml": "<?xml version=\"1.0\" encoding=\"UTF-8\" standalone=\"no\"?>\n<!DOCTYPE svg PUBLIC \"-//W3C//DTD SVG 1.1//EN\"\n \"http://www.w3.org/Graphics/SVG/1.1/DTD/svg11.dtd\">\n<!-- Generated by graphviz version 2.43.0 (0)\n -->\n<!-- Title: %3 Pages: 1 -->\n<svg width=\"109pt\" height=\"326pt\"\n viewBox=\"0.00 0.00 109.00 326.00\" xmlns=\"http://www.w3.org/2000/svg\" xmlns:xlink=\"http://www.w3.org/1999/xlink\">\n<g id=\"graph0\" class=\"graph\" transform=\"scale(1 1) rotate(0) translate(4 322)\">\n<title>%3</title>\n<polygon fill=\"white\" stroke=\"transparent\" points=\"-4,4 -4,-322 105,-322 105,4 -4,4\"/>\n<!-- 134139922329968 -->\n<g id=\"node1\" class=\"node\">\n<title>134139922329968</title>\n<polygon fill=\"#caff70\" stroke=\"black\" points=\"77.5,-31 23.5,-31 23.5,0 77.5,0 77.5,-31\"/>\n<text text-anchor=\"middle\" x=\"50.5\" y=\"-7\" font-family=\"monospace\" font-size=\"10.00\"> (1)</text>\n</g>\n<!-- 134139929709248 -->\n<g id=\"node2\" class=\"node\">\n<title>134139929709248</title>\n<polygon fill=\"lightgrey\" stroke=\"black\" points=\"95,-86 6,-86 6,-67 95,-67 95,-86\"/>\n<text text-anchor=\"middle\" x=\"50.5\" y=\"-74\" font-family=\"monospace\" font-size=\"10.00\">PowBackward0</text>\n</g>\n<!-- 134139929709248&#45;&gt;134139922329968 -->\n<g id=\"edge5\" class=\"edge\">\n<title>134139929709248&#45;&gt;134139922329968</title>\n<path fill=\"none\" stroke=\"black\" d=\"M50.5,-66.79C50.5,-60.07 50.5,-50.4 50.5,-41.34\"/>\n<polygon fill=\"black\" stroke=\"black\" points=\"54,-41.19 50.5,-31.19 47,-41.19 54,-41.19\"/>\n</g>\n<!-- 134139929706560 -->\n<g id=\"node3\" class=\"node\">\n<title>134139929706560</title>\n<polygon fill=\"lightgrey\" stroke=\"black\" points=\"95,-141 6,-141 6,-122 95,-122 95,-141\"/>\n<text text-anchor=\"middle\" x=\"50.5\" y=\"-129\" font-family=\"monospace\" font-size=\"10.00\">AddBackward0</text>\n</g>\n<!-- 134139929706560&#45;&gt;134139929709248 -->\n<g id=\"edge1\" class=\"edge\">\n<title>134139929706560&#45;&gt;134139929709248</title>\n<path fill=\"none\" stroke=\"black\" d=\"M50.5,-121.75C50.5,-114.8 50.5,-104.85 50.5,-96.13\"/>\n<polygon fill=\"black\" stroke=\"black\" points=\"54,-96.09 50.5,-86.09 47,-96.09 54,-96.09\"/>\n</g>\n<!-- 134139929706704 -->\n<g id=\"node4\" class=\"node\">\n<title>134139929706704</title>\n<polygon fill=\"lightgrey\" stroke=\"black\" points=\"95,-196 6,-196 6,-177 95,-177 95,-196\"/>\n<text text-anchor=\"middle\" x=\"50.5\" y=\"-184\" font-family=\"monospace\" font-size=\"10.00\">PowBackward0</text>\n</g>\n<!-- 134139929706704&#45;&gt;134139929706560 -->\n<g id=\"edge2\" class=\"edge\">\n<title>134139929706704&#45;&gt;134139929706560</title>\n<path fill=\"none\" stroke=\"black\" d=\"M50.5,-176.75C50.5,-169.8 50.5,-159.85 50.5,-151.13\"/>\n<polygon fill=\"black\" stroke=\"black\" points=\"54,-151.09 50.5,-141.09 47,-151.09 54,-151.09\"/>\n</g>\n<!-- 134139929716880 -->\n<g id=\"node5\" class=\"node\">\n<title>134139929716880</title>\n<polygon fill=\"lightgrey\" stroke=\"black\" points=\"101,-251 0,-251 0,-232 101,-232 101,-251\"/>\n<text text-anchor=\"middle\" x=\"50.5\" y=\"-239\" font-family=\"monospace\" font-size=\"10.00\">AccumulateGrad</text>\n</g>\n<!-- 134139929716880&#45;&gt;134139929706704 -->\n<g id=\"edge3\" class=\"edge\">\n<title>134139929716880&#45;&gt;134139929706704</title>\n<path fill=\"none\" stroke=\"black\" d=\"M50.5,-231.75C50.5,-224.8 50.5,-214.85 50.5,-206.13\"/>\n<polygon fill=\"black\" stroke=\"black\" points=\"54,-206.09 50.5,-196.09 47,-206.09 54,-206.09\"/>\n</g>\n<!-- 134139922319504 -->\n<g id=\"node6\" class=\"node\">\n<title>134139922319504</title>\n<polygon fill=\"lightblue\" stroke=\"black\" points=\"77.5,-318 23.5,-318 23.5,-287 77.5,-287 77.5,-318\"/>\n<text text-anchor=\"middle\" x=\"50.5\" y=\"-294\" font-family=\"monospace\" font-size=\"10.00\"> (1)</text>\n</g>\n<!-- 134139922319504&#45;&gt;134139929716880 -->\n<g id=\"edge4\" class=\"edge\">\n<title>134139922319504&#45;&gt;134139929716880</title>\n<path fill=\"none\" stroke=\"black\" d=\"M50.5,-286.92C50.5,-279.22 50.5,-269.69 50.5,-261.43\"/>\n<polygon fill=\"black\" stroke=\"black\" points=\"54,-261.25 50.5,-251.25 47,-261.25 54,-261.25\"/>\n</g>\n</g>\n</svg>\n",
            "text/plain": [
              "<graphviz.graphs.Digraph at 0x79ffe259b510>"
            ]
          },
          "metadata": {},
          "execution_count": 87
        }
      ]
    },
    {
      "cell_type": "code",
      "source": [
        "y=x**2\n",
        "z=3+x\n",
        "w=y+z\n",
        "make_dot(w)\n"
      ],
      "metadata": {
        "colab": {
          "base_uri": "https://localhost:8080/",
          "height": 383
        },
        "id": "2uWMrd_MqItk",
        "outputId": "bc6810dd-6a2c-4d31-8717-2f4b1e6834f8"
      },
      "execution_count": null,
      "outputs": [
        {
          "output_type": "execute_result",
          "data": {
            "image/svg+xml": "<?xml version=\"1.0\" encoding=\"UTF-8\" standalone=\"no\"?>\n<!DOCTYPE svg PUBLIC \"-//W3C//DTD SVG 1.1//EN\"\n \"http://www.w3.org/Graphics/SVG/1.1/DTD/svg11.dtd\">\n<!-- Generated by graphviz version 2.43.0 (0)\n -->\n<!-- Title: %3 Pages: 1 -->\n<svg width=\"204pt\" height=\"271pt\"\n viewBox=\"0.00 0.00 204.00 271.00\" xmlns=\"http://www.w3.org/2000/svg\" xmlns:xlink=\"http://www.w3.org/1999/xlink\">\n<g id=\"graph0\" class=\"graph\" transform=\"scale(1 1) rotate(0) translate(4 267)\">\n<title>%3</title>\n<polygon fill=\"white\" stroke=\"transparent\" points=\"-4,4 -4,-267 200,-267 200,4 -4,4\"/>\n<!-- 134139922643952 -->\n<g id=\"node1\" class=\"node\">\n<title>134139922643952</title>\n<polygon fill=\"#caff70\" stroke=\"black\" points=\"124.5,-31 70.5,-31 70.5,0 124.5,0 124.5,-31\"/>\n<text text-anchor=\"middle\" x=\"97.5\" y=\"-7\" font-family=\"monospace\" font-size=\"10.00\"> (1)</text>\n</g>\n<!-- 134139937584656 -->\n<g id=\"node2\" class=\"node\">\n<title>134139937584656</title>\n<polygon fill=\"lightgrey\" stroke=\"black\" points=\"142,-86 53,-86 53,-67 142,-67 142,-86\"/>\n<text text-anchor=\"middle\" x=\"97.5\" y=\"-74\" font-family=\"monospace\" font-size=\"10.00\">AddBackward0</text>\n</g>\n<!-- 134139937584656&#45;&gt;134139922643952 -->\n<g id=\"edge6\" class=\"edge\">\n<title>134139937584656&#45;&gt;134139922643952</title>\n<path fill=\"none\" stroke=\"black\" d=\"M97.5,-66.79C97.5,-60.07 97.5,-50.4 97.5,-41.34\"/>\n<polygon fill=\"black\" stroke=\"black\" points=\"101,-41.19 97.5,-31.19 94,-41.19 101,-41.19\"/>\n</g>\n<!-- 134139937573520 -->\n<g id=\"node3\" class=\"node\">\n<title>134139937573520</title>\n<polygon fill=\"lightgrey\" stroke=\"black\" points=\"89,-141 0,-141 0,-122 89,-122 89,-141\"/>\n<text text-anchor=\"middle\" x=\"44.5\" y=\"-129\" font-family=\"monospace\" font-size=\"10.00\">PowBackward0</text>\n</g>\n<!-- 134139937573520&#45;&gt;134139937584656 -->\n<g id=\"edge1\" class=\"edge\">\n<title>134139937573520&#45;&gt;134139937584656</title>\n<path fill=\"none\" stroke=\"black\" d=\"M53.25,-121.75C60.97,-114.03 72.4,-102.6 81.72,-93.28\"/>\n<polygon fill=\"black\" stroke=\"black\" points=\"84.31,-95.64 88.91,-86.09 79.36,-90.69 84.31,-95.64\"/>\n</g>\n<!-- 134139940687920 -->\n<g id=\"node4\" class=\"node\">\n<title>134139940687920</title>\n<polygon fill=\"lightgrey\" stroke=\"black\" points=\"148,-196 47,-196 47,-177 148,-177 148,-196\"/>\n<text text-anchor=\"middle\" x=\"97.5\" y=\"-184\" font-family=\"monospace\" font-size=\"10.00\">AccumulateGrad</text>\n</g>\n<!-- 134139940687920&#45;&gt;134139937573520 -->\n<g id=\"edge2\" class=\"edge\">\n<title>134139940687920&#45;&gt;134139937573520</title>\n<path fill=\"none\" stroke=\"black\" d=\"M88.75,-176.75C81.03,-169.03 69.6,-157.6 60.28,-148.28\"/>\n<polygon fill=\"black\" stroke=\"black\" points=\"62.64,-145.69 53.09,-141.09 57.69,-150.64 62.64,-145.69\"/>\n</g>\n<!-- 134139937585664 -->\n<g id=\"node6\" class=\"node\">\n<title>134139937585664</title>\n<polygon fill=\"lightgrey\" stroke=\"black\" points=\"196,-141 107,-141 107,-122 196,-122 196,-141\"/>\n<text text-anchor=\"middle\" x=\"151.5\" y=\"-129\" font-family=\"monospace\" font-size=\"10.00\">AddBackward0</text>\n</g>\n<!-- 134139940687920&#45;&gt;134139937585664 -->\n<g id=\"edge5\" class=\"edge\">\n<title>134139940687920&#45;&gt;134139937585664</title>\n<path fill=\"none\" stroke=\"black\" d=\"M106.42,-176.75C114.28,-169.03 125.93,-157.6 135.42,-148.28\"/>\n<polygon fill=\"black\" stroke=\"black\" points=\"138.06,-150.59 142.75,-141.09 133.16,-145.6 138.06,-150.59\"/>\n</g>\n<!-- 134139922319504 -->\n<g id=\"node5\" class=\"node\">\n<title>134139922319504</title>\n<polygon fill=\"lightblue\" stroke=\"black\" points=\"124.5,-263 70.5,-263 70.5,-232 124.5,-232 124.5,-263\"/>\n<text text-anchor=\"middle\" x=\"97.5\" y=\"-239\" font-family=\"monospace\" font-size=\"10.00\"> (1)</text>\n</g>\n<!-- 134139922319504&#45;&gt;134139940687920 -->\n<g id=\"edge3\" class=\"edge\">\n<title>134139922319504&#45;&gt;134139940687920</title>\n<path fill=\"none\" stroke=\"black\" d=\"M97.5,-231.92C97.5,-224.22 97.5,-214.69 97.5,-206.43\"/>\n<polygon fill=\"black\" stroke=\"black\" points=\"101,-206.25 97.5,-196.25 94,-206.25 101,-206.25\"/>\n</g>\n<!-- 134139937585664&#45;&gt;134139937584656 -->\n<g id=\"edge4\" class=\"edge\">\n<title>134139937585664&#45;&gt;134139937584656</title>\n<path fill=\"none\" stroke=\"black\" d=\"M142.58,-121.75C134.72,-114.03 123.07,-102.6 113.58,-93.28\"/>\n<polygon fill=\"black\" stroke=\"black\" points=\"115.84,-90.6 106.25,-86.09 110.94,-95.59 115.84,-90.6\"/>\n</g>\n</g>\n</svg>\n",
            "text/plain": [
              "<graphviz.graphs.Digraph at 0x79ffe25994d0>"
            ]
          },
          "metadata": {},
          "execution_count": 97
        }
      ]
    },
    {
      "cell_type": "code",
      "source": [
        "w.backward()\n",
        "print(x.grad)"
      ],
      "metadata": {
        "colab": {
          "base_uri": "https://localhost:8080/",
          "height": 329
        },
        "id": "xy6ej5I0qzz1",
        "outputId": "948a08a6-1789-451f-9b3e-af3b988901f4"
      },
      "execution_count": null,
      "outputs": [
        {
          "output_type": "error",
          "ename": "RuntimeError",
          "evalue": "Trying to backward through the graph a second time (or directly access saved tensors after they have already been freed). Saved intermediate values of the graph are freed when you call .backward() or autograd.grad(). Specify retain_graph=True if you need to backward through the graph a second time or if you need to access saved tensors after calling backward.",
          "traceback": [
            "\u001b[0;31m---------------------------------------------------------------------------\u001b[0m",
            "\u001b[0;31mRuntimeError\u001b[0m                              Traceback (most recent call last)",
            "\u001b[0;32m<ipython-input-99-edb4a686e9f3>\u001b[0m in \u001b[0;36m<cell line: 0>\u001b[0;34m()\u001b[0m\n\u001b[0;32m----> 1\u001b[0;31m \u001b[0mw\u001b[0m\u001b[0;34m.\u001b[0m\u001b[0mbackward\u001b[0m\u001b[0;34m(\u001b[0m\u001b[0;34m)\u001b[0m\u001b[0;34m\u001b[0m\u001b[0;34m\u001b[0m\u001b[0m\n\u001b[0m\u001b[1;32m      2\u001b[0m \u001b[0mprint\u001b[0m\u001b[0;34m(\u001b[0m\u001b[0mx\u001b[0m\u001b[0;34m.\u001b[0m\u001b[0mgrad\u001b[0m\u001b[0;34m)\u001b[0m\u001b[0;34m\u001b[0m\u001b[0;34m\u001b[0m\u001b[0m\n",
            "\u001b[0;32m/usr/local/lib/python3.11/dist-packages/torch/_tensor.py\u001b[0m in \u001b[0;36mbackward\u001b[0;34m(self, gradient, retain_graph, create_graph, inputs)\u001b[0m\n\u001b[1;32m    624\u001b[0m                 \u001b[0minputs\u001b[0m\u001b[0;34m=\u001b[0m\u001b[0minputs\u001b[0m\u001b[0;34m,\u001b[0m\u001b[0;34m\u001b[0m\u001b[0;34m\u001b[0m\u001b[0m\n\u001b[1;32m    625\u001b[0m             )\n\u001b[0;32m--> 626\u001b[0;31m         torch.autograd.backward(\n\u001b[0m\u001b[1;32m    627\u001b[0m             \u001b[0mself\u001b[0m\u001b[0;34m,\u001b[0m \u001b[0mgradient\u001b[0m\u001b[0;34m,\u001b[0m \u001b[0mretain_graph\u001b[0m\u001b[0;34m,\u001b[0m \u001b[0mcreate_graph\u001b[0m\u001b[0;34m,\u001b[0m \u001b[0minputs\u001b[0m\u001b[0;34m=\u001b[0m\u001b[0minputs\u001b[0m\u001b[0;34m\u001b[0m\u001b[0;34m\u001b[0m\u001b[0m\n\u001b[1;32m    628\u001b[0m         )\n",
            "\u001b[0;32m/usr/local/lib/python3.11/dist-packages/torch/autograd/__init__.py\u001b[0m in \u001b[0;36mbackward\u001b[0;34m(tensors, grad_tensors, retain_graph, create_graph, grad_variables, inputs)\u001b[0m\n\u001b[1;32m    345\u001b[0m     \u001b[0;31m# some Python versions print out the first line of a multi-line function\u001b[0m\u001b[0;34m\u001b[0m\u001b[0;34m\u001b[0m\u001b[0m\n\u001b[1;32m    346\u001b[0m     \u001b[0;31m# calls in the traceback and some print out the last line\u001b[0m\u001b[0;34m\u001b[0m\u001b[0;34m\u001b[0m\u001b[0m\n\u001b[0;32m--> 347\u001b[0;31m     _engine_run_backward(\n\u001b[0m\u001b[1;32m    348\u001b[0m         \u001b[0mtensors\u001b[0m\u001b[0;34m,\u001b[0m\u001b[0;34m\u001b[0m\u001b[0;34m\u001b[0m\u001b[0m\n\u001b[1;32m    349\u001b[0m         \u001b[0mgrad_tensors_\u001b[0m\u001b[0;34m,\u001b[0m\u001b[0;34m\u001b[0m\u001b[0;34m\u001b[0m\u001b[0m\n",
            "\u001b[0;32m/usr/local/lib/python3.11/dist-packages/torch/autograd/graph.py\u001b[0m in \u001b[0;36m_engine_run_backward\u001b[0;34m(t_outputs, *args, **kwargs)\u001b[0m\n\u001b[1;32m    821\u001b[0m         \u001b[0munregister_hooks\u001b[0m \u001b[0;34m=\u001b[0m \u001b[0m_register_logging_hooks_on_whole_graph\u001b[0m\u001b[0;34m(\u001b[0m\u001b[0mt_outputs\u001b[0m\u001b[0;34m)\u001b[0m\u001b[0;34m\u001b[0m\u001b[0;34m\u001b[0m\u001b[0m\n\u001b[1;32m    822\u001b[0m     \u001b[0;32mtry\u001b[0m\u001b[0;34m:\u001b[0m\u001b[0;34m\u001b[0m\u001b[0;34m\u001b[0m\u001b[0m\n\u001b[0;32m--> 823\u001b[0;31m         return Variable._execution_engine.run_backward(  # Calls into the C++ engine to run the backward pass\n\u001b[0m\u001b[1;32m    824\u001b[0m             \u001b[0mt_outputs\u001b[0m\u001b[0;34m,\u001b[0m \u001b[0;34m*\u001b[0m\u001b[0margs\u001b[0m\u001b[0;34m,\u001b[0m \u001b[0;34m**\u001b[0m\u001b[0mkwargs\u001b[0m\u001b[0;34m\u001b[0m\u001b[0;34m\u001b[0m\u001b[0m\n\u001b[1;32m    825\u001b[0m         )  # Calls into the C++ engine to run the backward pass\n",
            "\u001b[0;31mRuntimeError\u001b[0m: Trying to backward through the graph a second time (or directly access saved tensors after they have already been freed). Saved intermediate values of the graph are freed when you call .backward() or autograd.grad(). Specify retain_graph=True if you need to backward through the graph a second time or if you need to access saved tensors after calling backward."
          ]
        }
      ]
    },
    {
      "cell_type": "markdown",
      "source": [
        "# 인공신경망 만들기"
      ],
      "metadata": {
        "id": "KzgqpX72s8Cl"
      }
    },
    {
      "cell_type": "code",
      "source": [
        "from torch import nn\n",
        "\n",
        "x = torch.tensor([1.])\n",
        "model=nn.Linear(1,1) # 입력노드 1개, 출력노드 1개\n",
        "print(model)"
      ],
      "metadata": {
        "colab": {
          "base_uri": "https://localhost:8080/"
        },
        "id": "1EhF66w-rDOn",
        "outputId": "5d55118a-2683-4ad7-b75b-324c6959c352"
      },
      "execution_count": 2,
      "outputs": [
        {
          "output_type": "stream",
          "name": "stdout",
          "text": [
            "Linear(in_features=1, out_features=1, bias=True)\n"
          ]
        }
      ]
    },
    {
      "cell_type": "code",
      "source": [
        "print(model.weight)\n",
        "print(model.bias)"
      ],
      "metadata": {
        "colab": {
          "base_uri": "https://localhost:8080/"
        },
        "id": "9-82qWlhxORz",
        "outputId": "fbe0d68d-8982-4c23-84eb-9beec387d13b"
      },
      "execution_count": null,
      "outputs": [
        {
          "output_type": "stream",
          "name": "stdout",
          "text": [
            "Parameter containing:\n",
            "tensor([[0.8756]], requires_grad=True)\n",
            "Parameter containing:\n",
            "tensor([0.2108], requires_grad=True)\n"
          ]
        }
      ]
    },
    {
      "cell_type": "code",
      "source": [
        "y = model(x)\n",
        "print(y)"
      ],
      "metadata": {
        "colab": {
          "base_uri": "https://localhost:8080/"
        },
        "id": "Fot7aTGfxrxL",
        "outputId": "3098f741-1cde-4f12-94c5-85ab3da21b3f"
      },
      "execution_count": null,
      "outputs": [
        {
          "output_type": "stream",
          "name": "stdout",
          "text": [
            "tensor([1.0865], grad_fn=<ViewBackward0>)\n"
          ]
        }
      ]
    },
    {
      "cell_type": "code",
      "source": [
        "y2 = x@model.weight+model.bias # y=model(x)랑 같은 연산\n",
        "print(y2)"
      ],
      "metadata": {
        "colab": {
          "base_uri": "https://localhost:8080/"
        },
        "id": "N5FkugoixxpF",
        "outputId": "1b8a3841-b45a-4a08-d18e-0ece97bea589"
      },
      "execution_count": null,
      "outputs": [
        {
          "output_type": "stream",
          "name": "stdout",
          "text": [
            "tensor([1.0865], grad_fn=<AddBackward0>)\n"
          ]
        }
      ]
    },
    {
      "cell_type": "code",
      "source": [
        "make_dot(y)"
      ],
      "metadata": {
        "colab": {
          "base_uri": "https://localhost:8080/",
          "height": 489
        },
        "id": "SXbfmXC1y8H_",
        "outputId": "f37c4c0f-5d09-45e7-d44d-c81f381c9c66"
      },
      "execution_count": null,
      "outputs": [
        {
          "output_type": "execute_result",
          "data": {
            "image/svg+xml": "<?xml version=\"1.0\" encoding=\"UTF-8\" standalone=\"no\"?>\n<!DOCTYPE svg PUBLIC \"-//W3C//DTD SVG 1.1//EN\"\n \"http://www.w3.org/Graphics/SVG/1.1/DTD/svg11.dtd\">\n<!-- Generated by graphviz version 2.43.0 (0)\n -->\n<!-- Title: %3 Pages: 1 -->\n<svg width=\"216pt\" height=\"350pt\"\n viewBox=\"0.00 0.00 216.00 350.00\" xmlns=\"http://www.w3.org/2000/svg\" xmlns:xlink=\"http://www.w3.org/1999/xlink\">\n<g id=\"graph0\" class=\"graph\" transform=\"scale(1 1) rotate(0) translate(4 346)\">\n<title>%3</title>\n<polygon fill=\"white\" stroke=\"transparent\" points=\"-4,4 -4,-346 212,-346 212,4 -4,4\"/>\n<!-- 134139921383248 -->\n<g id=\"node1\" class=\"node\">\n<title>134139921383248</title>\n<polygon fill=\"#caff70\" stroke=\"black\" points=\"130.5,-31 76.5,-31 76.5,0 130.5,0 130.5,-31\"/>\n<text text-anchor=\"middle\" x=\"103.5\" y=\"-7\" font-family=\"monospace\" font-size=\"10.00\"> (1)</text>\n</g>\n<!-- 134139940684800 -->\n<g id=\"node2\" class=\"node\">\n<title>134139940684800</title>\n<polygon fill=\"lightgrey\" stroke=\"black\" points=\"104,-92 9,-92 9,-73 104,-73 104,-92\"/>\n<text text-anchor=\"middle\" x=\"56.5\" y=\"-80\" font-family=\"monospace\" font-size=\"10.00\">ViewBackward0</text>\n</g>\n<!-- 134139940684800&#45;&gt;134139921383248 -->\n<g id=\"edge7\" class=\"edge\">\n<title>134139940684800&#45;&gt;134139921383248</title>\n<path fill=\"none\" stroke=\"black\" d=\"M62.84,-72.73C68.99,-64.23 78.59,-50.96 86.91,-39.44\"/>\n<polygon fill=\"black\" stroke=\"black\" points=\"89.93,-41.24 92.95,-31.08 84.26,-37.14 89.93,-41.24\"/>\n</g>\n<!-- 134139940698336 -->\n<g id=\"node3\" class=\"node\">\n<title>134139940698336</title>\n<polygon fill=\"lightgrey\" stroke=\"black\" points=\"154,-153 53,-153 53,-134 154,-134 154,-153\"/>\n<text text-anchor=\"middle\" x=\"103.5\" y=\"-141\" font-family=\"monospace\" font-size=\"10.00\">AddmmBackward0</text>\n</g>\n<!-- 134139940698336&#45;&gt;134139940684800 -->\n<g id=\"edge1\" class=\"edge\">\n<title>134139940698336&#45;&gt;134139940684800</title>\n<path fill=\"none\" stroke=\"black\" d=\"M96.56,-133.79C89.55,-124.99 78.54,-111.17 69.83,-100.23\"/>\n<polygon fill=\"black\" stroke=\"black\" points=\"72.43,-97.88 63.46,-92.24 66.96,-102.24 72.43,-97.88\"/>\n</g>\n<!-- 134139921986288 -->\n<g id=\"node9\" class=\"node\">\n<title>134139921986288</title>\n<polygon fill=\"#a2cd5a\" stroke=\"black\" points=\"181,-98 122,-98 122,-67 181,-67 181,-98\"/>\n<text text-anchor=\"middle\" x=\"151.5\" y=\"-74\" font-family=\"monospace\" font-size=\"10.00\"> (1, 1)</text>\n</g>\n<!-- 134139940698336&#45;&gt;134139921986288 -->\n<g id=\"edge8\" class=\"edge\">\n<title>134139940698336&#45;&gt;134139921986288</title>\n<path fill=\"none\" stroke=\"black\" d=\"M110.58,-133.79C116.53,-126.48 125.3,-115.7 133.2,-105.99\"/>\n<polygon fill=\"black\" stroke=\"black\" points=\"135.95,-108.16 139.55,-98.19 130.52,-103.74 135.95,-108.16\"/>\n</g>\n<!-- 134139940684704 -->\n<g id=\"node4\" class=\"node\">\n<title>134139940684704</title>\n<polygon fill=\"lightgrey\" stroke=\"black\" points=\"101,-208 0,-208 0,-189 101,-189 101,-208\"/>\n<text text-anchor=\"middle\" x=\"50.5\" y=\"-196\" font-family=\"monospace\" font-size=\"10.00\">AccumulateGrad</text>\n</g>\n<!-- 134139940684704&#45;&gt;134139940698336 -->\n<g id=\"edge2\" class=\"edge\">\n<title>134139940684704&#45;&gt;134139940698336</title>\n<path fill=\"none\" stroke=\"black\" d=\"M59.25,-188.75C66.97,-181.03 78.4,-169.6 87.72,-160.28\"/>\n<polygon fill=\"black\" stroke=\"black\" points=\"90.31,-162.64 94.91,-153.09 85.36,-157.69 90.31,-162.64\"/>\n</g>\n<!-- 134139922529744 -->\n<g id=\"node5\" class=\"node\">\n<title>134139922529744</title>\n<polygon fill=\"lightblue\" stroke=\"black\" points=\"77.5,-275 23.5,-275 23.5,-244 77.5,-244 77.5,-275\"/>\n<text text-anchor=\"middle\" x=\"50.5\" y=\"-251\" font-family=\"monospace\" font-size=\"10.00\"> (1)</text>\n</g>\n<!-- 134139922529744&#45;&gt;134139940684704 -->\n<g id=\"edge3\" class=\"edge\">\n<title>134139922529744&#45;&gt;134139940684704</title>\n<path fill=\"none\" stroke=\"black\" d=\"M50.5,-243.92C50.5,-236.22 50.5,-226.69 50.5,-218.43\"/>\n<polygon fill=\"black\" stroke=\"black\" points=\"54,-218.25 50.5,-208.25 47,-218.25 54,-218.25\"/>\n</g>\n<!-- 134139940698096 -->\n<g id=\"node6\" class=\"node\">\n<title>134139940698096</title>\n<polygon fill=\"lightgrey\" stroke=\"black\" points=\"196,-208 119,-208 119,-189 196,-189 196,-208\"/>\n<text text-anchor=\"middle\" x=\"157.5\" y=\"-196\" font-family=\"monospace\" font-size=\"10.00\">TBackward0</text>\n</g>\n<!-- 134139940698096&#45;&gt;134139940698336 -->\n<g id=\"edge4\" class=\"edge\">\n<title>134139940698096&#45;&gt;134139940698336</title>\n<path fill=\"none\" stroke=\"black\" d=\"M148.58,-188.75C140.72,-181.03 129.07,-169.6 119.58,-160.28\"/>\n<polygon fill=\"black\" stroke=\"black\" points=\"121.84,-157.6 112.25,-153.09 116.94,-162.59 121.84,-157.6\"/>\n</g>\n<!-- 134139940690368 -->\n<g id=\"node7\" class=\"node\">\n<title>134139940690368</title>\n<polygon fill=\"lightgrey\" stroke=\"black\" points=\"208,-269 107,-269 107,-250 208,-250 208,-269\"/>\n<text text-anchor=\"middle\" x=\"157.5\" y=\"-257\" font-family=\"monospace\" font-size=\"10.00\">AccumulateGrad</text>\n</g>\n<!-- 134139940690368&#45;&gt;134139940698096 -->\n<g id=\"edge5\" class=\"edge\">\n<title>134139940690368&#45;&gt;134139940698096</title>\n<path fill=\"none\" stroke=\"black\" d=\"M157.5,-249.79C157.5,-241.6 157.5,-229.06 157.5,-218.55\"/>\n<polygon fill=\"black\" stroke=\"black\" points=\"161,-218.24 157.5,-208.24 154,-218.24 161,-218.24\"/>\n</g>\n<!-- 134139922529648 -->\n<g id=\"node8\" class=\"node\">\n<title>134139922529648</title>\n<polygon fill=\"lightblue\" stroke=\"black\" points=\"187,-342 128,-342 128,-311 187,-311 187,-342\"/>\n<text text-anchor=\"middle\" x=\"157.5\" y=\"-318\" font-family=\"monospace\" font-size=\"10.00\"> (1, 1)</text>\n</g>\n<!-- 134139922529648&#45;&gt;134139940690368 -->\n<g id=\"edge6\" class=\"edge\">\n<title>134139922529648&#45;&gt;134139940690368</title>\n<path fill=\"none\" stroke=\"black\" d=\"M157.5,-310.75C157.5,-301.39 157.5,-289.19 157.5,-279.16\"/>\n<polygon fill=\"black\" stroke=\"black\" points=\"161,-279.02 157.5,-269.02 154,-279.02 161,-279.02\"/>\n</g>\n<!-- 134139921986288&#45;&gt;134139921383248 -->\n<g id=\"edge9\" class=\"edge\">\n<title>134139921986288&#45;&gt;134139921383248</title>\n<path fill=\"none\" stroke=\"black\" stroke-dasharray=\"1,5\" d=\"M140.61,-66.75C134.66,-58.69 127.15,-48.53 120.45,-39.45\"/>\n<polygon fill=\"black\" stroke=\"black\" points=\"123.1,-37.16 114.35,-31.19 117.47,-41.31 123.1,-37.16\"/>\n</g>\n</g>\n</svg>\n",
            "text/plain": [
              "<graphviz.graphs.Digraph at 0x79ffe25e7b10>"
            ]
          },
          "metadata": {},
          "execution_count": 106
        }
      ]
    },
    {
      "cell_type": "code",
      "source": [
        "fc1 = nn.Linear(1,3) # fully-connected\n",
        "fc2 = nn.Linear(3,1)\n",
        "\n",
        "print(fc1.weight)\n",
        "print(fc1.bias)\n",
        "print(fc2.weight)\n",
        "print(fc2.bias)"
      ],
      "metadata": {
        "colab": {
          "base_uri": "https://localhost:8080/"
        },
        "id": "iLVwD0Jxzn76",
        "outputId": "3b0ff7c0-f592-4d71-f0d9-4978505ab146"
      },
      "execution_count": 15,
      "outputs": [
        {
          "output_type": "stream",
          "name": "stdout",
          "text": [
            "Parameter containing:\n",
            "tensor([[-0.5182],\n",
            "        [-0.6374],\n",
            "        [-0.1489]], requires_grad=True)\n",
            "Parameter containing:\n",
            "tensor([ 0.6925, -0.1945,  0.3437], requires_grad=True)\n",
            "Parameter containing:\n",
            "tensor([[0.5192, 0.1162, 0.3529]], requires_grad=True)\n",
            "Parameter containing:\n",
            "tensor([-0.2357], requires_grad=True)\n"
          ]
        }
      ]
    },
    {
      "cell_type": "code",
      "source": [
        "x = torch.tensor([1.])\n",
        "x = fc1(x)\n",
        "print(x)\n",
        "y = fc2(x)\n",
        "print(y)"
      ],
      "metadata": {
        "colab": {
          "base_uri": "https://localhost:8080/"
        },
        "id": "Tdaem2RO1Bkp",
        "outputId": "1c9ad4fb-4f91-48ff-c9fd-578134f139b1"
      },
      "execution_count": null,
      "outputs": [
        {
          "output_type": "stream",
          "name": "stdout",
          "text": [
            "tensor([ 0.6674, -0.5033,  0.7443], grad_fn=<ViewBackward0>)\n",
            "tensor([-0.5007], grad_fn=<ViewBackward0>)\n"
          ]
        }
      ]
    },
    {
      "cell_type": "code",
      "source": [
        "# 바로 위 것을 식으로 표현하면\n",
        "x = torch.tensor([1.])\n",
        "x = x@fc1.weight.T+fc1.bias\n",
        "print(x)\n",
        "y = x@fc2.weight.T+fc2.bias\n",
        "print(y)"
      ],
      "metadata": {
        "colab": {
          "base_uri": "https://localhost:8080/"
        },
        "id": "oOXWtJgo1ZMm",
        "outputId": "ae7b4533-28c0-4200-a503-ada053a480f4"
      },
      "execution_count": null,
      "outputs": [
        {
          "output_type": "stream",
          "name": "stdout",
          "text": [
            "tensor([ 0.6674, -0.5033,  0.7443], grad_fn=<AddBackward0>)\n",
            "tensor([-0.5007], grad_fn=<AddBackward0>)\n"
          ]
        }
      ]
    },
    {
      "cell_type": "code",
      "source": [
        "# 한 번에 표현\n",
        "x = torch.tensor([1.])\n",
        "y2 = (x@fc1.weight.T+fc1.bias)@fc2.weight.T+fc2.bias\n",
        "print(y2)"
      ],
      "metadata": {
        "colab": {
          "base_uri": "https://localhost:8080/"
        },
        "id": "en0vkR_P2rrM",
        "outputId": "6df0068b-fabc-41d4-c9f0-2e85eb83f13e"
      },
      "execution_count": null,
      "outputs": [
        {
          "output_type": "stream",
          "name": "stdout",
          "text": [
            "tensor([-0.5007], grad_fn=<AddBackward0>)\n"
          ]
        }
      ]
    },
    {
      "cell_type": "code",
      "source": [
        "make_dot(y)"
      ],
      "metadata": {
        "colab": {
          "base_uri": "https://localhost:8080/",
          "height": 871
        },
        "id": "ZrqPFbGU3Bqf",
        "outputId": "16d2717a-9179-4611-e22e-49677204bd2c"
      },
      "execution_count": null,
      "outputs": [
        {
          "output_type": "execute_result",
          "data": {
            "image/svg+xml": "<?xml version=\"1.0\" encoding=\"UTF-8\" standalone=\"no\"?>\n<!DOCTYPE svg PUBLIC \"-//W3C//DTD SVG 1.1//EN\"\n \"http://www.w3.org/Graphics/SVG/1.1/DTD/svg11.dtd\">\n<!-- Generated by graphviz version 2.43.0 (0)\n -->\n<!-- Title: %3 Pages: 1 -->\n<svg width=\"413pt\" height=\"637pt\"\n viewBox=\"0.00 0.00 413.00 637.00\" xmlns=\"http://www.w3.org/2000/svg\" xmlns:xlink=\"http://www.w3.org/1999/xlink\">\n<g id=\"graph0\" class=\"graph\" transform=\"scale(1 1) rotate(0) translate(4 633)\">\n<title>%3</title>\n<polygon fill=\"white\" stroke=\"transparent\" points=\"-4,4 -4,-633 409,-633 409,4 -4,4\"/>\n<!-- 134139921085744 -->\n<g id=\"node1\" class=\"node\">\n<title>134139921085744</title>\n<polygon fill=\"#caff70\" stroke=\"black\" points=\"318.5,-31 264.5,-31 264.5,0 318.5,0 318.5,-31\"/>\n<text text-anchor=\"middle\" x=\"291.5\" y=\"-7\" font-family=\"monospace\" font-size=\"10.00\"> (1)</text>\n</g>\n<!-- 134139929626944 -->\n<g id=\"node2\" class=\"node\">\n<title>134139929626944</title>\n<polygon fill=\"lightgrey\" stroke=\"black\" points=\"336,-86 247,-86 247,-67 336,-67 336,-86\"/>\n<text text-anchor=\"middle\" x=\"291.5\" y=\"-74\" font-family=\"monospace\" font-size=\"10.00\">AddBackward0</text>\n</g>\n<!-- 134139929626944&#45;&gt;134139921085744 -->\n<g id=\"edge17\" class=\"edge\">\n<title>134139929626944&#45;&gt;134139921085744</title>\n<path fill=\"none\" stroke=\"black\" d=\"M291.5,-66.79C291.5,-60.07 291.5,-50.4 291.5,-41.34\"/>\n<polygon fill=\"black\" stroke=\"black\" points=\"295,-41.19 291.5,-31.19 288,-41.19 295,-41.19\"/>\n</g>\n<!-- 134139929625216 -->\n<g id=\"node3\" class=\"node\">\n<title>134139929625216</title>\n<polygon fill=\"lightgrey\" stroke=\"black\" points=\"286,-141 173,-141 173,-122 286,-122 286,-141\"/>\n<text text-anchor=\"middle\" x=\"229.5\" y=\"-129\" font-family=\"monospace\" font-size=\"10.00\">SqueezeBackward4</text>\n</g>\n<!-- 134139929625216&#45;&gt;134139929626944 -->\n<g id=\"edge1\" class=\"edge\">\n<title>134139929625216&#45;&gt;134139929626944</title>\n<path fill=\"none\" stroke=\"black\" d=\"M239.46,-121.98C248.63,-114.15 262.44,-102.34 273.53,-92.86\"/>\n<polygon fill=\"black\" stroke=\"black\" points=\"276.03,-95.33 281.36,-86.17 271.48,-90.01 276.03,-95.33\"/>\n</g>\n<!-- 134139929625600 -->\n<g id=\"node4\" class=\"node\">\n<title>134139929625600</title>\n<polygon fill=\"lightgrey\" stroke=\"black\" points=\"271,-202 188,-202 188,-183 271,-183 271,-202\"/>\n<text text-anchor=\"middle\" x=\"229.5\" y=\"-190\" font-family=\"monospace\" font-size=\"10.00\">MmBackward0</text>\n</g>\n<!-- 134139929625600&#45;&gt;134139929625216 -->\n<g id=\"edge2\" class=\"edge\">\n<title>134139929625600&#45;&gt;134139929625216</title>\n<path fill=\"none\" stroke=\"black\" d=\"M229.5,-182.79C229.5,-174.6 229.5,-162.06 229.5,-151.55\"/>\n<polygon fill=\"black\" stroke=\"black\" points=\"233,-151.24 229.5,-141.24 226,-151.24 233,-151.24\"/>\n</g>\n<!-- 134139929629488 -->\n<g id=\"node5\" class=\"node\">\n<title>134139929629488</title>\n<polygon fill=\"lightgrey\" stroke=\"black\" points=\"224,-263 99,-263 99,-244 224,-244 224,-263\"/>\n<text text-anchor=\"middle\" x=\"161.5\" y=\"-251\" font-family=\"monospace\" font-size=\"10.00\">UnsqueezeBackward0</text>\n</g>\n<!-- 134139929629488&#45;&gt;134139929625600 -->\n<g id=\"edge3\" class=\"edge\">\n<title>134139929629488&#45;&gt;134139929625600</title>\n<path fill=\"none\" stroke=\"black\" d=\"M171.53,-243.79C182.08,-234.64 198.89,-220.06 211.69,-208.95\"/>\n<polygon fill=\"black\" stroke=\"black\" points=\"214.17,-211.44 219.43,-202.24 209.58,-206.15 214.17,-211.44\"/>\n</g>\n<!-- 134139929629152 -->\n<g id=\"node6\" class=\"node\">\n<title>134139929629152</title>\n<polygon fill=\"lightgrey\" stroke=\"black\" points=\"206,-318 117,-318 117,-299 206,-299 206,-318\"/>\n<text text-anchor=\"middle\" x=\"161.5\" y=\"-306\" font-family=\"monospace\" font-size=\"10.00\">AddBackward0</text>\n</g>\n<!-- 134139929629152&#45;&gt;134139929629488 -->\n<g id=\"edge4\" class=\"edge\">\n<title>134139929629152&#45;&gt;134139929629488</title>\n<path fill=\"none\" stroke=\"black\" d=\"M161.5,-298.75C161.5,-291.8 161.5,-281.85 161.5,-273.13\"/>\n<polygon fill=\"black\" stroke=\"black\" points=\"165,-273.09 161.5,-263.09 158,-273.09 165,-273.09\"/>\n</g>\n<!-- 134139929628288 -->\n<g id=\"node7\" class=\"node\">\n<title>134139929628288</title>\n<polygon fill=\"lightgrey\" stroke=\"black\" points=\"113,-379 0,-379 0,-360 113,-360 113,-379\"/>\n<text text-anchor=\"middle\" x=\"56.5\" y=\"-367\" font-family=\"monospace\" font-size=\"10.00\">SqueezeBackward4</text>\n</g>\n<!-- 134139929628288&#45;&gt;134139929629152 -->\n<g id=\"edge5\" class=\"edge\">\n<title>134139929628288&#45;&gt;134139929629152</title>\n<path fill=\"none\" stroke=\"black\" d=\"M71.99,-359.79C89.23,-350.11 117.29,-334.34 137.4,-323.04\"/>\n<polygon fill=\"black\" stroke=\"black\" points=\"139.28,-326 146.28,-318.05 135.85,-319.9 139.28,-326\"/>\n</g>\n<!-- 134139929625408 -->\n<g id=\"node8\" class=\"node\">\n<title>134139929625408</title>\n<polygon fill=\"lightgrey\" stroke=\"black\" points=\"98,-446 15,-446 15,-427 98,-427 98,-446\"/>\n<text text-anchor=\"middle\" x=\"56.5\" y=\"-434\" font-family=\"monospace\" font-size=\"10.00\">MmBackward0</text>\n</g>\n<!-- 134139929625408&#45;&gt;134139929628288 -->\n<g id=\"edge6\" class=\"edge\">\n<title>134139929625408&#45;&gt;134139929628288</title>\n<path fill=\"none\" stroke=\"black\" d=\"M56.5,-426.73C56.5,-417.18 56.5,-401.62 56.5,-389.28\"/>\n<polygon fill=\"black\" stroke=\"black\" points=\"60,-389.13 56.5,-379.13 53,-389.13 60,-389.13\"/>\n</g>\n<!-- 134139929627424 -->\n<g id=\"node9\" class=\"node\">\n<title>134139929627424</title>\n<polygon fill=\"lightgrey\" stroke=\"black\" points=\"113,-507 0,-507 0,-488 113,-488 113,-507\"/>\n<text text-anchor=\"middle\" x=\"56.5\" y=\"-495\" font-family=\"monospace\" font-size=\"10.00\">PermuteBackward0</text>\n</g>\n<!-- 134139929627424&#45;&gt;134139929625408 -->\n<g id=\"edge7\" class=\"edge\">\n<title>134139929627424&#45;&gt;134139929625408</title>\n<path fill=\"none\" stroke=\"black\" d=\"M56.5,-487.79C56.5,-479.6 56.5,-467.06 56.5,-456.55\"/>\n<polygon fill=\"black\" stroke=\"black\" points=\"60,-456.24 56.5,-446.24 53,-456.24 60,-456.24\"/>\n</g>\n<!-- 134139929628240 -->\n<g id=\"node10\" class=\"node\">\n<title>134139929628240</title>\n<polygon fill=\"lightgrey\" stroke=\"black\" points=\"107,-562 6,-562 6,-543 107,-543 107,-562\"/>\n<text text-anchor=\"middle\" x=\"56.5\" y=\"-550\" font-family=\"monospace\" font-size=\"10.00\">AccumulateGrad</text>\n</g>\n<!-- 134139929628240&#45;&gt;134139929627424 -->\n<g id=\"edge8\" class=\"edge\">\n<title>134139929628240&#45;&gt;134139929627424</title>\n<path fill=\"none\" stroke=\"black\" d=\"M56.5,-542.75C56.5,-535.8 56.5,-525.85 56.5,-517.13\"/>\n<polygon fill=\"black\" stroke=\"black\" points=\"60,-517.09 56.5,-507.09 53,-517.09 60,-517.09\"/>\n</g>\n<!-- 134139921973712 -->\n<g id=\"node11\" class=\"node\">\n<title>134139921973712</title>\n<polygon fill=\"lightblue\" stroke=\"black\" points=\"86,-629 27,-629 27,-598 86,-598 86,-629\"/>\n<text text-anchor=\"middle\" x=\"56.5\" y=\"-605\" font-family=\"monospace\" font-size=\"10.00\"> (3, 1)</text>\n</g>\n<!-- 134139921973712&#45;&gt;134139929628240 -->\n<g id=\"edge9\" class=\"edge\">\n<title>134139921973712&#45;&gt;134139929628240</title>\n<path fill=\"none\" stroke=\"black\" d=\"M56.5,-597.92C56.5,-590.22 56.5,-580.69 56.5,-572.43\"/>\n<polygon fill=\"black\" stroke=\"black\" points=\"60,-572.25 56.5,-562.25 53,-572.25 60,-572.25\"/>\n</g>\n<!-- 134139929634480 -->\n<g id=\"node12\" class=\"node\">\n<title>134139929634480</title>\n<polygon fill=\"lightgrey\" stroke=\"black\" points=\"232,-379 131,-379 131,-360 232,-360 232,-379\"/>\n<text text-anchor=\"middle\" x=\"181.5\" y=\"-367\" font-family=\"monospace\" font-size=\"10.00\">AccumulateGrad</text>\n</g>\n<!-- 134139929634480&#45;&gt;134139929629152 -->\n<g id=\"edge10\" class=\"edge\">\n<title>134139929634480&#45;&gt;134139929629152</title>\n<path fill=\"none\" stroke=\"black\" d=\"M178.55,-359.79C175.71,-351.43 171.34,-338.52 167.73,-327.88\"/>\n<polygon fill=\"black\" stroke=\"black\" points=\"170.99,-326.59 164.46,-318.24 164.36,-328.84 170.99,-326.59\"/>\n</g>\n<!-- 134139921974576 -->\n<g id=\"node13\" class=\"node\">\n<title>134139921974576</title>\n<polygon fill=\"lightblue\" stroke=\"black\" points=\"208.5,-452 154.5,-452 154.5,-421 208.5,-421 208.5,-452\"/>\n<text text-anchor=\"middle\" x=\"181.5\" y=\"-428\" font-family=\"monospace\" font-size=\"10.00\"> (3)</text>\n</g>\n<!-- 134139921974576&#45;&gt;134139929634480 -->\n<g id=\"edge11\" class=\"edge\">\n<title>134139921974576&#45;&gt;134139929634480</title>\n<path fill=\"none\" stroke=\"black\" d=\"M181.5,-420.75C181.5,-411.39 181.5,-399.19 181.5,-389.16\"/>\n<polygon fill=\"black\" stroke=\"black\" points=\"185,-389.02 181.5,-379.02 178,-389.02 185,-389.02\"/>\n</g>\n<!-- 134139929633568 -->\n<g id=\"node14\" class=\"node\">\n<title>134139929633568</title>\n<polygon fill=\"lightgrey\" stroke=\"black\" points=\"355,-263 242,-263 242,-244 355,-244 355,-263\"/>\n<text text-anchor=\"middle\" x=\"298.5\" y=\"-251\" font-family=\"monospace\" font-size=\"10.00\">PermuteBackward0</text>\n</g>\n<!-- 134139929633568&#45;&gt;134139929625600 -->\n<g id=\"edge12\" class=\"edge\">\n<title>134139929633568&#45;&gt;134139929625600</title>\n<path fill=\"none\" stroke=\"black\" d=\"M288.32,-243.79C277.62,-234.64 260.56,-220.06 247.57,-208.95\"/>\n<polygon fill=\"black\" stroke=\"black\" points=\"249.6,-206.08 239.72,-202.24 245.05,-211.4 249.6,-206.08\"/>\n</g>\n<!-- 134139929633376 -->\n<g id=\"node15\" class=\"node\">\n<title>134139929633376</title>\n<polygon fill=\"lightgrey\" stroke=\"black\" points=\"349,-318 248,-318 248,-299 349,-299 349,-318\"/>\n<text text-anchor=\"middle\" x=\"298.5\" y=\"-306\" font-family=\"monospace\" font-size=\"10.00\">AccumulateGrad</text>\n</g>\n<!-- 134139929633376&#45;&gt;134139929633568 -->\n<g id=\"edge13\" class=\"edge\">\n<title>134139929633376&#45;&gt;134139929633568</title>\n<path fill=\"none\" stroke=\"black\" d=\"M298.5,-298.75C298.5,-291.8 298.5,-281.85 298.5,-273.13\"/>\n<polygon fill=\"black\" stroke=\"black\" points=\"302,-273.09 298.5,-263.09 295,-273.09 302,-273.09\"/>\n</g>\n<!-- 134139921975344 -->\n<g id=\"node16\" class=\"node\">\n<title>134139921975344</title>\n<polygon fill=\"lightblue\" stroke=\"black\" points=\"328,-385 269,-385 269,-354 328,-354 328,-385\"/>\n<text text-anchor=\"middle\" x=\"298.5\" y=\"-361\" font-family=\"monospace\" font-size=\"10.00\"> (1, 3)</text>\n</g>\n<!-- 134139921975344&#45;&gt;134139929633376 -->\n<g id=\"edge14\" class=\"edge\">\n<title>134139921975344&#45;&gt;134139929633376</title>\n<path fill=\"none\" stroke=\"black\" d=\"M298.5,-353.92C298.5,-346.22 298.5,-336.69 298.5,-328.43\"/>\n<polygon fill=\"black\" stroke=\"black\" points=\"302,-328.25 298.5,-318.25 295,-328.25 302,-328.25\"/>\n</g>\n<!-- 134139929628480 -->\n<g id=\"node17\" class=\"node\">\n<title>134139929628480</title>\n<polygon fill=\"lightgrey\" stroke=\"black\" points=\"405,-141 304,-141 304,-122 405,-122 405,-141\"/>\n<text text-anchor=\"middle\" x=\"354.5\" y=\"-129\" font-family=\"monospace\" font-size=\"10.00\">AccumulateGrad</text>\n</g>\n<!-- 134139929628480&#45;&gt;134139929626944 -->\n<g id=\"edge15\" class=\"edge\">\n<title>134139929628480&#45;&gt;134139929626944</title>\n<path fill=\"none\" stroke=\"black\" d=\"M344.38,-121.98C335.06,-114.15 321.03,-102.34 309.76,-92.86\"/>\n<polygon fill=\"black\" stroke=\"black\" points=\"311.71,-89.93 301.81,-86.17 307.21,-95.29 311.71,-89.93\"/>\n</g>\n<!-- 134139921976784 -->\n<g id=\"node18\" class=\"node\">\n<title>134139921976784</title>\n<polygon fill=\"lightblue\" stroke=\"black\" points=\"381.5,-208 327.5,-208 327.5,-177 381.5,-177 381.5,-208\"/>\n<text text-anchor=\"middle\" x=\"354.5\" y=\"-184\" font-family=\"monospace\" font-size=\"10.00\"> (1)</text>\n</g>\n<!-- 134139921976784&#45;&gt;134139929628480 -->\n<g id=\"edge16\" class=\"edge\">\n<title>134139921976784&#45;&gt;134139929628480</title>\n<path fill=\"none\" stroke=\"black\" d=\"M354.5,-176.92C354.5,-169.22 354.5,-159.69 354.5,-151.43\"/>\n<polygon fill=\"black\" stroke=\"black\" points=\"358,-151.25 354.5,-141.25 351,-151.25 358,-151.25\"/>\n</g>\n</g>\n</svg>\n",
            "text/plain": [
              "<graphviz.graphs.Digraph at 0x79ffe28c9ed0>"
            ]
          },
          "metadata": {},
          "execution_count": 117
        }
      ]
    },
    {
      "cell_type": "code",
      "source": [
        "model = nn.Linear(2,3)\n",
        "x = torch.randn(2)\n",
        "print(x)\n",
        "print(model(x))"
      ],
      "metadata": {
        "colab": {
          "base_uri": "https://localhost:8080/"
        },
        "id": "aY3gNmOm3Xf9",
        "outputId": "4dbbd435-428d-4147-9c2b-ebc5faee7c4e"
      },
      "execution_count": null,
      "outputs": [
        {
          "output_type": "stream",
          "name": "stdout",
          "text": [
            "tensor([ 0.2846, -0.6886])\n",
            "tensor([0.0685, 0.7011, 0.8690], grad_fn=<ViewBackward0>)\n"
          ]
        }
      ]
    },
    {
      "cell_type": "code",
      "source": [
        "model = nn.Linear(2,3)\n",
        "x = torch.randn(5,2) # 개x채널 로 넣어줘야함.\n",
        "print(x)"
      ],
      "metadata": {
        "id": "u5XoPXnU4Igg",
        "colab": {
          "base_uri": "https://localhost:8080/"
        },
        "outputId": "47e202db-cd55-4cae-b670-d25d495a39b6"
      },
      "execution_count": 3,
      "outputs": [
        {
          "output_type": "stream",
          "name": "stdout",
          "text": [
            "tensor([[ 0.3649,  0.9389],\n",
            "        [ 1.1603, -1.5822],\n",
            "        [ 1.1469,  0.5426],\n",
            "        [-0.4003,  1.0852],\n",
            "        [ 0.5503, -0.3780]])\n"
          ]
        }
      ]
    },
    {
      "cell_type": "code",
      "source": [
        "print(model(x))\n",
        "print(model(x).shape)"
      ],
      "metadata": {
        "colab": {
          "base_uri": "https://localhost:8080/"
        },
        "id": "RCXbY8RQnL5O",
        "outputId": "7c06ba89-54b9-43e6-86cc-9ec68179e858"
      },
      "execution_count": 6,
      "outputs": [
        {
          "output_type": "stream",
          "name": "stdout",
          "text": [
            "tensor([[ 0.1573, -0.2347,  0.6907],\n",
            "        [ 1.0018, -1.5623,  1.4000],\n",
            "        [ 0.4034, -0.6841,  1.0623],\n",
            "        [-0.0158,  0.1059,  0.3648],\n",
            "        [ 0.5587, -0.8439,  0.9701]], grad_fn=<AddmmBackward0>)\n",
            "torch.Size([5, 3])\n"
          ]
        }
      ]
    },
    {
      "cell_type": "code",
      "source": [
        "x = torch.randn(4,5,2)\n",
        "print(model(x).shape) # 3개의 아웃풋이 나오므로 마지막 원소 3"
      ],
      "metadata": {
        "colab": {
          "base_uri": "https://localhost:8080/"
        },
        "id": "G-kvuj5jnN6B",
        "outputId": "30246c83-f197-4358-b037-d21412ff5327"
      },
      "execution_count": 7,
      "outputs": [
        {
          "output_type": "stream",
          "name": "stdout",
          "text": [
            "torch.Size([4, 5, 3])\n"
          ]
        }
      ]
    },
    {
      "cell_type": "code",
      "source": [
        "y = torch.randn(2,4,5,6,3,5,2)\n",
        "print(model(y).shape)"
      ],
      "metadata": {
        "colab": {
          "base_uri": "https://localhost:8080/"
        },
        "id": "2U4oMObjnnn5",
        "outputId": "8c41f4c3-8463-4ad4-b0ad-5f6a5661a725"
      },
      "execution_count": 11,
      "outputs": [
        {
          "output_type": "stream",
          "name": "stdout",
          "text": [
            "torch.Size([2, 4, 5, 6, 3, 5, 3])\n"
          ]
        }
      ]
    },
    {
      "cell_type": "code",
      "source": [
        "make_dot(model(y))"
      ],
      "metadata": {
        "colab": {
          "base_uri": "https://localhost:8080/",
          "height": 489
        },
        "id": "AuE9mdzWn3jo",
        "outputId": "285f2132-0de0-4768-b093-d852661f06c9"
      },
      "execution_count": 14,
      "outputs": [
        {
          "output_type": "execute_result",
          "data": {
            "image/svg+xml": "<?xml version=\"1.0\" encoding=\"UTF-8\" standalone=\"no\"?>\n<!DOCTYPE svg PUBLIC \"-//W3C//DTD SVG 1.1//EN\"\n \"http://www.w3.org/Graphics/SVG/1.1/DTD/svg11.dtd\">\n<!-- Generated by graphviz version 2.43.0 (0)\n -->\n<!-- Title: %3 Pages: 1 -->\n<svg width=\"216pt\" height=\"350pt\"\n viewBox=\"0.00 0.00 216.00 350.00\" xmlns=\"http://www.w3.org/2000/svg\" xmlns:xlink=\"http://www.w3.org/1999/xlink\">\n<g id=\"graph0\" class=\"graph\" transform=\"scale(1 1) rotate(0) translate(4 346)\">\n<title>%3</title>\n<polygon fill=\"white\" stroke=\"transparent\" points=\"-4,4 -4,-346 212,-346 212,4 -4,4\"/>\n<!-- 137537990609808 -->\n<g id=\"node1\" class=\"node\">\n<title>137537990609808</title>\n<polygon fill=\"#caff70\" stroke=\"black\" points=\"178,-31 29,-31 29,0 178,0 178,-31\"/>\n<text text-anchor=\"middle\" x=\"103.5\" y=\"-7\" font-family=\"monospace\" font-size=\"10.00\"> (2, 4, 5, 6, 3, 5, 3)</text>\n</g>\n<!-- 137538000545696 -->\n<g id=\"node2\" class=\"node\">\n<title>137538000545696</title>\n<polygon fill=\"lightgrey\" stroke=\"black\" points=\"99,-92 4,-92 4,-73 99,-73 99,-92\"/>\n<text text-anchor=\"middle\" x=\"51.5\" y=\"-80\" font-family=\"monospace\" font-size=\"10.00\">ViewBackward0</text>\n</g>\n<!-- 137538000545696&#45;&gt;137537990609808 -->\n<g id=\"edge7\" class=\"edge\">\n<title>137538000545696&#45;&gt;137537990609808</title>\n<path fill=\"none\" stroke=\"black\" d=\"M58.51,-72.73C65.38,-64.15 76.14,-50.69 85.42,-39.1\"/>\n<polygon fill=\"black\" stroke=\"black\" points=\"88.32,-41.08 91.83,-31.08 82.85,-36.71 88.32,-41.08\"/>\n</g>\n<!-- 137538000548000 -->\n<g id=\"node3\" class=\"node\">\n<title>137538000548000</title>\n<polygon fill=\"lightgrey\" stroke=\"black\" points=\"154,-153 53,-153 53,-134 154,-134 154,-153\"/>\n<text text-anchor=\"middle\" x=\"103.5\" y=\"-141\" font-family=\"monospace\" font-size=\"10.00\">AddmmBackward0</text>\n</g>\n<!-- 137538000548000&#45;&gt;137538000545696 -->\n<g id=\"edge1\" class=\"edge\">\n<title>137538000548000&#45;&gt;137538000545696</title>\n<path fill=\"none\" stroke=\"black\" d=\"M95.83,-133.79C87.99,-124.91 75.64,-110.89 65.96,-99.91\"/>\n<polygon fill=\"black\" stroke=\"black\" points=\"68.44,-97.43 59.2,-92.24 63.19,-102.06 68.44,-97.43\"/>\n</g>\n<!-- 137537990610480 -->\n<g id=\"node9\" class=\"node\">\n<title>137537990610480</title>\n<polygon fill=\"#a2cd5a\" stroke=\"black\" points=\"194,-98 117,-98 117,-67 194,-67 194,-98\"/>\n<text text-anchor=\"middle\" x=\"155.5\" y=\"-74\" font-family=\"monospace\" font-size=\"10.00\"> (3600, 3)</text>\n</g>\n<!-- 137538000548000&#45;&gt;137537990610480 -->\n<g id=\"edge8\" class=\"edge\">\n<title>137538000548000&#45;&gt;137537990610480</title>\n<path fill=\"none\" stroke=\"black\" d=\"M111.17,-133.79C117.68,-126.41 127.31,-115.49 135.93,-105.7\"/>\n<polygon fill=\"black\" stroke=\"black\" points=\"138.56,-108.01 142.55,-98.19 133.31,-103.38 138.56,-108.01\"/>\n</g>\n<!-- 137538000545792 -->\n<g id=\"node4\" class=\"node\">\n<title>137538000545792</title>\n<polygon fill=\"lightgrey\" stroke=\"black\" points=\"101,-208 0,-208 0,-189 101,-189 101,-208\"/>\n<text text-anchor=\"middle\" x=\"50.5\" y=\"-196\" font-family=\"monospace\" font-size=\"10.00\">AccumulateGrad</text>\n</g>\n<!-- 137538000545792&#45;&gt;137538000548000 -->\n<g id=\"edge2\" class=\"edge\">\n<title>137538000545792&#45;&gt;137538000548000</title>\n<path fill=\"none\" stroke=\"black\" d=\"M59.25,-188.75C66.97,-181.03 78.4,-169.6 87.72,-160.28\"/>\n<polygon fill=\"black\" stroke=\"black\" points=\"90.31,-162.64 94.91,-153.09 85.36,-157.69 90.31,-162.64\"/>\n</g>\n<!-- 137538047205904 -->\n<g id=\"node5\" class=\"node\">\n<title>137538047205904</title>\n<polygon fill=\"lightblue\" stroke=\"black\" points=\"77.5,-275 23.5,-275 23.5,-244 77.5,-244 77.5,-275\"/>\n<text text-anchor=\"middle\" x=\"50.5\" y=\"-251\" font-family=\"monospace\" font-size=\"10.00\"> (3)</text>\n</g>\n<!-- 137538047205904&#45;&gt;137538000545792 -->\n<g id=\"edge3\" class=\"edge\">\n<title>137538047205904&#45;&gt;137538000545792</title>\n<path fill=\"none\" stroke=\"black\" d=\"M50.5,-243.92C50.5,-236.22 50.5,-226.69 50.5,-218.43\"/>\n<polygon fill=\"black\" stroke=\"black\" points=\"54,-218.25 50.5,-208.25 47,-218.25 54,-218.25\"/>\n</g>\n<!-- 137537996392480 -->\n<g id=\"node6\" class=\"node\">\n<title>137537996392480</title>\n<polygon fill=\"lightgrey\" stroke=\"black\" points=\"196,-208 119,-208 119,-189 196,-189 196,-208\"/>\n<text text-anchor=\"middle\" x=\"157.5\" y=\"-196\" font-family=\"monospace\" font-size=\"10.00\">TBackward0</text>\n</g>\n<!-- 137537996392480&#45;&gt;137538000548000 -->\n<g id=\"edge4\" class=\"edge\">\n<title>137537996392480&#45;&gt;137538000548000</title>\n<path fill=\"none\" stroke=\"black\" d=\"M148.58,-188.75C140.72,-181.03 129.07,-169.6 119.58,-160.28\"/>\n<polygon fill=\"black\" stroke=\"black\" points=\"121.84,-157.6 112.25,-153.09 116.94,-162.59 121.84,-157.6\"/>\n</g>\n<!-- 137537996394688 -->\n<g id=\"node7\" class=\"node\">\n<title>137537996394688</title>\n<polygon fill=\"lightgrey\" stroke=\"black\" points=\"208,-269 107,-269 107,-250 208,-250 208,-269\"/>\n<text text-anchor=\"middle\" x=\"157.5\" y=\"-257\" font-family=\"monospace\" font-size=\"10.00\">AccumulateGrad</text>\n</g>\n<!-- 137537996394688&#45;&gt;137537996392480 -->\n<g id=\"edge5\" class=\"edge\">\n<title>137537996394688&#45;&gt;137537996392480</title>\n<path fill=\"none\" stroke=\"black\" d=\"M157.5,-249.79C157.5,-241.6 157.5,-229.06 157.5,-218.55\"/>\n<polygon fill=\"black\" stroke=\"black\" points=\"161,-218.24 157.5,-208.24 154,-218.24 161,-218.24\"/>\n</g>\n<!-- 137538047863952 -->\n<g id=\"node8\" class=\"node\">\n<title>137538047863952</title>\n<polygon fill=\"lightblue\" stroke=\"black\" points=\"187,-342 128,-342 128,-311 187,-311 187,-342\"/>\n<text text-anchor=\"middle\" x=\"157.5\" y=\"-318\" font-family=\"monospace\" font-size=\"10.00\"> (3, 2)</text>\n</g>\n<!-- 137538047863952&#45;&gt;137537996394688 -->\n<g id=\"edge6\" class=\"edge\">\n<title>137538047863952&#45;&gt;137537996394688</title>\n<path fill=\"none\" stroke=\"black\" d=\"M157.5,-310.75C157.5,-301.39 157.5,-289.19 157.5,-279.16\"/>\n<polygon fill=\"black\" stroke=\"black\" points=\"161,-279.02 157.5,-269.02 154,-279.02 161,-279.02\"/>\n</g>\n<!-- 137537990610480&#45;&gt;137537990609808 -->\n<g id=\"edge9\" class=\"edge\">\n<title>137537990610480&#45;&gt;137537990609808</title>\n<path fill=\"none\" stroke=\"black\" stroke-dasharray=\"1,5\" d=\"M143.7,-66.75C137.18,-58.61 128.95,-48.32 121.64,-39.17\"/>\n<polygon fill=\"black\" stroke=\"black\" points=\"124.23,-36.81 115.25,-31.19 118.77,-41.19 124.23,-36.81\"/>\n</g>\n</g>\n</svg>\n",
            "text/plain": [
              "<graphviz.graphs.Digraph at 0x7d170f4b7c50>"
            ]
          },
          "metadata": {},
          "execution_count": 14
        }
      ]
    },
    {
      "cell_type": "code",
      "source": [
        "\n",
        "fc1 = nn.Linear(1,3)\n",
        "fc2 = nn.Linear(3,1)\n"
      ],
      "metadata": {
        "id": "U2LgfgudoZgK"
      },
      "execution_count": 31,
      "outputs": []
    },
    {
      "cell_type": "code",
      "source": [
        "model = nn.Sequential(fc1,fc2)\n",
        "x = torch.tensor([1.])\n",
        "print(model(x))"
      ],
      "metadata": {
        "colab": {
          "base_uri": "https://localhost:8080/"
        },
        "id": "MABEPktNq9kB",
        "outputId": "6ec698f6-4938-4971-b52d-817dc96c681f"
      },
      "execution_count": 32,
      "outputs": [
        {
          "output_type": "stream",
          "name": "stdout",
          "text": [
            "tensor([0.3561], grad_fn=<ViewBackward0>)\n"
          ]
        }
      ]
    },
    {
      "cell_type": "code",
      "source": [
        "make_dot(model(x))"
      ],
      "metadata": {
        "colab": {
          "base_uri": "https://localhost:8080/",
          "height": 741
        },
        "id": "xDZ3zjqCrdDV",
        "outputId": "fd29ad16-24a5-4ae9-b896-9f89228d7cbe"
      },
      "execution_count": 33,
      "outputs": [
        {
          "output_type": "execute_result",
          "data": {
            "image/svg+xml": "<?xml version=\"1.0\" encoding=\"UTF-8\" standalone=\"no\"?>\n<!DOCTYPE svg PUBLIC \"-//W3C//DTD SVG 1.1//EN\"\n \"http://www.w3.org/Graphics/SVG/1.1/DTD/svg11.dtd\">\n<!-- Generated by graphviz version 2.43.0 (0)\n -->\n<!-- Title: %3 Pages: 1 -->\n<svg width=\"338pt\" height=\"539pt\"\n viewBox=\"0.00 0.00 338.00 539.00\" xmlns=\"http://www.w3.org/2000/svg\" xmlns:xlink=\"http://www.w3.org/1999/xlink\">\n<g id=\"graph0\" class=\"graph\" transform=\"scale(1 1) rotate(0) translate(4 535)\">\n<title>%3</title>\n<polygon fill=\"white\" stroke=\"transparent\" points=\"-4,4 -4,-535 334,-535 334,4 -4,4\"/>\n<!-- 137537989468976 -->\n<g id=\"node1\" class=\"node\">\n<title>137537989468976</title>\n<polygon fill=\"#caff70\" stroke=\"black\" points=\"193.5,-31 139.5,-31 139.5,0 193.5,0 193.5,-31\"/>\n<text text-anchor=\"middle\" x=\"166.5\" y=\"-7\" font-family=\"monospace\" font-size=\"10.00\"> (1)</text>\n</g>\n<!-- 137537989869728 -->\n<g id=\"node2\" class=\"node\">\n<title>137537989869728</title>\n<polygon fill=\"lightgrey\" stroke=\"black\" points=\"167,-92 72,-92 72,-73 167,-73 167,-92\"/>\n<text text-anchor=\"middle\" x=\"119.5\" y=\"-80\" font-family=\"monospace\" font-size=\"10.00\">ViewBackward0</text>\n</g>\n<!-- 137537989869728&#45;&gt;137537989468976 -->\n<g id=\"edge15\" class=\"edge\">\n<title>137537989869728&#45;&gt;137537989468976</title>\n<path fill=\"none\" stroke=\"black\" d=\"M125.84,-72.73C131.99,-64.23 141.59,-50.96 149.91,-39.44\"/>\n<polygon fill=\"black\" stroke=\"black\" points=\"152.93,-41.24 155.95,-31.08 147.26,-37.14 152.93,-41.24\"/>\n</g>\n<!-- 137537989871312 -->\n<g id=\"node3\" class=\"node\">\n<title>137537989871312</title>\n<polygon fill=\"lightgrey\" stroke=\"black\" points=\"217,-153 116,-153 116,-134 217,-134 217,-153\"/>\n<text text-anchor=\"middle\" x=\"166.5\" y=\"-141\" font-family=\"monospace\" font-size=\"10.00\">AddmmBackward0</text>\n</g>\n<!-- 137537989871312&#45;&gt;137537989869728 -->\n<g id=\"edge1\" class=\"edge\">\n<title>137537989871312&#45;&gt;137537989869728</title>\n<path fill=\"none\" stroke=\"black\" d=\"M159.56,-133.79C152.55,-124.99 141.54,-111.17 132.83,-100.23\"/>\n<polygon fill=\"black\" stroke=\"black\" points=\"135.43,-97.88 126.46,-92.24 129.96,-102.24 135.43,-97.88\"/>\n</g>\n<!-- 137537989083888 -->\n<g id=\"node17\" class=\"node\">\n<title>137537989083888</title>\n<polygon fill=\"#a2cd5a\" stroke=\"black\" points=\"244,-98 185,-98 185,-67 244,-67 244,-98\"/>\n<text text-anchor=\"middle\" x=\"214.5\" y=\"-74\" font-family=\"monospace\" font-size=\"10.00\"> (1, 1)</text>\n</g>\n<!-- 137537989871312&#45;&gt;137537989083888 -->\n<g id=\"edge16\" class=\"edge\">\n<title>137537989871312&#45;&gt;137537989083888</title>\n<path fill=\"none\" stroke=\"black\" d=\"M173.58,-133.79C179.53,-126.48 188.3,-115.7 196.2,-105.99\"/>\n<polygon fill=\"black\" stroke=\"black\" points=\"198.95,-108.16 202.55,-98.19 193.52,-103.74 198.95,-108.16\"/>\n</g>\n<!-- 137537989869776 -->\n<g id=\"node4\" class=\"node\">\n<title>137537989869776</title>\n<polygon fill=\"lightgrey\" stroke=\"black\" points=\"101,-208 0,-208 0,-189 101,-189 101,-208\"/>\n<text text-anchor=\"middle\" x=\"50.5\" y=\"-196\" font-family=\"monospace\" font-size=\"10.00\">AccumulateGrad</text>\n</g>\n<!-- 137537989869776&#45;&gt;137537989871312 -->\n<g id=\"edge2\" class=\"edge\">\n<title>137537989869776&#45;&gt;137537989871312</title>\n<path fill=\"none\" stroke=\"black\" d=\"M69.14,-188.98C87.8,-180.46 116.75,-167.23 138.24,-157.41\"/>\n<polygon fill=\"black\" stroke=\"black\" points=\"139.88,-160.51 147.52,-153.17 136.97,-154.14 139.88,-160.51\"/>\n</g>\n<!-- 137537989474160 -->\n<g id=\"node5\" class=\"node\">\n<title>137537989474160</title>\n<polygon fill=\"lightblue\" stroke=\"black\" points=\"77.5,-275 23.5,-275 23.5,-244 77.5,-244 77.5,-275\"/>\n<text text-anchor=\"middle\" x=\"50.5\" y=\"-251\" font-family=\"monospace\" font-size=\"10.00\"> (1)</text>\n</g>\n<!-- 137537989474160&#45;&gt;137537989869776 -->\n<g id=\"edge3\" class=\"edge\">\n<title>137537989474160&#45;&gt;137537989869776</title>\n<path fill=\"none\" stroke=\"black\" d=\"M50.5,-243.92C50.5,-236.22 50.5,-226.69 50.5,-218.43\"/>\n<polygon fill=\"black\" stroke=\"black\" points=\"54,-218.25 50.5,-208.25 47,-218.25 54,-218.25\"/>\n</g>\n<!-- 137537989884512 -->\n<g id=\"node6\" class=\"node\">\n<title>137537989884512</title>\n<polygon fill=\"lightgrey\" stroke=\"black\" points=\"214,-208 119,-208 119,-189 214,-189 214,-208\"/>\n<text text-anchor=\"middle\" x=\"166.5\" y=\"-196\" font-family=\"monospace\" font-size=\"10.00\">ViewBackward0</text>\n</g>\n<!-- 137537989884512&#45;&gt;137537989871312 -->\n<g id=\"edge4\" class=\"edge\">\n<title>137537989884512&#45;&gt;137537989871312</title>\n<path fill=\"none\" stroke=\"black\" d=\"M166.5,-188.75C166.5,-181.8 166.5,-171.85 166.5,-163.13\"/>\n<polygon fill=\"black\" stroke=\"black\" points=\"170,-163.09 166.5,-153.09 163,-163.09 170,-163.09\"/>\n</g>\n<!-- 137537989884032 -->\n<g id=\"node7\" class=\"node\">\n<title>137537989884032</title>\n<polygon fill=\"lightgrey\" stroke=\"black\" points=\"211,-269 116,-269 116,-250 211,-250 211,-269\"/>\n<text text-anchor=\"middle\" x=\"163.5\" y=\"-257\" font-family=\"monospace\" font-size=\"10.00\">ViewBackward0</text>\n</g>\n<!-- 137537989884032&#45;&gt;137537989884512 -->\n<g id=\"edge5\" class=\"edge\">\n<title>137537989884032&#45;&gt;137537989884512</title>\n<path fill=\"none\" stroke=\"black\" d=\"M163.94,-249.79C164.36,-241.6 165,-229.06 165.53,-218.55\"/>\n<polygon fill=\"black\" stroke=\"black\" points=\"169.04,-218.41 166.06,-208.24 162.05,-218.05 169.04,-218.41\"/>\n</g>\n<!-- 137537989884944 -->\n<g id=\"node8\" class=\"node\">\n<title>137537989884944</title>\n<polygon fill=\"lightgrey\" stroke=\"black\" points=\"214,-336 113,-336 113,-317 214,-317 214,-336\"/>\n<text text-anchor=\"middle\" x=\"163.5\" y=\"-324\" font-family=\"monospace\" font-size=\"10.00\">AddmmBackward0</text>\n</g>\n<!-- 137537989884944&#45;&gt;137537989884032 -->\n<g id=\"edge6\" class=\"edge\">\n<title>137537989884944&#45;&gt;137537989884032</title>\n<path fill=\"none\" stroke=\"black\" d=\"M163.5,-316.73C163.5,-307.18 163.5,-291.62 163.5,-279.28\"/>\n<polygon fill=\"black\" stroke=\"black\" points=\"167,-279.13 163.5,-269.13 160,-279.13 167,-279.13\"/>\n</g>\n<!-- 137537989874672 -->\n<g id=\"node9\" class=\"node\">\n<title>137537989874672</title>\n<polygon fill=\"lightgrey\" stroke=\"black\" points=\"161,-397 60,-397 60,-378 161,-378 161,-397\"/>\n<text text-anchor=\"middle\" x=\"110.5\" y=\"-385\" font-family=\"monospace\" font-size=\"10.00\">AccumulateGrad</text>\n</g>\n<!-- 137537989874672&#45;&gt;137537989884944 -->\n<g id=\"edge7\" class=\"edge\">\n<title>137537989874672&#45;&gt;137537989884944</title>\n<path fill=\"none\" stroke=\"black\" d=\"M118.32,-377.79C126.31,-368.91 138.89,-354.89 148.76,-343.91\"/>\n<polygon fill=\"black\" stroke=\"black\" points=\"151.57,-346.02 155.65,-336.24 146.36,-341.34 151.57,-346.02\"/>\n</g>\n<!-- 137537989473776 -->\n<g id=\"node10\" class=\"node\">\n<title>137537989473776</title>\n<polygon fill=\"lightblue\" stroke=\"black\" points=\"137.5,-464 83.5,-464 83.5,-433 137.5,-433 137.5,-464\"/>\n<text text-anchor=\"middle\" x=\"110.5\" y=\"-440\" font-family=\"monospace\" font-size=\"10.00\"> (3)</text>\n</g>\n<!-- 137537989473776&#45;&gt;137537989874672 -->\n<g id=\"edge8\" class=\"edge\">\n<title>137537989473776&#45;&gt;137537989874672</title>\n<path fill=\"none\" stroke=\"black\" d=\"M110.5,-432.92C110.5,-425.22 110.5,-415.69 110.5,-407.43\"/>\n<polygon fill=\"black\" stroke=\"black\" points=\"114,-407.25 110.5,-397.25 107,-407.25 114,-407.25\"/>\n</g>\n<!-- 137537989875968 -->\n<g id=\"node11\" class=\"node\">\n<title>137537989875968</title>\n<polygon fill=\"lightgrey\" stroke=\"black\" points=\"256,-397 179,-397 179,-378 256,-378 256,-397\"/>\n<text text-anchor=\"middle\" x=\"217.5\" y=\"-385\" font-family=\"monospace\" font-size=\"10.00\">TBackward0</text>\n</g>\n<!-- 137537989875968&#45;&gt;137537989884944 -->\n<g id=\"edge9\" class=\"edge\">\n<title>137537989875968&#45;&gt;137537989884944</title>\n<path fill=\"none\" stroke=\"black\" d=\"M209.53,-377.79C201.4,-368.91 188.57,-354.89 178.52,-343.91\"/>\n<polygon fill=\"black\" stroke=\"black\" points=\"180.83,-341.26 171.5,-336.24 175.67,-345.98 180.83,-341.26\"/>\n</g>\n<!-- 137537989876688 -->\n<g id=\"node12\" class=\"node\">\n<title>137537989876688</title>\n<polygon fill=\"lightgrey\" stroke=\"black\" points=\"268,-458 167,-458 167,-439 268,-439 268,-458\"/>\n<text text-anchor=\"middle\" x=\"217.5\" y=\"-446\" font-family=\"monospace\" font-size=\"10.00\">AccumulateGrad</text>\n</g>\n<!-- 137537989876688&#45;&gt;137537989875968 -->\n<g id=\"edge10\" class=\"edge\">\n<title>137537989876688&#45;&gt;137537989875968</title>\n<path fill=\"none\" stroke=\"black\" d=\"M217.5,-438.79C217.5,-430.6 217.5,-418.06 217.5,-407.55\"/>\n<polygon fill=\"black\" stroke=\"black\" points=\"221,-407.24 217.5,-397.24 214,-407.24 221,-407.24\"/>\n</g>\n<!-- 137537989473392 -->\n<g id=\"node13\" class=\"node\">\n<title>137537989473392</title>\n<polygon fill=\"lightblue\" stroke=\"black\" points=\"247,-531 188,-531 188,-500 247,-500 247,-531\"/>\n<text text-anchor=\"middle\" x=\"217.5\" y=\"-507\" font-family=\"monospace\" font-size=\"10.00\"> (3, 1)</text>\n</g>\n<!-- 137537989473392&#45;&gt;137537989876688 -->\n<g id=\"edge11\" class=\"edge\">\n<title>137537989473392&#45;&gt;137537989876688</title>\n<path fill=\"none\" stroke=\"black\" d=\"M217.5,-499.75C217.5,-490.39 217.5,-478.19 217.5,-468.16\"/>\n<polygon fill=\"black\" stroke=\"black\" points=\"221,-468.02 217.5,-458.02 214,-468.02 221,-468.02\"/>\n</g>\n<!-- 137537989872608 -->\n<g id=\"node14\" class=\"node\">\n<title>137537989872608</title>\n<polygon fill=\"lightgrey\" stroke=\"black\" points=\"315,-208 238,-208 238,-189 315,-189 315,-208\"/>\n<text text-anchor=\"middle\" x=\"276.5\" y=\"-196\" font-family=\"monospace\" font-size=\"10.00\">TBackward0</text>\n</g>\n<!-- 137537989872608&#45;&gt;137537989871312 -->\n<g id=\"edge12\" class=\"edge\">\n<title>137537989872608&#45;&gt;137537989871312</title>\n<path fill=\"none\" stroke=\"black\" d=\"M258.83,-188.98C241.21,-180.5 213.92,-167.35 193.57,-157.54\"/>\n<polygon fill=\"black\" stroke=\"black\" points=\"195.02,-154.36 184.49,-153.17 191.98,-160.66 195.02,-154.36\"/>\n</g>\n<!-- 137537989882160 -->\n<g id=\"node15\" class=\"node\">\n<title>137537989882160</title>\n<polygon fill=\"lightgrey\" stroke=\"black\" points=\"330,-269 229,-269 229,-250 330,-250 330,-269\"/>\n<text text-anchor=\"middle\" x=\"279.5\" y=\"-257\" font-family=\"monospace\" font-size=\"10.00\">AccumulateGrad</text>\n</g>\n<!-- 137537989882160&#45;&gt;137537989872608 -->\n<g id=\"edge13\" class=\"edge\">\n<title>137537989882160&#45;&gt;137537989872608</title>\n<path fill=\"none\" stroke=\"black\" d=\"M279.06,-249.79C278.64,-241.6 278,-229.06 277.47,-218.55\"/>\n<polygon fill=\"black\" stroke=\"black\" points=\"280.95,-218.05 276.94,-208.24 273.96,-218.41 280.95,-218.05\"/>\n</g>\n<!-- 137537989473008 -->\n<g id=\"node16\" class=\"node\">\n<title>137537989473008</title>\n<polygon fill=\"lightblue\" stroke=\"black\" points=\"309,-342 250,-342 250,-311 309,-311 309,-342\"/>\n<text text-anchor=\"middle\" x=\"279.5\" y=\"-318\" font-family=\"monospace\" font-size=\"10.00\"> (1, 3)</text>\n</g>\n<!-- 137537989473008&#45;&gt;137537989882160 -->\n<g id=\"edge14\" class=\"edge\">\n<title>137537989473008&#45;&gt;137537989882160</title>\n<path fill=\"none\" stroke=\"black\" d=\"M279.5,-310.75C279.5,-301.39 279.5,-289.19 279.5,-279.16\"/>\n<polygon fill=\"black\" stroke=\"black\" points=\"283,-279.02 279.5,-269.02 276,-279.02 283,-279.02\"/>\n</g>\n<!-- 137537989083888&#45;&gt;137537989468976 -->\n<g id=\"edge17\" class=\"edge\">\n<title>137537989083888&#45;&gt;137537989468976</title>\n<path fill=\"none\" stroke=\"black\" stroke-dasharray=\"1,5\" d=\"M203.61,-66.75C197.66,-58.69 190.15,-48.53 183.45,-39.45\"/>\n<polygon fill=\"black\" stroke=\"black\" points=\"186.1,-37.16 177.35,-31.19 180.47,-41.31 186.1,-37.16\"/>\n</g>\n</g>\n</svg>\n",
            "text/plain": [
              "<graphviz.graphs.Digraph at 0x7d170fd57950>"
            ]
          },
          "metadata": {},
          "execution_count": 33
        }
      ]
    },
    {
      "cell_type": "code",
      "source": [
        "# 연습\n",
        "model = nn.Sequential(nn.Linear(2,5), #(in_chanel,out_chanel) 니까 연결되는 부분이 같아아햠.\n",
        "                      nn.Linear(5,10),\n",
        "                      nn.Linear(10,3))\n",
        "x = torch.randn(5,2)\n",
        "print(x)\n",
        "print(model(x))\n"
      ],
      "metadata": {
        "colab": {
          "base_uri": "https://localhost:8080/"
        },
        "id": "hgVIITiGuMIK",
        "outputId": "44cfb033-964d-46c5-840a-cdd62ff0411f"
      },
      "execution_count": 34,
      "outputs": [
        {
          "output_type": "stream",
          "name": "stdout",
          "text": [
            "tensor([[ 1.1435,  0.4049],\n",
            "        [ 0.6779,  0.6024],\n",
            "        [ 0.1692, -0.3526],\n",
            "        [ 0.5215,  0.0702],\n",
            "        [-0.8877, -0.6833]])\n",
            "tensor([[-0.7111, -0.3249,  0.1462],\n",
            "        [-0.6450, -0.2629,  0.2292],\n",
            "        [-0.4901, -0.0351,  0.1470],\n",
            "        [-0.5805, -0.1602,  0.1687],\n",
            "        [-0.2849,  0.2123,  0.2203]], grad_fn=<AddmmBackward0>)\n"
          ]
        }
      ]
    },
    {
      "cell_type": "markdown",
      "source": [
        "# 모델\n"
      ],
      "metadata": {
        "id": "dAXYTepkvXBH"
      }
    },
    {
      "cell_type": "code",
      "source": [
        "class MyModel(nn.Module):\n",
        "  def __init__(self):\n",
        "    super().__init__()\n",
        "\n",
        "    self.fc1 = nn.Linear(2,5)\n",
        "    self.fc2 = nn.Linear(5,10)\n",
        "    self.fc3 = nn.Linear(10,3)\n",
        "    self.act = nn.Sigmoid()\n",
        "\n",
        "  def forward(self,x):\n",
        "    x=self.fc1(x)\n",
        "    x=self.act(x)\n",
        "    x=self.fc2(x)\n",
        "    x=self.act(x)\n",
        "    x=self.fc3(x)\n",
        "    x=self.act(x)\n",
        "    return x\n",
        "\n",
        "model=MyModel()\n",
        "x=torch.randn(5,2)\n",
        "y=model(x)\n",
        "print(y)\n",
        "print(y.shape)\n",
        "\n",
        "make_dot(y)\n"
      ],
      "metadata": {
        "colab": {
          "base_uri": "https://localhost:8080/",
          "height": 937
        },
        "id": "J72XUX_Xu4GX",
        "outputId": "9c4036d3-0210-442f-d313-e2ceef896e0e"
      },
      "execution_count": 37,
      "outputs": [
        {
          "output_type": "stream",
          "name": "stdout",
          "text": [
            "tensor([[0.5471, 0.6263, 0.5095],\n",
            "        [0.5481, 0.6244, 0.5085],\n",
            "        [0.5450, 0.6274, 0.5069],\n",
            "        [0.5465, 0.6246, 0.5056],\n",
            "        [0.5509, 0.6213, 0.5072]], grad_fn=<SigmoidBackward0>)\n",
            "torch.Size([5, 3])\n"
          ]
        },
        {
          "output_type": "execute_result",
          "data": {
            "image/svg+xml": "<?xml version=\"1.0\" encoding=\"UTF-8\" standalone=\"no\"?>\n<!DOCTYPE svg PUBLIC \"-//W3C//DTD SVG 1.1//EN\"\n \"http://www.w3.org/Graphics/SVG/1.1/DTD/svg11.dtd\">\n<!-- Generated by graphviz version 2.43.0 (0)\n -->\n<!-- Title: %3 Pages: 1 -->\n<svg width=\"418pt\" height=\"606pt\"\n viewBox=\"0.00 0.00 418.00 606.00\" xmlns=\"http://www.w3.org/2000/svg\" xmlns:xlink=\"http://www.w3.org/1999/xlink\">\n<g id=\"graph0\" class=\"graph\" transform=\"scale(1 1) rotate(0) translate(4 602)\">\n<title>%3</title>\n<polygon fill=\"white\" stroke=\"transparent\" points=\"-4,4 -4,-602 414,-602 414,4 -4,4\"/>\n<!-- 137537991491024 -->\n<g id=\"node1\" class=\"node\">\n<title>137537991491024</title>\n<polygon fill=\"#caff70\" stroke=\"black\" points=\"246,-31 187,-31 187,0 246,0 246,-31\"/>\n<text text-anchor=\"middle\" x=\"216.5\" y=\"-7\" font-family=\"monospace\" font-size=\"10.00\"> (5, 3)</text>\n</g>\n<!-- 137537990222816 -->\n<g id=\"node2\" class=\"node\">\n<title>137537990222816</title>\n<polygon fill=\"lightgrey\" stroke=\"black\" points=\"273,-86 160,-86 160,-67 273,-67 273,-86\"/>\n<text text-anchor=\"middle\" x=\"216.5\" y=\"-74\" font-family=\"monospace\" font-size=\"10.00\">SigmoidBackward0</text>\n</g>\n<!-- 137537990222816&#45;&gt;137537991491024 -->\n<g id=\"edge21\" class=\"edge\">\n<title>137537990222816&#45;&gt;137537991491024</title>\n<path fill=\"none\" stroke=\"black\" d=\"M216.5,-66.79C216.5,-60.07 216.5,-50.4 216.5,-41.34\"/>\n<polygon fill=\"black\" stroke=\"black\" points=\"220,-41.19 216.5,-31.19 213,-41.19 220,-41.19\"/>\n</g>\n<!-- 137537990224448 -->\n<g id=\"node3\" class=\"node\">\n<title>137537990224448</title>\n<polygon fill=\"lightgrey\" stroke=\"black\" points=\"267,-141 166,-141 166,-122 267,-122 267,-141\"/>\n<text text-anchor=\"middle\" x=\"216.5\" y=\"-129\" font-family=\"monospace\" font-size=\"10.00\">AddmmBackward0</text>\n</g>\n<!-- 137537990224448&#45;&gt;137537990222816 -->\n<g id=\"edge1\" class=\"edge\">\n<title>137537990224448&#45;&gt;137537990222816</title>\n<path fill=\"none\" stroke=\"black\" d=\"M216.5,-121.75C216.5,-114.8 216.5,-104.85 216.5,-96.13\"/>\n<polygon fill=\"black\" stroke=\"black\" points=\"220,-96.09 216.5,-86.09 213,-96.09 220,-96.09\"/>\n</g>\n<!-- 137537990220272 -->\n<g id=\"node4\" class=\"node\">\n<title>137537990220272</title>\n<polygon fill=\"lightgrey\" stroke=\"black\" points=\"142,-196 41,-196 41,-177 142,-177 142,-196\"/>\n<text text-anchor=\"middle\" x=\"91.5\" y=\"-184\" font-family=\"monospace\" font-size=\"10.00\">AccumulateGrad</text>\n</g>\n<!-- 137537990220272&#45;&gt;137537990224448 -->\n<g id=\"edge2\" class=\"edge\">\n<title>137537990220272&#45;&gt;137537990224448</title>\n<path fill=\"none\" stroke=\"black\" d=\"M111.58,-176.98C131.87,-168.38 163.46,-154.99 186.67,-145.15\"/>\n<polygon fill=\"black\" stroke=\"black\" points=\"188.21,-148.3 196.05,-141.17 185.48,-141.85 188.21,-148.3\"/>\n</g>\n<!-- 137537991483728 -->\n<g id=\"node5\" class=\"node\">\n<title>137537991483728</title>\n<polygon fill=\"lightblue\" stroke=\"black\" points=\"118.5,-263 64.5,-263 64.5,-232 118.5,-232 118.5,-263\"/>\n<text text-anchor=\"middle\" x=\"91.5\" y=\"-239\" font-family=\"monospace\" font-size=\"10.00\"> (3)</text>\n</g>\n<!-- 137537991483728&#45;&gt;137537990220272 -->\n<g id=\"edge3\" class=\"edge\">\n<title>137537991483728&#45;&gt;137537990220272</title>\n<path fill=\"none\" stroke=\"black\" d=\"M91.5,-231.92C91.5,-224.22 91.5,-214.69 91.5,-206.43\"/>\n<polygon fill=\"black\" stroke=\"black\" points=\"95,-206.25 91.5,-196.25 88,-206.25 95,-206.25\"/>\n</g>\n<!-- 137537990219504 -->\n<g id=\"node6\" class=\"node\">\n<title>137537990219504</title>\n<polygon fill=\"lightgrey\" stroke=\"black\" points=\"273,-196 160,-196 160,-177 273,-177 273,-196\"/>\n<text text-anchor=\"middle\" x=\"216.5\" y=\"-184\" font-family=\"monospace\" font-size=\"10.00\">SigmoidBackward0</text>\n</g>\n<!-- 137537990219504&#45;&gt;137537990224448 -->\n<g id=\"edge4\" class=\"edge\">\n<title>137537990219504&#45;&gt;137537990224448</title>\n<path fill=\"none\" stroke=\"black\" d=\"M216.5,-176.75C216.5,-169.8 216.5,-159.85 216.5,-151.13\"/>\n<polygon fill=\"black\" stroke=\"black\" points=\"220,-151.09 216.5,-141.09 213,-151.09 220,-151.09\"/>\n</g>\n<!-- 137537990217632 -->\n<g id=\"node7\" class=\"node\">\n<title>137537990217632</title>\n<polygon fill=\"lightgrey\" stroke=\"black\" points=\"262,-257 161,-257 161,-238 262,-238 262,-257\"/>\n<text text-anchor=\"middle\" x=\"211.5\" y=\"-245\" font-family=\"monospace\" font-size=\"10.00\">AddmmBackward0</text>\n</g>\n<!-- 137537990217632&#45;&gt;137537990219504 -->\n<g id=\"edge5\" class=\"edge\">\n<title>137537990217632&#45;&gt;137537990219504</title>\n<path fill=\"none\" stroke=\"black\" d=\"M212.24,-237.79C212.94,-229.52 214.02,-216.79 214.91,-206.21\"/>\n<polygon fill=\"black\" stroke=\"black\" points=\"218.4,-206.5 215.76,-196.24 211.43,-205.91 218.4,-206.5\"/>\n</g>\n<!-- 137537990221568 -->\n<g id=\"node8\" class=\"node\">\n<title>137537990221568</title>\n<polygon fill=\"lightgrey\" stroke=\"black\" points=\"101,-324 0,-324 0,-305 101,-305 101,-324\"/>\n<text text-anchor=\"middle\" x=\"50.5\" y=\"-312\" font-family=\"monospace\" font-size=\"10.00\">AccumulateGrad</text>\n</g>\n<!-- 137537990221568&#45;&gt;137537990217632 -->\n<g id=\"edge6\" class=\"edge\">\n<title>137537990221568&#45;&gt;137537990217632</title>\n<path fill=\"none\" stroke=\"black\" d=\"M71.88,-304.87C99.86,-293.57 149.09,-273.7 180.99,-260.82\"/>\n<polygon fill=\"black\" stroke=\"black\" points=\"182.33,-264.05 190.29,-257.06 179.71,-257.56 182.33,-264.05\"/>\n</g>\n<!-- 137537991486608 -->\n<g id=\"node9\" class=\"node\">\n<title>137537991486608</title>\n<polygon fill=\"lightblue\" stroke=\"black\" points=\"77.5,-397 23.5,-397 23.5,-366 77.5,-366 77.5,-397\"/>\n<text text-anchor=\"middle\" x=\"50.5\" y=\"-373\" font-family=\"monospace\" font-size=\"10.00\"> (10)</text>\n</g>\n<!-- 137537991486608&#45;&gt;137537990221568 -->\n<g id=\"edge7\" class=\"edge\">\n<title>137537991486608&#45;&gt;137537990221568</title>\n<path fill=\"none\" stroke=\"black\" d=\"M50.5,-365.75C50.5,-356.39 50.5,-344.19 50.5,-334.16\"/>\n<polygon fill=\"black\" stroke=\"black\" points=\"54,-334.02 50.5,-324.02 47,-334.02 54,-334.02\"/>\n</g>\n<!-- 137537990218112 -->\n<g id=\"node10\" class=\"node\">\n<title>137537990218112</title>\n<polygon fill=\"lightgrey\" stroke=\"black\" points=\"232,-324 119,-324 119,-305 232,-305 232,-324\"/>\n<text text-anchor=\"middle\" x=\"175.5\" y=\"-312\" font-family=\"monospace\" font-size=\"10.00\">SigmoidBackward0</text>\n</g>\n<!-- 137537990218112&#45;&gt;137537990217632 -->\n<g id=\"edge8\" class=\"edge\">\n<title>137537990218112&#45;&gt;137537990217632</title>\n<path fill=\"none\" stroke=\"black\" d=\"M180.36,-304.73C185.81,-294.89 194.8,-278.66 201.72,-266.16\"/>\n<polygon fill=\"black\" stroke=\"black\" points=\"204.94,-267.57 206.72,-257.13 198.81,-264.18 204.94,-267.57\"/>\n</g>\n<!-- 137537990225168 -->\n<g id=\"node11\" class=\"node\">\n<title>137537990225168</title>\n<polygon fill=\"lightgrey\" stroke=\"black\" points=\"223,-391 122,-391 122,-372 223,-372 223,-391\"/>\n<text text-anchor=\"middle\" x=\"172.5\" y=\"-379\" font-family=\"monospace\" font-size=\"10.00\">AddmmBackward0</text>\n</g>\n<!-- 137537990225168&#45;&gt;137537990218112 -->\n<g id=\"edge9\" class=\"edge\">\n<title>137537990225168&#45;&gt;137537990218112</title>\n<path fill=\"none\" stroke=\"black\" d=\"M172.9,-371.73C173.35,-362.18 174.06,-346.62 174.63,-334.28\"/>\n<polygon fill=\"black\" stroke=\"black\" points=\"178.14,-334.28 175.1,-324.13 171.14,-333.96 178.14,-334.28\"/>\n</g>\n<!-- 137537990226560 -->\n<g id=\"node12\" class=\"node\">\n<title>137537990226560</title>\n<polygon fill=\"lightgrey\" stroke=\"black\" points=\"131,-458 30,-458 30,-439 131,-439 131,-458\"/>\n<text text-anchor=\"middle\" x=\"80.5\" y=\"-446\" font-family=\"monospace\" font-size=\"10.00\">AccumulateGrad</text>\n</g>\n<!-- 137537990226560&#45;&gt;137537990225168 -->\n<g id=\"edge10\" class=\"edge\">\n<title>137537990226560&#45;&gt;137537990225168</title>\n<path fill=\"none\" stroke=\"black\" d=\"M92.91,-438.73C108.08,-428.01 133.98,-409.72 152.1,-396.91\"/>\n<polygon fill=\"black\" stroke=\"black\" points=\"154.14,-399.76 160.29,-391.13 150.1,-394.04 154.14,-399.76\"/>\n</g>\n<!-- 137537991482192 -->\n<g id=\"node13\" class=\"node\">\n<title>137537991482192</title>\n<polygon fill=\"lightblue\" stroke=\"black\" points=\"107.5,-531 53.5,-531 53.5,-500 107.5,-500 107.5,-531\"/>\n<text text-anchor=\"middle\" x=\"80.5\" y=\"-507\" font-family=\"monospace\" font-size=\"10.00\"> (5)</text>\n</g>\n<!-- 137537991482192&#45;&gt;137537990226560 -->\n<g id=\"edge11\" class=\"edge\">\n<title>137537991482192&#45;&gt;137537990226560</title>\n<path fill=\"none\" stroke=\"black\" d=\"M80.5,-499.75C80.5,-490.39 80.5,-478.19 80.5,-468.16\"/>\n<polygon fill=\"black\" stroke=\"black\" points=\"84,-468.02 80.5,-458.02 77,-468.02 84,-468.02\"/>\n</g>\n<!-- 137537990220848 -->\n<g id=\"node14\" class=\"node\">\n<title>137537990220848</title>\n<polygon fill=\"lightgrey\" stroke=\"black\" points=\"226,-458 149,-458 149,-439 226,-439 226,-458\"/>\n<text text-anchor=\"middle\" x=\"187.5\" y=\"-446\" font-family=\"monospace\" font-size=\"10.00\">TBackward0</text>\n</g>\n<!-- 137537990220848&#45;&gt;137537990225168 -->\n<g id=\"edge12\" class=\"edge\">\n<title>137537990220848&#45;&gt;137537990225168</title>\n<path fill=\"none\" stroke=\"black\" d=\"M185.48,-438.73C183.25,-429.09 179.61,-413.3 176.75,-400.91\"/>\n<polygon fill=\"black\" stroke=\"black\" points=\"180.15,-400.08 174.49,-391.13 173.33,-401.66 180.15,-400.08\"/>\n</g>\n<!-- 137537990217584 -->\n<g id=\"node15\" class=\"node\">\n<title>137537990217584</title>\n<polygon fill=\"lightgrey\" stroke=\"black\" points=\"238,-525 137,-525 137,-506 238,-506 238,-525\"/>\n<text text-anchor=\"middle\" x=\"187.5\" y=\"-513\" font-family=\"monospace\" font-size=\"10.00\">AccumulateGrad</text>\n</g>\n<!-- 137537990217584&#45;&gt;137537990220848 -->\n<g id=\"edge13\" class=\"edge\">\n<title>137537990217584&#45;&gt;137537990220848</title>\n<path fill=\"none\" stroke=\"black\" d=\"M187.5,-505.73C187.5,-496.18 187.5,-480.62 187.5,-468.28\"/>\n<polygon fill=\"black\" stroke=\"black\" points=\"191,-468.13 187.5,-458.13 184,-468.13 191,-468.13\"/>\n</g>\n<!-- 137537991483920 -->\n<g id=\"node16\" class=\"node\">\n<title>137537991483920</title>\n<polygon fill=\"lightblue\" stroke=\"black\" points=\"217,-598 158,-598 158,-567 217,-567 217,-598\"/>\n<text text-anchor=\"middle\" x=\"187.5\" y=\"-574\" font-family=\"monospace\" font-size=\"10.00\"> (5, 2)</text>\n</g>\n<!-- 137537991483920&#45;&gt;137537990217584 -->\n<g id=\"edge14\" class=\"edge\">\n<title>137537991483920&#45;&gt;137537990217584</title>\n<path fill=\"none\" stroke=\"black\" d=\"M187.5,-566.75C187.5,-557.39 187.5,-545.19 187.5,-535.16\"/>\n<polygon fill=\"black\" stroke=\"black\" points=\"191,-535.02 187.5,-525.02 184,-535.02 191,-535.02\"/>\n</g>\n<!-- 137537990219456 -->\n<g id=\"node17\" class=\"node\">\n<title>137537990219456</title>\n<polygon fill=\"lightgrey\" stroke=\"black\" points=\"327,-324 250,-324 250,-305 327,-305 327,-324\"/>\n<text text-anchor=\"middle\" x=\"288.5\" y=\"-312\" font-family=\"monospace\" font-size=\"10.00\">TBackward0</text>\n</g>\n<!-- 137537990219456&#45;&gt;137537990217632 -->\n<g id=\"edge15\" class=\"edge\">\n<title>137537990219456&#45;&gt;137537990217632</title>\n<path fill=\"none\" stroke=\"black\" d=\"M278.12,-304.73C265.65,-294.21 244.53,-276.38 229.41,-263.62\"/>\n<polygon fill=\"black\" stroke=\"black\" points=\"231.62,-260.9 221.72,-257.13 227.1,-266.25 231.62,-260.9\"/>\n</g>\n<!-- 137537990227424 -->\n<g id=\"node18\" class=\"node\">\n<title>137537990227424</title>\n<polygon fill=\"lightgrey\" stroke=\"black\" points=\"342,-391 241,-391 241,-372 342,-372 342,-391\"/>\n<text text-anchor=\"middle\" x=\"291.5\" y=\"-379\" font-family=\"monospace\" font-size=\"10.00\">AccumulateGrad</text>\n</g>\n<!-- 137537990227424&#45;&gt;137537990219456 -->\n<g id=\"edge16\" class=\"edge\">\n<title>137537990227424&#45;&gt;137537990219456</title>\n<path fill=\"none\" stroke=\"black\" d=\"M291.1,-371.73C290.65,-362.18 289.94,-346.62 289.37,-334.28\"/>\n<polygon fill=\"black\" stroke=\"black\" points=\"292.86,-333.96 288.9,-324.13 285.86,-334.28 292.86,-333.96\"/>\n</g>\n<!-- 137537991483440 -->\n<g id=\"node19\" class=\"node\">\n<title>137537991483440</title>\n<polygon fill=\"lightblue\" stroke=\"black\" points=\"324,-464 259,-464 259,-433 324,-433 324,-464\"/>\n<text text-anchor=\"middle\" x=\"291.5\" y=\"-440\" font-family=\"monospace\" font-size=\"10.00\"> (10, 5)</text>\n</g>\n<!-- 137537991483440&#45;&gt;137537990227424 -->\n<g id=\"edge17\" class=\"edge\">\n<title>137537991483440&#45;&gt;137537990227424</title>\n<path fill=\"none\" stroke=\"black\" d=\"M291.5,-432.75C291.5,-423.39 291.5,-411.19 291.5,-401.16\"/>\n<polygon fill=\"black\" stroke=\"black\" points=\"295,-401.02 291.5,-391.02 288,-401.02 295,-401.02\"/>\n</g>\n<!-- 137537990224160 -->\n<g id=\"node20\" class=\"node\">\n<title>137537990224160</title>\n<polygon fill=\"lightgrey\" stroke=\"black\" points=\"376,-196 299,-196 299,-177 376,-177 376,-196\"/>\n<text text-anchor=\"middle\" x=\"337.5\" y=\"-184\" font-family=\"monospace\" font-size=\"10.00\">TBackward0</text>\n</g>\n<!-- 137537990224160&#45;&gt;137537990224448 -->\n<g id=\"edge18\" class=\"edge\">\n<title>137537990224160&#45;&gt;137537990224448</title>\n<path fill=\"none\" stroke=\"black\" d=\"M318.06,-176.98C298.51,-168.42 268.12,-155.11 245.68,-145.28\"/>\n<polygon fill=\"black\" stroke=\"black\" points=\"246.86,-141.98 236.29,-141.17 244.05,-148.39 246.86,-141.98\"/>\n</g>\n<!-- 137537990217296 -->\n<g id=\"node21\" class=\"node\">\n<title>137537990217296</title>\n<polygon fill=\"lightgrey\" stroke=\"black\" points=\"392,-257 291,-257 291,-238 392,-238 392,-257\"/>\n<text text-anchor=\"middle\" x=\"341.5\" y=\"-245\" font-family=\"monospace\" font-size=\"10.00\">AccumulateGrad</text>\n</g>\n<!-- 137537990217296&#45;&gt;137537990224160 -->\n<g id=\"edge19\" class=\"edge\">\n<title>137537990217296&#45;&gt;137537990224160</title>\n<path fill=\"none\" stroke=\"black\" d=\"M340.91,-237.79C340.35,-229.6 339.5,-217.06 338.79,-206.55\"/>\n<polygon fill=\"black\" stroke=\"black\" points=\"342.26,-205.98 338.09,-196.24 335.28,-206.46 342.26,-205.98\"/>\n</g>\n<!-- 137537991483248 -->\n<g id=\"node22\" class=\"node\">\n<title>137537991483248</title>\n<polygon fill=\"lightblue\" stroke=\"black\" points=\"410,-330 345,-330 345,-299 410,-299 410,-330\"/>\n<text text-anchor=\"middle\" x=\"377.5\" y=\"-306\" font-family=\"monospace\" font-size=\"10.00\"> (3, 10)</text>\n</g>\n<!-- 137537991483248&#45;&gt;137537990217296 -->\n<g id=\"edge20\" class=\"edge\">\n<title>137537991483248&#45;&gt;137537990217296</title>\n<path fill=\"none\" stroke=\"black\" d=\"M369.33,-298.75C363.92,-288.99 356.81,-276.14 351.12,-265.88\"/>\n<polygon fill=\"black\" stroke=\"black\" points=\"354.12,-264.07 346.22,-257.02 348,-267.46 354.12,-264.07\"/>\n</g>\n</g>\n</svg>\n",
            "text/plain": [
              "<graphviz.graphs.Digraph at 0x7d170edda690>"
            ]
          },
          "metadata": {},
          "execution_count": 37
        }
      ]
    },
    {
      "cell_type": "code",
      "source": [
        "class MyModel2(nn.Module):\n",
        "  def __init__(self):\n",
        "    super().__init__()\n",
        "\n",
        "    self.linear = nn.Sequential(nn.Linear(2,5),\n",
        "                                nn.ReLU(),\n",
        "                                nn.Linear(5,10),\n",
        "                                nn.ReLU(),\n",
        "                                nn.Linear(10,3),\n",
        "                                nn.Sigmoid()\n",
        "    )\n",
        "  def forward(self, x):\n",
        "    x = self.linear(x)\n",
        "    return x\n",
        "\n",
        "model = MyModel2()\n",
        "x = torch.randn(5,2)\n",
        "y =model(x)\n",
        "print(y)"
      ],
      "metadata": {
        "colab": {
          "base_uri": "https://localhost:8080/"
        },
        "id": "sg3MNWpExBlJ",
        "outputId": "46d1bf5d-921c-40db-b86e-273c61fd8ad4"
      },
      "execution_count": 39,
      "outputs": [
        {
          "output_type": "stream",
          "name": "stdout",
          "text": [
            "tensor([[0.3950, 0.4847, 0.5608],\n",
            "        [0.4211, 0.4754, 0.5268],\n",
            "        [0.4211, 0.4754, 0.5268],\n",
            "        [0.3237, 0.4408, 0.6393],\n",
            "        [0.3571, 0.4659, 0.6077]], grad_fn=<SigmoidBackward0>)\n"
          ]
        }
      ]
    },
    {
      "cell_type": "code",
      "source": [
        "print(model.linear[0].weight)\n",
        "print(model.linear[-2].bias)"
      ],
      "metadata": {
        "colab": {
          "base_uri": "https://localhost:8080/"
        },
        "id": "EjFRsINb01Ve",
        "outputId": "9fac8c79-5d29-4283-bfeb-b232cdc48c4c"
      },
      "execution_count": 42,
      "outputs": [
        {
          "output_type": "stream",
          "name": "stdout",
          "text": [
            "Parameter containing:\n",
            "tensor([[-0.3989, -0.1635],\n",
            "        [-0.4182, -0.4000],\n",
            "        [-0.6153, -0.1189],\n",
            "        [-0.5074,  0.0634],\n",
            "        [-0.4452,  0.6220]], requires_grad=True)\n",
            "Parameter containing:\n",
            "tensor([-0.2538,  0.0659,  0.0368], requires_grad=True)\n"
          ]
        }
      ]
    },
    {
      "cell_type": "code",
      "source": [
        "list(model.parameters()) # weight, bias, weight, bias 순으로 파라미터들을 다 보여줌.\n",
        "# 파라미터 수를 구할때도 쓸 수 있고, transfer learning할 때 일부분 requires_grad를 False로 만들때도 이용할 수도 있다."
      ],
      "metadata": {
        "colab": {
          "base_uri": "https://localhost:8080/"
        },
        "id": "FO9Z5Rrn1j2m",
        "outputId": "fc0d2be7-a02f-4f35-84c7-5493a8c96dca"
      },
      "execution_count": 45,
      "outputs": [
        {
          "output_type": "execute_result",
          "data": {
            "text/plain": [
              "[Parameter containing:\n",
              " tensor([[-0.3989, -0.1635],\n",
              "         [-0.4182, -0.4000],\n",
              "         [-0.6153, -0.1189],\n",
              "         [-0.5074,  0.0634],\n",
              "         [-0.4452,  0.6220]], requires_grad=True),\n",
              " Parameter containing:\n",
              " tensor([ 0.6537,  0.1524,  0.3035,  0.5926, -0.0622], requires_grad=True),\n",
              " Parameter containing:\n",
              " tensor([[-0.3276,  0.2334, -0.4281, -0.3855,  0.3457],\n",
              "         [ 0.1883,  0.2791, -0.2614,  0.3346,  0.0563],\n",
              "         [ 0.1601,  0.3783,  0.0907, -0.0303,  0.3604],\n",
              "         [ 0.4224,  0.0437,  0.0771,  0.3305, -0.3818],\n",
              "         [-0.2609, -0.1496,  0.1599,  0.2671,  0.0830],\n",
              "         [ 0.3188, -0.3299,  0.2729,  0.2880,  0.2907],\n",
              "         [ 0.3580,  0.2651,  0.4191,  0.4310,  0.1269],\n",
              "         [ 0.2294, -0.1025, -0.1528, -0.0596,  0.4418],\n",
              "         [-0.0300,  0.0047,  0.2368,  0.3805,  0.0503],\n",
              "         [-0.2636,  0.2659,  0.3783, -0.3548,  0.0046]], requires_grad=True),\n",
              " Parameter containing:\n",
              " tensor([ 0.1606, -0.0804,  0.1699, -0.3873,  0.1850, -0.3294,  0.2852,  0.2849,\n",
              "          0.4178,  0.2491], requires_grad=True),\n",
              " Parameter containing:\n",
              " tensor([[ 0.1237,  0.1231,  0.0130, -0.2912,  0.2270, -0.2307, -0.3095, -0.0082,\n",
              "          -0.1568,  0.1109],\n",
              "         [-0.2571,  0.2406, -0.2171,  0.0792,  0.0437, -0.2680, -0.0820,  0.2943,\n",
              "          -0.2952, -0.1267],\n",
              "         [-0.2046,  0.2658,  0.0049,  0.1700,  0.0146,  0.0402,  0.2735, -0.2195,\n",
              "           0.2700, -0.1146]], requires_grad=True),\n",
              " Parameter containing:\n",
              " tensor([-0.2538,  0.0659,  0.0368], requires_grad=True)]"
            ]
          },
          "metadata": {},
          "execution_count": 45
        }
      ]
    },
    {
      "cell_type": "code",
      "source": [
        "num = sum([p.numel() for p in model.parameters() if p.requires_grad])\n",
        "print(num)"
      ],
      "metadata": {
        "colab": {
          "base_uri": "https://localhost:8080/"
        },
        "id": "Xi6FFXxe2B_4",
        "outputId": "7c704e5f-4e5f-4dce-fb38-370a2b3617d2"
      },
      "execution_count": 46,
      "outputs": [
        {
          "output_type": "stream",
          "name": "stdout",
          "text": [
            "108\n"
          ]
        }
      ]
    },
    {
      "cell_type": "markdown",
      "source": [
        "# Weight Initialization"
      ],
      "metadata": {
        "id": "0IdDrLhK3VwW"
      }
    },
    {
      "cell_type": "code",
      "source": [
        "import torch\n",
        "from torch import nn\n",
        "Fin=5000\n",
        "Fout=1000\n",
        "w = torch.zeros(100, Fin)\n",
        "nn.init.kaiming_uniform_(w, mode='fan_in', nonlinearity='relu') # forward pass에서 값의 범위를 유지시키기 위함\n",
        "print(w.std())\n",
        "print (torch.sqrt(torch.tensor(2/Fin)))\n",
        "w = torch.zeros(Fout, 100)\n",
        "nn.init.kaiming_uniform_(w, mode='fan_out', nonlinearity='relu') # backward pass에서 값의 범위를 유지시키기 위함\n",
        "print(w.std())\n",
        "print(torch.sqrt(torch.tensor(2/Fout)))\n",
        "# CNN?\n",
        "N=32\n",
        "C=64\n",
        "H=6\n",
        "W=10\n",
        "w = torch.zeros(N,C,H,W)\n",
        "nn.init.kaiming_uniform_(w, mode='fan_in', nonlinearity='relu')\n",
        "print(w.std())\n",
        "print(torch.sqrt(torch.tensor(2/(C*H*W))))\n",
        "\n",
        "w = torch.zeros(N,C,H,W)\n",
        "nn.init.kaiming_uniform_(w, mode='fan_out', nonlinearity='relu')\n",
        "print(w.std())\n",
        "print(torch.sqrt(torch.tensor(2/(N*H*W))))"
      ],
      "metadata": {
        "colab": {
          "base_uri": "https://localhost:8080/"
        },
        "id": "UINnrs0628zk",
        "outputId": "51a24661-8ba2-4a60-b0ba-daa12e378203"
      },
      "execution_count": 50,
      "outputs": [
        {
          "output_type": "stream",
          "name": "stdout",
          "text": [
            "tensor(0.0200)\n",
            "tensor(0.0200)\n",
            "tensor(0.0448)\n",
            "tensor(0.0447)\n",
            "tensor(0.0228)\n",
            "tensor(0.0228)\n",
            "tensor(0.0323)\n",
            "tensor(0.0323)\n"
          ]
        }
      ]
    },
    {
      "cell_type": "code",
      "source": [],
      "metadata": {
        "id": "nGp5KgTO3YH0"
      },
      "execution_count": null,
      "outputs": []
    }
  ]
}